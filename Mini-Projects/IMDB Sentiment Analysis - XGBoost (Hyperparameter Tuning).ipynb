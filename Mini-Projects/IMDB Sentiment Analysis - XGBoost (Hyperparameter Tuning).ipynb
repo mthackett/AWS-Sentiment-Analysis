{
 "cells": [
  {
   "cell_type": "markdown",
   "metadata": {},
   "source": [
    "# Sentiment Analysis\n",
    "\n",
    "## Using XGBoost in SageMaker\n",
    "\n",
    "_Deep Learning Nanodegree Program | Deployment_\n",
    "\n",
    "---\n",
    "\n",
    "In this example of using Amazon's SageMaker service we will construct a random tree model to predict the sentiment of a movie review. You may have seen a version of this example in a pervious lesson although it would have been done using the sklearn package. Instead, we will be using the XGBoost package as it is provided to us by Amazon.\n",
    "\n",
    "## Instructions\n",
    "\n",
    "Some template code has already been provided for you, and you will need to implement additional functionality to successfully complete this notebook. You will not need to modify the included code beyond what is requested. Sections that begin with '**TODO**' in the header indicate that you need to complete or implement some portion within them. Instructions will be provided for each section and the specifics of the implementation are marked in the code block with a `# TODO: ...` comment. Please be sure to read the instructions carefully!\n",
    "\n",
    "In addition to implementing code, there will be questions for you to answer which relate to the task and your implementation. Each section where you will answer a question is preceded by a '**Question:**' header. Carefully read each question and provide your answer below the '**Answer:**' header by editing the Markdown cell.\n",
    "\n",
    "> **Note**: Code and Markdown cells can be executed using the **Shift+Enter** keyboard shortcut. In addition, a cell can be edited by typically clicking it (double-click for Markdown cells) or by pressing **Enter** while it is highlighted."
   ]
  },
  {
   "cell_type": "markdown",
   "metadata": {},
   "source": [
    "## Step 1: Downloading the data\n",
    "\n",
    "The dataset we are going to use is very popular among researchers in Natural Language Processing, usually referred to as the [IMDb dataset](http://ai.stanford.edu/~amaas/data/sentiment/). It consists of movie reviews from the website [imdb.com](http://www.imdb.com/), each labeled as either '**pos**itive', if the reviewer enjoyed the film, or '**neg**ative' otherwise.\n",
    "\n",
    "> Maas, Andrew L., et al. [Learning Word Vectors for Sentiment Analysis](http://ai.stanford.edu/~amaas/data/sentiment/). In _Proceedings of the 49th Annual Meeting of the Association for Computational Linguistics: Human Language Technologies_. Association for Computational Linguistics, 2011.\n",
    "\n",
    "We begin by using some Jupyter Notebook magic to download and extract the dataset."
   ]
  },
  {
   "cell_type": "code",
   "execution_count": 1,
   "metadata": {},
   "outputs": [
    {
     "name": "stdout",
     "output_type": "stream",
     "text": [
      "mkdir: cannot create directory ‘../data’: File exists\n",
      "--2020-07-05 22:38:33--  http://ai.stanford.edu/~amaas/data/sentiment/aclImdb_v1.tar.gz\n",
      "Resolving ai.stanford.edu (ai.stanford.edu)... 171.64.68.10\n",
      "Connecting to ai.stanford.edu (ai.stanford.edu)|171.64.68.10|:80... connected.\n",
      "HTTP request sent, awaiting response... 200 OK\n",
      "Length: 84125825 (80M) [application/x-gzip]\n",
      "Saving to: ‘../data/aclImdb_v1.tar.gz’\n",
      "\n",
      "../data/aclImdb_v1. 100%[===================>]  80.23M  39.8MB/s    in 2.0s    \n",
      "\n",
      "2020-07-05 22:38:35 (39.8 MB/s) - ‘../data/aclImdb_v1.tar.gz’ saved [84125825/84125825]\n",
      "\n"
     ]
    }
   ],
   "source": [
    "%mkdir ../data\n",
    "!wget -O ../data/aclImdb_v1.tar.gz http://ai.stanford.edu/~amaas/data/sentiment/aclImdb_v1.tar.gz\n",
    "!tar -zxf ../data/aclImdb_v1.tar.gz -C ../data"
   ]
  },
  {
   "cell_type": "markdown",
   "metadata": {},
   "source": [
    "## Step 2: Preparing the data\n",
    "\n",
    "The data we have downloaded is split into various files, each of which contains a single review. It will be much easier going forward if we combine these individual files into two large files, one for training and one for testing."
   ]
  },
  {
   "cell_type": "code",
   "execution_count": 2,
   "metadata": {},
   "outputs": [],
   "source": [
    "import os\n",
    "import glob\n",
    "\n",
    "def read_imdb_data(data_dir='../data/aclImdb'):\n",
    "    data = {}\n",
    "    labels = {}\n",
    "    \n",
    "    for data_type in ['train', 'test']:\n",
    "        data[data_type] = {}\n",
    "        labels[data_type] = {}\n",
    "        \n",
    "        for sentiment in ['pos', 'neg']:\n",
    "            data[data_type][sentiment] = []\n",
    "            labels[data_type][sentiment] = []\n",
    "            \n",
    "            path = os.path.join(data_dir, data_type, sentiment, '*.txt')\n",
    "            files = glob.glob(path)\n",
    "            \n",
    "            for f in files:\n",
    "                with open(f) as review:\n",
    "                    data[data_type][sentiment].append(review.read())\n",
    "                    # Here we represent a positive review by '1' and a negative review by '0'\n",
    "                    labels[data_type][sentiment].append(1 if sentiment == 'pos' else 0)\n",
    "                    \n",
    "            assert len(data[data_type][sentiment]) == len(labels[data_type][sentiment]), \\\n",
    "                    \"{}/{} data size does not match labels size\".format(data_type, sentiment)\n",
    "                \n",
    "    return data, labels"
   ]
  },
  {
   "cell_type": "code",
   "execution_count": 3,
   "metadata": {},
   "outputs": [
    {
     "name": "stdout",
     "output_type": "stream",
     "text": [
      "IMDB reviews: train = 12500 pos / 12500 neg, test = 12500 pos / 12500 neg\n"
     ]
    }
   ],
   "source": [
    "data, labels = read_imdb_data()\n",
    "print(\"IMDB reviews: train = {} pos / {} neg, test = {} pos / {} neg\".format(\n",
    "            len(data['train']['pos']), len(data['train']['neg']),\n",
    "            len(data['test']['pos']), len(data['test']['neg'])))"
   ]
  },
  {
   "cell_type": "code",
   "execution_count": 4,
   "metadata": {},
   "outputs": [],
   "source": [
    "from sklearn.utils import shuffle\n",
    "\n",
    "def prepare_imdb_data(data, labels):\n",
    "    \"\"\"Prepare training and test sets from IMDb movie reviews.\"\"\"\n",
    "    \n",
    "    #Combine positive and negative reviews and labels\n",
    "    data_train = data['train']['pos'] + data['train']['neg']\n",
    "    data_test = data['test']['pos'] + data['test']['neg']\n",
    "    labels_train = labels['train']['pos'] + labels['train']['neg']\n",
    "    labels_test = labels['test']['pos'] + labels['test']['neg']\n",
    "    \n",
    "    #Shuffle reviews and corresponding labels within training and test sets\n",
    "    data_train, labels_train = shuffle(data_train, labels_train)\n",
    "    data_test, labels_test = shuffle(data_test, labels_test)\n",
    "    \n",
    "    # Return a unified training data, test data, training labels, test labets\n",
    "    return data_train, data_test, labels_train, labels_test"
   ]
  },
  {
   "cell_type": "code",
   "execution_count": 5,
   "metadata": {},
   "outputs": [
    {
     "name": "stdout",
     "output_type": "stream",
     "text": [
      "IMDb reviews (combined): train = 25000, test = 25000\n"
     ]
    }
   ],
   "source": [
    "train_X, test_X, train_y, test_y = prepare_imdb_data(data, labels)\n",
    "print(\"IMDb reviews (combined): train = {}, test = {}\".format(len(train_X), len(test_X)))"
   ]
  },
  {
   "cell_type": "code",
   "execution_count": 6,
   "metadata": {},
   "outputs": [
    {
     "data": {
      "text/plain": [
       "'I don\\'t have much to add to what has been said before, but it\\'s very much a film of it\\'s time, and the first (and likely only) time that the studio hung the film totally on the Dead End Kids.<br /><br />The Warner\\'s gave the boys plenty of help, from director Ray Enright and an \\'A\\' budget, to an almost magical cast of supporting actors. At every turn, we get one of those gem performances from real pros. They are too many to list, but it seems like just about everybody on the Warner\\'s lot (Sans the very biggest stars) walk through this picture. (See if you can spot John Ridgely)<br /><br />The only over the top performance is from the always reliable Eduardo Cianelli as a mob boss with a messianistic complex. He plays this character almost exactly like that of the Thuggie leader in \"Gunga Din\". He\\'s something to watch! And Marjorie Main is excellent and gets her best role since \"Dead End\".<br /><br />My bid for this one is a second feature on a double bill with something like \"City for Conquest\".<br /><br />Hooray for Warners!'"
      ]
     },
     "execution_count": 6,
     "metadata": {},
     "output_type": "execute_result"
    }
   ],
   "source": [
    "train_X[100]"
   ]
  },
  {
   "cell_type": "markdown",
   "metadata": {},
   "source": [
    "## Step 3: Processing the data\n",
    "\n",
    "Now that we have our training and testing datasets merged and ready to use, we need to start processing the raw data into something that will be useable by our machine learning algorithm. To begin with, we remove any html formatting that may appear in the reviews and perform some standard natural language processing in order to homogenize the data."
   ]
  },
  {
   "cell_type": "code",
   "execution_count": 7,
   "metadata": {},
   "outputs": [
    {
     "name": "stdout",
     "output_type": "stream",
     "text": [
      "[nltk_data] Downloading package stopwords to\n",
      "[nltk_data]     /home/ec2-user/nltk_data...\n",
      "[nltk_data]   Unzipping corpora/stopwords.zip.\n"
     ]
    }
   ],
   "source": [
    "import nltk\n",
    "nltk.download(\"stopwords\")\n",
    "from nltk.corpus import stopwords\n",
    "from nltk.stem.porter import *\n",
    "stemmer = PorterStemmer()"
   ]
  },
  {
   "cell_type": "code",
   "execution_count": 11,
   "metadata": {},
   "outputs": [],
   "source": [
    "import re\n",
    "from bs4 import BeautifulSoup\n",
    "\n",
    "def review_to_words(review):\n",
    "    text = BeautifulSoup(review, \"html.parser\").get_text() # Remove HTML tags\n",
    "    text = re.sub(r\"[^a-zA-Z0-9]\", \" \", text.lower()) # Convert to lower case\n",
    "    words = text.split() # Split string into words\n",
    "    words = [w for w in words if w not in stopwords.words(\"english\")] # Remove stopwords\n",
    "    words = [PorterStemmer().stem(w) for w in words] # stem\n",
    "    \n",
    "    return words"
   ]
  },
  {
   "cell_type": "code",
   "execution_count": 14,
   "metadata": {},
   "outputs": [],
   "source": [
    "import pickle\n",
    "\n",
    "cache_dir = os.path.join(\"../cache\", \"sentiment_analysis\")  # where to store cache files\n",
    "os.makedirs(cache_dir, exist_ok=True)  # ensure cache directory exists\n",
    "\n",
    "def preprocess_data(data_train, data_test, labels_train, labels_test,\n",
    "                    cache_dir=cache_dir, cache_file=\"preprocessed_data.pkl\"):\n",
    "    \"\"\"Convert each review to words; read from cache if available.\"\"\"\n",
    "\n",
    "    # If cache_file is not None, try to read from it first\n",
    "    cache_data = None\n",
    "    if cache_file is not None:\n",
    "        try:\n",
    "            with open(os.path.join(cache_dir, cache_file), \"rb\") as f:\n",
    "                cache_data = pickle.load(f)\n",
    "            print(\"Read preprocessed data from cache file:\", cache_file)\n",
    "        except:\n",
    "            pass  # unable to read from cache, but that's okay\n",
    "    \n",
    "    # If cache is missing, then do the heavy lifting\n",
    "    if cache_data is None:\n",
    "        # Preprocess training and test data to obtain words for each review\n",
    "        #words_train = list(map(review_to_words, data_train))\n",
    "        #words_test = list(map(review_to_words, data_test))\n",
    "        words_train = [review_to_words(review) for review in data_train]\n",
    "        words_test = [review_to_words(review) for review in data_test]\n",
    "        \n",
    "        # Write to cache file for future runs\n",
    "        if cache_file is not None:\n",
    "            cache_data = dict(words_train=words_train, words_test=words_test,\n",
    "                              labels_train=labels_train, labels_test=labels_test)\n",
    "            with open(os.path.join(cache_dir, cache_file), \"wb\") as f:\n",
    "                pickle.dump(cache_data, f)\n",
    "            print(\"Wrote preprocessed data to cache file:\", cache_file)\n",
    "    else:\n",
    "        # Unpack data loaded from cache file\n",
    "        words_train, words_test, labels_train, labels_test = (cache_data['words_train'],\n",
    "                cache_data['words_test'], cache_data['labels_train'], cache_data['labels_test'])\n",
    "    \n",
    "    return words_train, words_test, labels_train, labels_test"
   ]
  },
  {
   "cell_type": "code",
   "execution_count": 10,
   "metadata": {},
   "outputs": [
    {
     "name": "stdout",
     "output_type": "stream",
     "text": [
      "Read preprocessed data from cache file: preprocessed_data.pkl\n"
     ]
    }
   ],
   "source": [
    "# Preprocess data\n",
    "train_X, test_X, train_y, test_y = preprocess_data(train_X, test_X, train_y, test_y)"
   ]
  },
  {
   "cell_type": "markdown",
   "metadata": {},
   "source": [
    "### Extract Bag-of-Words features\n",
    "\n",
    "For the model we will be implementing, rather than using the reviews directly, we are going to transform each review into a Bag-of-Words feature representation. Keep in mind that 'in the wild' we will only have access to the training set so our transformer can only use the training set to construct a representation."
   ]
  },
  {
   "cell_type": "code",
   "execution_count": 12,
   "metadata": {},
   "outputs": [],
   "source": [
    "import numpy as np\n",
    "from sklearn.feature_extraction.text import CountVectorizer\n",
    "from sklearn.externals import joblib\n",
    "# joblib is an enhanced version of pickle that is more efficient for storing NumPy arrays\n",
    "\n",
    "def extract_BoW_features(words_train, words_test, vocabulary_size=5000,\n",
    "                         cache_dir=cache_dir, cache_file=\"bow_features.pkl\"):\n",
    "    \"\"\"Extract Bag-of-Words for a given set of documents, already preprocessed into words.\"\"\"\n",
    "    \n",
    "    # If cache_file is not None, try to read from it first\n",
    "    cache_data = None\n",
    "    if cache_file is not None:\n",
    "        try:\n",
    "            with open(os.path.join(cache_dir, cache_file), \"rb\") as f:\n",
    "                cache_data = joblib.load(f)\n",
    "            print(\"Read features from cache file:\", cache_file)\n",
    "        except:\n",
    "            pass  # unable to read from cache, but that's okay\n",
    "    \n",
    "    # If cache is missing, then do the heavy lifting\n",
    "    if cache_data is None:\n",
    "        # Fit a vectorizer to training documents and use it to transform them\n",
    "        # NOTE: Training documents have already been preprocessed and tokenized into words;\n",
    "        #       pass in dummy functions to skip those steps, e.g. preprocessor=lambda x: x\n",
    "        vectorizer = CountVectorizer(max_features=vocabulary_size,\n",
    "                preprocessor=lambda x: x, tokenizer=lambda x: x)  # already preprocessed\n",
    "        features_train = vectorizer.fit_transform(words_train).toarray()\n",
    "\n",
    "        # Apply the same vectorizer to transform the test documents (ignore unknown words)\n",
    "        features_test = vectorizer.transform(words_test).toarray()\n",
    "        \n",
    "        # NOTE: Remember to convert the features using .toarray() for a compact representation\n",
    "        \n",
    "        # Write to cache file for future runs (store vocabulary as well)\n",
    "        if cache_file is not None:\n",
    "            vocabulary = vectorizer.vocabulary_\n",
    "            cache_data = dict(features_train=features_train, features_test=features_test,\n",
    "                             vocabulary=vocabulary)\n",
    "            with open(os.path.join(cache_dir, cache_file), \"wb\") as f:\n",
    "                joblib.dump(cache_data, f)\n",
    "            print(\"Wrote features to cache file:\", cache_file)\n",
    "    else:\n",
    "        # Unpack data loaded from cache file\n",
    "        features_train, features_test, vocabulary = (cache_data['features_train'],\n",
    "                cache_data['features_test'], cache_data['vocabulary'])\n",
    "    \n",
    "    # Return both the extracted features as well as the vocabulary\n",
    "    return features_train, features_test, vocabulary"
   ]
  },
  {
   "cell_type": "code",
   "execution_count": 13,
   "metadata": {},
   "outputs": [
    {
     "name": "stdout",
     "output_type": "stream",
     "text": [
      "Read features from cache file: bow_features.pkl\n"
     ]
    }
   ],
   "source": [
    "# Extract Bag of Words features for both training and test datasets\n",
    "train_X, test_X, vocabulary = extract_BoW_features(train_X, test_X)"
   ]
  },
  {
   "cell_type": "markdown",
   "metadata": {},
   "source": [
    "## Step 4: Classification using XGBoost\n",
    "\n",
    "Now that we have created the feature representation of our training (and testing) data, it is time to start setting up and using the XGBoost classifier provided by SageMaker.\n",
    "\n",
    "### Writing the dataset\n",
    "\n",
    "The XGBoost classifier that we will be using requires the dataset to be written to a file and stored using Amazon S3. To do this, we will start by splitting the training dataset into two parts, the data we will train the model with and a validation set. Then, we will write those datasets to a file and upload the files to S3. In addition, we will write the test set input to a file and upload the file to S3. This is so that we can use SageMakers Batch Transform functionality to test our model once we've fit it."
   ]
  },
  {
   "cell_type": "code",
   "execution_count": 16,
   "metadata": {},
   "outputs": [],
   "source": [
    "import pandas as pd\n",
    "\n",
    "val_X = pd.DataFrame(train_X[:10000])\n",
    "train_X = pd.DataFrame(train_X[10000:])\n",
    "\n",
    "val_y = pd.DataFrame(train_y[:10000])\n",
    "train_y = pd.DataFrame(train_y[10000:])\n",
    "\n",
    "test_y = pd.DataFrame(test_y)\n",
    "test_X = pd.DataFrame(test_X)"
   ]
  },
  {
   "cell_type": "markdown",
   "metadata": {},
   "source": [
    "The documentation for the XGBoost algorithm in SageMaker requires that the saved datasets should contain no headers or index and that for the training and validation data, the label should occur first for each sample.\n",
    "\n",
    "For more information about this and other algorithms, the SageMaker developer documentation can be found on __[Amazon's website.](https://docs.aws.amazon.com/sagemaker/latest/dg/)__"
   ]
  },
  {
   "cell_type": "code",
   "execution_count": 17,
   "metadata": {},
   "outputs": [],
   "source": [
    "# First we make sure that the local directory in which we'd like to store the training and validation csv files exists.\n",
    "data_dir = '../data/xgboost'\n",
    "if not os.path.exists(data_dir):\n",
    "    os.makedirs(data_dir)"
   ]
  },
  {
   "cell_type": "code",
   "execution_count": 18,
   "metadata": {},
   "outputs": [],
   "source": [
    "# First, save the test data to test.csv in the data_dir directory. Note that we do not save the associated ground truth\n",
    "# labels, instead we will use them later to compare with our model output.\n",
    "\n",
    "# pd.concat([test_y, test_X], axis=1).to_csv(os.path.join(data_dir, 'test.csv'), header=False, index=False)\n",
    "\n",
    "test_X.to_csv(os.path.join(data_dir, 'test.csv'), header=False, index=False)\n",
    "pd.concat([val_y, val_X], axis=1).to_csv(os.path.join(data_dir, 'validation.csv'), header=False, index=False)\n",
    "pd.concat([train_y, train_X], axis=1).to_csv(os.path.join(data_dir, 'train.csv'), header=False, index=False)"
   ]
  },
  {
   "cell_type": "code",
   "execution_count": 1,
   "metadata": {},
   "outputs": [],
   "source": [
    "# # recreate test_X dataframe to remove labels column erroneously included.\n",
    "# import pandas as pd\n",
    "# import os\n",
    "# data_dir = '../data/xgboost'\n",
    "\n",
    "# test_X = pd.read_csv(os.path.join(data_dir, 'test.csv'), usecols=[*range(5000)])\n",
    "# test_X.to_csv(os.path.join(data_dir, 'test.csv'), header=False, index=False)"
   ]
  },
  {
   "cell_type": "code",
   "execution_count": 19,
   "metadata": {
    "scrolled": true
   },
   "outputs": [
    {
     "data": {
      "text/plain": [
       "(25000, 5000)"
      ]
     },
     "execution_count": 19,
     "metadata": {},
     "output_type": "execute_result"
    }
   ],
   "source": [
    "test_X.shape"
   ]
  },
  {
   "cell_type": "code",
   "execution_count": 20,
   "metadata": {},
   "outputs": [],
   "source": [
    "# To save a bit of memory we can set text_X, train_X, val_X, train_y and val_y to None.\n",
    "\n",
    "train_X = val_X = train_y = val_y = None"
   ]
  },
  {
   "cell_type": "markdown",
   "metadata": {},
   "source": [
    "### Uploading Training / Validation files to S3\n",
    "\n",
    "Amazon's S3 service allows us to store files that can be access by both the built-in training models such as the XGBoost model we will be using as well as custom models such as the one we will see a little later.\n",
    "\n",
    "For this, and most other tasks we will be doing using SageMaker, there are two methods we could use. The first is to use the low level functionality of SageMaker which requires knowing each of the objects involved in the SageMaker environment. The second is to use the high level functionality in which certain choices have been made on the user's behalf. The low level approach benefits from allowing the user a great deal of flexibility while the high level approach makes development much quicker. For our purposes we will opt to use the high level approach although using the low-level approach is certainly an option.\n",
    "\n",
    "Recall the method `upload_data()` which is a member of object representing our current SageMaker session. What this method does is upload the data to the default bucket (which is created if it does not exist) into the path described by the key_prefix variable. To see this for yourself, once you have uploaded the data files, go to the S3 console and look to see where the files have been uploaded.\n",
    "\n",
    "For additional resources, see the __[SageMaker API documentation](http://sagemaker.readthedocs.io/en/latest/)__ and in addition the __[SageMaker Developer Guide.](https://docs.aws.amazon.com/sagemaker/latest/dg/)__"
   ]
  },
  {
   "cell_type": "code",
   "execution_count": 21,
   "metadata": {},
   "outputs": [],
   "source": [
    "import sagemaker\n",
    "\n",
    "session = sagemaker.Session() # Store the current SageMaker session\n",
    "\n",
    "# S3 prefix (which folder will we use)\n",
    "prefix = 'sentiment-xgboost'\n",
    "\n",
    "test_location = session.upload_data(os.path.join(data_dir, 'test.csv'), key_prefix=prefix)\n",
    "val_location = session.upload_data(os.path.join(data_dir, 'validation.csv'), key_prefix=prefix)\n",
    "train_location = session.upload_data(os.path.join(data_dir, 'train.csv'), key_prefix=prefix)"
   ]
  },
  {
   "cell_type": "markdown",
   "metadata": {},
   "source": [
    "### (TODO) Creating a hypertuned XGBoost model\n",
    "\n",
    "Now that the data has been uploaded it is time to create the XGBoost model. As in the Boston Housing notebook, the first step is to create an estimator object which will be used as the *base* of your hyperparameter tuning job."
   ]
  },
  {
   "cell_type": "code",
   "execution_count": 22,
   "metadata": {},
   "outputs": [],
   "source": [
    "from sagemaker import get_execution_role\n",
    "\n",
    "# Our current execution role is require when creating the model as the training\n",
    "# and inference code will need to access the model artifacts.\n",
    "role = get_execution_role()"
   ]
  },
  {
   "cell_type": "code",
   "execution_count": 23,
   "metadata": {},
   "outputs": [],
   "source": [
    "# We need to retrieve the location of the container which is provided by Amazon for using XGBoost.\n",
    "# As a matter of convenience, the training and inference code both use the same container.\n",
    "from sagemaker.amazon.amazon_estimator import get_image_uri\n",
    "\n",
    "container = get_image_uri(session.boto_region_name, 'xgboost', '0.90-1')"
   ]
  },
  {
   "cell_type": "code",
   "execution_count": 24,
   "metadata": {},
   "outputs": [],
   "source": [
    "# TODO: Create a SageMaker estimator using the container location determined in the previous cell.\n",
    "#       It is recommended that you use a single training instance of type ml.m4.xlarge. It is also\n",
    "#       recommended that you use 's3://{}/{}/output'.format(session.default_bucket(), prefix) as the\n",
    "#       output path.\n",
    "\n",
    "xgb = sagemaker.estimator.Estimator(container,\n",
    "                         role,\n",
    "                         train_instance_count=1,\n",
    "                         train_instance_type='ml.m4.xlarge',\n",
    "                         output_path='s3://{}/{}/output'.format(session.default_bucket(), prefix),\n",
    "                         sagemaker_session=session)\n",
    "\n",
    "# TODO: Set the XGBoost hyperparameters in the xgb object. Don't forget that in this case we have a binary\n",
    "#       label so we should be using the 'binary:logistic' objective.\n",
    "xgb.set_hyperparameters(max_depth=5,\n",
    "                       eta=0.2,\n",
    "                       gamma=4,\n",
    "                       min_child_weight=6,\n",
    "                       subsample=0.8,\n",
    "                       objective='binary:logistic',\n",
    "                       early_stopping_rounds=10,\n",
    "                       num_round=500)\n"
   ]
  },
  {
   "cell_type": "markdown",
   "metadata": {},
   "source": [
    "### (TODO) Create the hyperparameter tuner\n",
    "\n",
    "Now that the base estimator has been set up we need to construct a hyperparameter tuner object which we will use to request SageMaker construct a hyperparameter tuning job.\n",
    "\n",
    "**Note:** Training a single sentiment analysis XGBoost model takes longer than training a Boston Housing XGBoost model so if you don't want the hyperparameter tuning job to take too long, make sure to not set the total number of models (jobs) too high."
   ]
  },
  {
   "cell_type": "code",
   "execution_count": 25,
   "metadata": {},
   "outputs": [],
   "source": [
    "# First, make sure to import the relevant objects used to construct the tuner\n",
    "from sagemaker.tuner import IntegerParameter, ContinuousParameter, HyperparameterTuner\n",
    "\n",
    "# TODO: Create the hyperparameter tuner object\n",
    "\n",
    "xgb_hyperparameter_tuner = HyperparameterTuner(estimator=xgb,\n",
    "                                               objective_metric_name='validation:rmse',\n",
    "                                               objective_type='Minimize',\n",
    "                                               max_jobs=6,\n",
    "                                               max_parallel_jobs=3,\n",
    "                                               hyperparameter_ranges={'max_depth':IntegerParameter(3,12),\n",
    "                                                                      'eta':ContinuousParameter(0.05,0.5),\n",
    "                                                                      'min_child_weight':IntegerParameter(2,8),\n",
    "                                                                      'subsample':ContinuousParameter(0.5,0.9),\n",
    "                                                                      'gamma':ContinuousParameter(0,10)})\n",
    "\n"
   ]
  },
  {
   "cell_type": "markdown",
   "metadata": {},
   "source": [
    "### Fit the hyperparameter tuner\n",
    "\n",
    "Now that the hyperparameter tuner object has been constructed, it is time to fit the various models and find the best performing model."
   ]
  },
  {
   "cell_type": "code",
   "execution_count": 26,
   "metadata": {},
   "outputs": [],
   "source": [
    "s3_input_train = sagemaker.s3_input(s3_data=train_location, content_type='csv')\n",
    "s3_input_validation = sagemaker.s3_input(s3_data=val_location, content_type='csv')"
   ]
  },
  {
   "cell_type": "code",
   "execution_count": 27,
   "metadata": {},
   "outputs": [],
   "source": [
    "xgb_hyperparameter_tuner.fit({'train': s3_input_train, 'validation': s3_input_validation})"
   ]
  },
  {
   "cell_type": "markdown",
   "metadata": {},
   "source": [
    "Remember that the tuning job is constructed and run in the background so if we want to see the progress of our training job we need to call the `wait()` method."
   ]
  },
  {
   "cell_type": "code",
   "execution_count": 28,
   "metadata": {},
   "outputs": [
    {
     "name": "stdout",
     "output_type": "stream",
     "text": [
      ".....................................................................................................................................................................................................................................................................................................................................................................................................................!\n"
     ]
    }
   ],
   "source": [
    "xgb_hyperparameter_tuner.wait()"
   ]
  },
  {
   "cell_type": "markdown",
   "metadata": {},
   "source": [
    "### (TODO) Testing the model\n",
    "\n",
    "Now that we've run our hyperparameter tuning job, it's time to see how well the best performing model actually performs. To do this we will use SageMaker's Batch Transform functionality. Batch Transform is a convenient way to perform inference on a large dataset in a way that is not realtime. That is, we don't necessarily need to use our model's results immediately and instead we can peform inference on a large number of samples. An example of this in industry might be peforming an end of month report. This method of inference can also be useful to us as it means to can perform inference on our entire test set. \n",
    "\n",
    "Remember that in order to create a transformer object to perform the batch transform job, we need a trained estimator object. We can do that using the `attach()` method, creating an estimator object which is attached to the best trained job."
   ]
  },
  {
   "cell_type": "code",
   "execution_count": 29,
   "metadata": {},
   "outputs": [
    {
     "name": "stdout",
     "output_type": "stream",
     "text": [
      "2020-07-05 23:33:30 Starting - Preparing the instances for training\n",
      "2020-07-05 23:33:30 Downloading - Downloading input data\n",
      "2020-07-05 23:33:30 Training - Training image download completed. Training in progress.\n",
      "2020-07-05 23:33:30 Uploading - Uploading generated training model\n",
      "2020-07-05 23:33:30 Completed - Training job completed\u001b[34mINFO:sagemaker-containers:Imported framework sagemaker_xgboost_container.training\u001b[0m\n",
      "\u001b[34mINFO:sagemaker-containers:Failed to parse hyperparameter _tuning_objective_metric value validation:rmse to Json.\u001b[0m\n",
      "\u001b[34mReturning the value itself\u001b[0m\n",
      "\u001b[34mINFO:sagemaker-containers:Failed to parse hyperparameter objective value binary:logistic to Json.\u001b[0m\n",
      "\u001b[34mReturning the value itself\u001b[0m\n",
      "\u001b[34mINFO:sagemaker-containers:No GPUs detected (normal if no gpus installed)\u001b[0m\n",
      "\u001b[34mINFO:sagemaker_xgboost_container.training:Running XGBoost Sagemaker in algorithm mode\u001b[0m\n",
      "\u001b[34mINFO:root:Determined delimiter of CSV input is ','\u001b[0m\n",
      "\u001b[34mINFO:root:Determined delimiter of CSV input is ','\u001b[0m\n",
      "\u001b[34mINFO:root:Determined delimiter of CSV input is ','\u001b[0m\n",
      "\u001b[34m[23:17:17] 15000x5000 matrix with 75000000 entries loaded from /opt/ml/input/data/train?format=csv&label_column=0&delimiter=,\u001b[0m\n",
      "\u001b[34mINFO:root:Determined delimiter of CSV input is ','\u001b[0m\n",
      "\u001b[34m[23:17:18] 10000x5000 matrix with 50000000 entries loaded from /opt/ml/input/data/validation?format=csv&label_column=0&delimiter=,\u001b[0m\n",
      "\u001b[34mINFO:root:Single node training.\u001b[0m\n",
      "\u001b[34mINFO:root:Setting up HPO optimized metric to be : rmse\u001b[0m\n",
      "\u001b[34mINFO:root:Train matrix has 15000 rows\u001b[0m\n",
      "\u001b[34mINFO:root:Validation matrix has 10000 rows\u001b[0m\n",
      "\u001b[34m[0]#011train-rmse:0.478681#011validation-rmse:0.481857\u001b[0m\n",
      "\u001b[34m[1]#011train-rmse:0.460982#011validation-rmse:0.467015\u001b[0m\n",
      "\u001b[34m[2]#011train-rmse:0.446179#011validation-rmse:0.455101\u001b[0m\n",
      "\u001b[34m[3]#011train-rmse:0.433386#011validation-rmse:0.445536\u001b[0m\n",
      "\u001b[34m[4]#011train-rmse:0.422111#011validation-rmse:0.43705\u001b[0m\n",
      "\u001b[34m[5]#011train-rmse:0.412361#011validation-rmse:0.430125\u001b[0m\n",
      "\u001b[34m[6]#011train-rmse:0.403978#011validation-rmse:0.423973\u001b[0m\n",
      "\u001b[34m[7]#011train-rmse:0.396087#011validation-rmse:0.418631\u001b[0m\n",
      "\u001b[34m[8]#011train-rmse:0.389469#011validation-rmse:0.414091\u001b[0m\n",
      "\u001b[34m[9]#011train-rmse:0.382918#011validation-rmse:0.409303\u001b[0m\n",
      "\u001b[34m[10]#011train-rmse:0.377286#011validation-rmse:0.405413\u001b[0m\n",
      "\u001b[34m[11]#011train-rmse:0.372071#011validation-rmse:0.401909\u001b[0m\n",
      "\u001b[34m[12]#011train-rmse:0.366536#011validation-rmse:0.398216\u001b[0m\n",
      "\u001b[34m[13]#011train-rmse:0.362058#011validation-rmse:0.395148\u001b[0m\n",
      "\u001b[34m[14]#011train-rmse:0.357887#011validation-rmse:0.392805\u001b[0m\n",
      "\u001b[34m[15]#011train-rmse:0.353148#011validation-rmse:0.389885\u001b[0m\n",
      "\u001b[34m[16]#011train-rmse:0.349097#011validation-rmse:0.387497\u001b[0m\n",
      "\u001b[34m[17]#011train-rmse:0.344155#011validation-rmse:0.385489\u001b[0m\n",
      "\u001b[34m[18]#011train-rmse:0.339727#011validation-rmse:0.382974\u001b[0m\n",
      "\u001b[34m[19]#011train-rmse:0.336306#011validation-rmse:0.380839\u001b[0m\n",
      "\u001b[34m[20]#011train-rmse:0.333113#011validation-rmse:0.378816\u001b[0m\n",
      "\u001b[34m[21]#011train-rmse:0.329331#011validation-rmse:0.376826\u001b[0m\n",
      "\u001b[34m[22]#011train-rmse:0.326502#011validation-rmse:0.375059\u001b[0m\n",
      "\u001b[34m[23]#011train-rmse:0.323094#011validation-rmse:0.373529\u001b[0m\n",
      "\u001b[34m[24]#011train-rmse:0.3203#011validation-rmse:0.372162\u001b[0m\n",
      "\u001b[34m[25]#011train-rmse:0.317426#011validation-rmse:0.370714\u001b[0m\n",
      "\u001b[34m[26]#011train-rmse:0.313993#011validation-rmse:0.368918\u001b[0m\n",
      "\u001b[34m[27]#011train-rmse:0.311842#011validation-rmse:0.367474\u001b[0m\n",
      "\u001b[34m[28]#011train-rmse:0.308654#011validation-rmse:0.36581\u001b[0m\n",
      "\u001b[34m[29]#011train-rmse:0.306339#011validation-rmse:0.364578\u001b[0m\n",
      "\u001b[34m[30]#011train-rmse:0.303844#011validation-rmse:0.363479\u001b[0m\n",
      "\u001b[34m[31]#011train-rmse:0.300181#011validation-rmse:0.362046\u001b[0m\n",
      "\u001b[34m[32]#011train-rmse:0.297864#011validation-rmse:0.360807\u001b[0m\n",
      "\u001b[34m[33]#011train-rmse:0.295573#011validation-rmse:0.359763\u001b[0m\n",
      "\u001b[34m[34]#011train-rmse:0.293211#011validation-rmse:0.358862\u001b[0m\n",
      "\u001b[34m[35]#011train-rmse:0.290456#011validation-rmse:0.3578\u001b[0m\n",
      "\u001b[34m[36]#011train-rmse:0.288814#011validation-rmse:0.356745\u001b[0m\n",
      "\u001b[34m[37]#011train-rmse:0.286751#011validation-rmse:0.355762\u001b[0m\n",
      "\u001b[34m[38]#011train-rmse:0.285037#011validation-rmse:0.354687\u001b[0m\n",
      "\u001b[34m[39]#011train-rmse:0.282779#011validation-rmse:0.353816\u001b[0m\n",
      "\u001b[34m[40]#011train-rmse:0.280071#011validation-rmse:0.353144\u001b[0m\n",
      "\u001b[34m[41]#011train-rmse:0.278291#011validation-rmse:0.352011\u001b[0m\n",
      "\u001b[34m[42]#011train-rmse:0.276911#011validation-rmse:0.351104\u001b[0m\n",
      "\u001b[34m[43]#011train-rmse:0.274492#011validation-rmse:0.350139\u001b[0m\n",
      "\u001b[34m[44]#011train-rmse:0.273061#011validation-rmse:0.349425\u001b[0m\n",
      "\u001b[34m[45]#011train-rmse:0.271721#011validation-rmse:0.348515\u001b[0m\n",
      "\u001b[34m[46]#011train-rmse:0.269298#011validation-rmse:0.347697\u001b[0m\n",
      "\u001b[34m[47]#011train-rmse:0.267225#011validation-rmse:0.346924\u001b[0m\n",
      "\u001b[34m[48]#011train-rmse:0.265921#011validation-rmse:0.346179\u001b[0m\n",
      "\u001b[34m[49]#011train-rmse:0.26386#011validation-rmse:0.345313\u001b[0m\n",
      "\u001b[34m[50]#011train-rmse:0.262529#011validation-rmse:0.344695\u001b[0m\n",
      "\u001b[34m[51]#011train-rmse:0.260979#011validation-rmse:0.343929\u001b[0m\n",
      "\u001b[34m[52]#011train-rmse:0.259807#011validation-rmse:0.343449\u001b[0m\n",
      "\u001b[34m[53]#011train-rmse:0.258382#011validation-rmse:0.343015\u001b[0m\n",
      "\u001b[34m[54]#011train-rmse:0.257049#011validation-rmse:0.342352\u001b[0m\n",
      "\u001b[34m[55]#011train-rmse:0.2559#011validation-rmse:0.341761\u001b[0m\n",
      "\u001b[34m[56]#011train-rmse:0.254204#011validation-rmse:0.341216\u001b[0m\n",
      "\u001b[34m[57]#011train-rmse:0.252782#011validation-rmse:0.340667\u001b[0m\n",
      "\u001b[34m[58]#011train-rmse:0.25139#011validation-rmse:0.340056\u001b[0m\n",
      "\u001b[34m[59]#011train-rmse:0.24963#011validation-rmse:0.33964\u001b[0m\n",
      "\u001b[34m[60]#011train-rmse:0.247887#011validation-rmse:0.339071\u001b[0m\n",
      "\u001b[34m[61]#011train-rmse:0.246244#011validation-rmse:0.33845\u001b[0m\n",
      "\u001b[34m[62]#011train-rmse:0.245144#011validation-rmse:0.337898\u001b[0m\n",
      "\u001b[34m[63]#011train-rmse:0.243676#011validation-rmse:0.337254\u001b[0m\n",
      "\u001b[34m[64]#011train-rmse:0.241721#011validation-rmse:0.336822\u001b[0m\n",
      "\u001b[34m[65]#011train-rmse:0.24043#011validation-rmse:0.336292\u001b[0m\n",
      "\u001b[34m[66]#011train-rmse:0.239538#011validation-rmse:0.335868\u001b[0m\n",
      "\u001b[34m[67]#011train-rmse:0.238365#011validation-rmse:0.335459\u001b[0m\n",
      "\u001b[34m[68]#011train-rmse:0.237109#011validation-rmse:0.33479\u001b[0m\n",
      "\u001b[34m[69]#011train-rmse:0.236014#011validation-rmse:0.334184\u001b[0m\n",
      "\u001b[34m[70]#011train-rmse:0.235242#011validation-rmse:0.33367\u001b[0m\n",
      "\u001b[34m[71]#011train-rmse:0.233916#011validation-rmse:0.333057\u001b[0m\n",
      "\u001b[34m[72]#011train-rmse:0.233149#011validation-rmse:0.332667\u001b[0m\n",
      "\u001b[34m[73]#011train-rmse:0.232008#011validation-rmse:0.33236\u001b[0m\n",
      "\u001b[34m[74]#011train-rmse:0.230906#011validation-rmse:0.332121\u001b[0m\n",
      "\u001b[34m[75]#011train-rmse:0.229739#011validation-rmse:0.331686\u001b[0m\n",
      "\u001b[34m[76]#011train-rmse:0.229036#011validation-rmse:0.331358\u001b[0m\n",
      "\u001b[34m[77]#011train-rmse:0.227948#011validation-rmse:0.330774\u001b[0m\n",
      "\u001b[34m[78]#011train-rmse:0.227098#011validation-rmse:0.330633\u001b[0m\n",
      "\u001b[34m[79]#011train-rmse:0.226232#011validation-rmse:0.330508\u001b[0m\n",
      "\u001b[34m[80]#011train-rmse:0.225139#011validation-rmse:0.33008\u001b[0m\n",
      "\u001b[34m[81]#011train-rmse:0.224426#011validation-rmse:0.329533\u001b[0m\n",
      "\u001b[34m[82]#011train-rmse:0.223217#011validation-rmse:0.32889\u001b[0m\n",
      "\u001b[34m[83]#011train-rmse:0.222289#011validation-rmse:0.328512\u001b[0m\n",
      "\u001b[34m[84]#011train-rmse:0.221557#011validation-rmse:0.328215\u001b[0m\n",
      "\u001b[34m[85]#011train-rmse:0.220167#011validation-rmse:0.327878\u001b[0m\n",
      "\u001b[34m[86]#011train-rmse:0.219192#011validation-rmse:0.32763\u001b[0m\n",
      "\u001b[34m[87]#011train-rmse:0.218404#011validation-rmse:0.327243\u001b[0m\n",
      "\u001b[34m[88]#011train-rmse:0.217582#011validation-rmse:0.326768\u001b[0m\n",
      "\u001b[34m[89]#011train-rmse:0.216761#011validation-rmse:0.326449\u001b[0m\n",
      "\u001b[34m[90]#011train-rmse:0.21611#011validation-rmse:0.326332\u001b[0m\n",
      "\u001b[34m[91]#011train-rmse:0.215417#011validation-rmse:0.32609\u001b[0m\n",
      "\u001b[34m[92]#011train-rmse:0.214863#011validation-rmse:0.325825\u001b[0m\n",
      "\u001b[34m[93]#011train-rmse:0.214247#011validation-rmse:0.325549\u001b[0m\n",
      "\u001b[34m[94]#011train-rmse:0.21344#011validation-rmse:0.325265\u001b[0m\n",
      "\u001b[34m[95]#011train-rmse:0.212691#011validation-rmse:0.324982\u001b[0m\n",
      "\u001b[34m[96]#011train-rmse:0.212016#011validation-rmse:0.324584\u001b[0m\n",
      "\u001b[34m[97]#011train-rmse:0.211334#011validation-rmse:0.324278\u001b[0m\n",
      "\u001b[34m[98]#011train-rmse:0.210618#011validation-rmse:0.324111\u001b[0m\n",
      "\u001b[34m[99]#011train-rmse:0.209952#011validation-rmse:0.323865\u001b[0m\n",
      "\u001b[34m[100]#011train-rmse:0.209417#011validation-rmse:0.323574\u001b[0m\n",
      "\u001b[34m[101]#011train-rmse:0.208325#011validation-rmse:0.323266\u001b[0m\n",
      "\u001b[34m[102]#011train-rmse:0.207641#011validation-rmse:0.323148\u001b[0m\n",
      "\u001b[34m[103]#011train-rmse:0.206596#011validation-rmse:0.322933\u001b[0m\n",
      "\u001b[34m[104]#011train-rmse:0.206153#011validation-rmse:0.322623\u001b[0m\n",
      "\u001b[34m[105]#011train-rmse:0.205259#011validation-rmse:0.322254\u001b[0m\n",
      "\u001b[34m[106]#011train-rmse:0.204244#011validation-rmse:0.32197\u001b[0m\n",
      "\u001b[34m[107]#011train-rmse:0.203261#011validation-rmse:0.32174\u001b[0m\n",
      "\u001b[34m[108]#011train-rmse:0.202401#011validation-rmse:0.32148\u001b[0m\n",
      "\u001b[34m[109]#011train-rmse:0.201749#011validation-rmse:0.321267\u001b[0m\n",
      "\u001b[34m[110]#011train-rmse:0.201298#011validation-rmse:0.321086\u001b[0m\n",
      "\u001b[34m[111]#011train-rmse:0.20052#011validation-rmse:0.320803\u001b[0m\n",
      "\u001b[34m[112]#011train-rmse:0.199403#011validation-rmse:0.32051\u001b[0m\n",
      "\u001b[34m[113]#011train-rmse:0.198452#011validation-rmse:0.320261\u001b[0m\n",
      "\u001b[34m[114]#011train-rmse:0.197779#011validation-rmse:0.320001\u001b[0m\n",
      "\u001b[34m[115]#011train-rmse:0.196925#011validation-rmse:0.319841\u001b[0m\n",
      "\u001b[34m[116]#011train-rmse:0.195802#011validation-rmse:0.319695\u001b[0m\n",
      "\u001b[34m[117]#011train-rmse:0.19505#011validation-rmse:0.319577\u001b[0m\n",
      "\u001b[34m[118]#011train-rmse:0.194491#011validation-rmse:0.319339\u001b[0m\n",
      "\u001b[34m[119]#011train-rmse:0.193884#011validation-rmse:0.319089\u001b[0m\n",
      "\u001b[34m[120]#011train-rmse:0.19346#011validation-rmse:0.318916\u001b[0m\n",
      "\u001b[34m[121]#011train-rmse:0.192768#011validation-rmse:0.318672\u001b[0m\n",
      "\u001b[34m[122]#011train-rmse:0.192246#011validation-rmse:0.318416\u001b[0m\n",
      "\u001b[34m[123]#011train-rmse:0.191722#011validation-rmse:0.318226\u001b[0m\n",
      "\u001b[34m[124]#011train-rmse:0.191351#011validation-rmse:0.318086\u001b[0m\n",
      "\u001b[34m[125]#011train-rmse:0.190668#011validation-rmse:0.317857\u001b[0m\n",
      "\u001b[34m[126]#011train-rmse:0.190267#011validation-rmse:0.317674\u001b[0m\n",
      "\u001b[34m[127]#011train-rmse:0.189734#011validation-rmse:0.317516\u001b[0m\n",
      "\u001b[34m[128]#011train-rmse:0.189133#011validation-rmse:0.317454\u001b[0m\n",
      "\u001b[34m[129]#011train-rmse:0.188015#011validation-rmse:0.317292\u001b[0m\n",
      "\u001b[34m[130]#011train-rmse:0.187561#011validation-rmse:0.317136\u001b[0m\n",
      "\u001b[34m[131]#011train-rmse:0.186927#011validation-rmse:0.317032\u001b[0m\n",
      "\u001b[34m[132]#011train-rmse:0.186157#011validation-rmse:0.316836\u001b[0m\n",
      "\u001b[34m[133]#011train-rmse:0.185703#011validation-rmse:0.316594\u001b[0m\n",
      "\u001b[34m[134]#011train-rmse:0.185131#011validation-rmse:0.316476\u001b[0m\n",
      "\u001b[34m[135]#011train-rmse:0.184667#011validation-rmse:0.316445\u001b[0m\n",
      "\u001b[34m[136]#011train-rmse:0.184307#011validation-rmse:0.316243\u001b[0m\n",
      "\u001b[34m[137]#011train-rmse:0.184024#011validation-rmse:0.316032\u001b[0m\n",
      "\u001b[34m[138]#011train-rmse:0.183466#011validation-rmse:0.315882\u001b[0m\n",
      "\u001b[34m[139]#011train-rmse:0.182923#011validation-rmse:0.315775\u001b[0m\n",
      "\u001b[34m[140]#011train-rmse:0.182496#011validation-rmse:0.315778\u001b[0m\n",
      "\u001b[34m[141]#011train-rmse:0.182181#011validation-rmse:0.315648\u001b[0m\n",
      "\u001b[34m[142]#011train-rmse:0.181728#011validation-rmse:0.315421\u001b[0m\n",
      "\u001b[34m[143]#011train-rmse:0.181111#011validation-rmse:0.315379\u001b[0m\n",
      "\u001b[34m[144]#011train-rmse:0.180542#011validation-rmse:0.315274\u001b[0m\n",
      "\u001b[34m[145]#011train-rmse:0.180179#011validation-rmse:0.315204\u001b[0m\n",
      "\u001b[34m[146]#011train-rmse:0.179531#011validation-rmse:0.314979\u001b[0m\n",
      "\u001b[34m[147]#011train-rmse:0.179044#011validation-rmse:0.314839\u001b[0m\n",
      "\u001b[34m[148]#011train-rmse:0.178657#011validation-rmse:0.314774\u001b[0m\n",
      "\u001b[34m[149]#011train-rmse:0.178253#011validation-rmse:0.314638\u001b[0m\n",
      "\u001b[34m[150]#011train-rmse:0.177787#011validation-rmse:0.314547\u001b[0m\n",
      "\u001b[34m[151]#011train-rmse:0.177496#011validation-rmse:0.314512\u001b[0m\n",
      "\u001b[34m[152]#011train-rmse:0.176822#011validation-rmse:0.314321\u001b[0m\n",
      "\u001b[34m[153]#011train-rmse:0.175651#011validation-rmse:0.314071\u001b[0m\n",
      "\u001b[34m[154]#011train-rmse:0.175387#011validation-rmse:0.313925\u001b[0m\n",
      "\u001b[34m[155]#011train-rmse:0.174906#011validation-rmse:0.313844\u001b[0m\n",
      "\u001b[34m[156]#011train-rmse:0.17442#011validation-rmse:0.313758\u001b[0m\n",
      "\u001b[34m[157]#011train-rmse:0.173881#011validation-rmse:0.313699\u001b[0m\n",
      "\u001b[34m[158]#011train-rmse:0.173618#011validation-rmse:0.313642\u001b[0m\n",
      "\u001b[34m[159]#011train-rmse:0.173188#011validation-rmse:0.313606\u001b[0m\n",
      "\u001b[34m[160]#011train-rmse:0.172654#011validation-rmse:0.313423\u001b[0m\n",
      "\u001b[34m[161]#011train-rmse:0.172177#011validation-rmse:0.313262\u001b[0m\n",
      "\u001b[34m[162]#011train-rmse:0.171902#011validation-rmse:0.31317\u001b[0m\n",
      "\u001b[34m[163]#011train-rmse:0.171354#011validation-rmse:0.312767\u001b[0m\n",
      "\u001b[34m[164]#011train-rmse:0.17082#011validation-rmse:0.312725\u001b[0m\n",
      "\u001b[34m[165]#011train-rmse:0.170383#011validation-rmse:0.312524\u001b[0m\n",
      "\u001b[34m[166]#011train-rmse:0.170066#011validation-rmse:0.312357\u001b[0m\n",
      "\u001b[34m[167]#011train-rmse:0.169814#011validation-rmse:0.312138\u001b[0m\n",
      "\u001b[34m[168]#011train-rmse:0.169523#011validation-rmse:0.311978\u001b[0m\n",
      "\u001b[34m[169]#011train-rmse:0.169062#011validation-rmse:0.311885\u001b[0m\n",
      "\u001b[34m[170]#011train-rmse:0.168486#011validation-rmse:0.311814\u001b[0m\n",
      "\u001b[34m[171]#011train-rmse:0.167889#011validation-rmse:0.311622\u001b[0m\n",
      "\u001b[34m[172]#011train-rmse:0.167598#011validation-rmse:0.311533\u001b[0m\n",
      "\u001b[34m[173]#011train-rmse:0.16666#011validation-rmse:0.311477\u001b[0m\n",
      "\u001b[34m[174]#011train-rmse:0.166073#011validation-rmse:0.311346\u001b[0m\n",
      "\u001b[34m[175]#011train-rmse:0.16582#011validation-rmse:0.311248\u001b[0m\n",
      "\u001b[34m[176]#011train-rmse:0.165368#011validation-rmse:0.311257\u001b[0m\n",
      "\u001b[34m[177]#011train-rmse:0.164978#011validation-rmse:0.311217\u001b[0m\n",
      "\u001b[34m[178]#011train-rmse:0.164444#011validation-rmse:0.311134\u001b[0m\n",
      "\u001b[34m[179]#011train-rmse:0.164115#011validation-rmse:0.311004\u001b[0m\n",
      "\u001b[34m[180]#011train-rmse:0.163638#011validation-rmse:0.311043\u001b[0m\n",
      "\u001b[34m[181]#011train-rmse:0.163335#011validation-rmse:0.310801\u001b[0m\n",
      "\u001b[34m[182]#011train-rmse:0.163158#011validation-rmse:0.310744\u001b[0m\n",
      "\u001b[34m[183]#011train-rmse:0.162766#011validation-rmse:0.310627\u001b[0m\n",
      "\u001b[34m[184]#011train-rmse:0.162463#011validation-rmse:0.310548\u001b[0m\n",
      "\u001b[34m[185]#011train-rmse:0.162257#011validation-rmse:0.310399\u001b[0m\n",
      "\u001b[34m[186]#011train-rmse:0.162066#011validation-rmse:0.31032\u001b[0m\n",
      "\u001b[34m[187]#011train-rmse:0.161553#011validation-rmse:0.310302\u001b[0m\n",
      "\u001b[34m[188]#011train-rmse:0.161217#011validation-rmse:0.310226\u001b[0m\n",
      "\u001b[34m[189]#011train-rmse:0.160949#011validation-rmse:0.310174\u001b[0m\n",
      "\u001b[34m[190]#011train-rmse:0.160589#011validation-rmse:0.309967\u001b[0m\n",
      "\u001b[34m[191]#011train-rmse:0.160235#011validation-rmse:0.309837\u001b[0m\n",
      "\u001b[34m[192]#011train-rmse:0.159885#011validation-rmse:0.309795\u001b[0m\n",
      "\u001b[34m[193]#011train-rmse:0.159573#011validation-rmse:0.309752\u001b[0m\n",
      "\u001b[34m[194]#011train-rmse:0.159069#011validation-rmse:0.309765\u001b[0m\n",
      "\u001b[34m[195]#011train-rmse:0.158678#011validation-rmse:0.309714\u001b[0m\n",
      "\u001b[34m[196]#011train-rmse:0.158322#011validation-rmse:0.309679\u001b[0m\n",
      "\u001b[34m[197]#011train-rmse:0.158118#011validation-rmse:0.309592\u001b[0m\n",
      "\u001b[34m[198]#011train-rmse:0.157519#011validation-rmse:0.309636\u001b[0m\n",
      "\u001b[34m[199]#011train-rmse:0.157057#011validation-rmse:0.309545\u001b[0m\n",
      "\u001b[34m[200]#011train-rmse:0.156726#011validation-rmse:0.309361\u001b[0m\n",
      "\u001b[34m[201]#011train-rmse:0.156393#011validation-rmse:0.309305\u001b[0m\n",
      "\u001b[34m[202]#011train-rmse:0.156143#011validation-rmse:0.309212\u001b[0m\n",
      "\u001b[34m[203]#011train-rmse:0.155866#011validation-rmse:0.309216\u001b[0m\n",
      "\u001b[34m[204]#011train-rmse:0.155592#011validation-rmse:0.309077\u001b[0m\n",
      "\u001b[34m[205]#011train-rmse:0.155226#011validation-rmse:0.30898\u001b[0m\n",
      "\u001b[34m[206]#011train-rmse:0.154917#011validation-rmse:0.308875\u001b[0m\n",
      "\u001b[34m[207]#011train-rmse:0.154324#011validation-rmse:0.308781\u001b[0m\n",
      "\u001b[34m[208]#011train-rmse:0.153852#011validation-rmse:0.308682\u001b[0m\n",
      "\u001b[34m[209]#011train-rmse:0.153563#011validation-rmse:0.30857\u001b[0m\n",
      "\u001b[34m[210]#011train-rmse:0.152725#011validation-rmse:0.30856\u001b[0m\n",
      "\u001b[34m[211]#011train-rmse:0.152241#011validation-rmse:0.308574\u001b[0m\n",
      "\u001b[34m[212]#011train-rmse:0.151839#011validation-rmse:0.308633\u001b[0m\n",
      "\u001b[34m[213]#011train-rmse:0.151451#011validation-rmse:0.308563\u001b[0m\n",
      "\u001b[34m[214]#011train-rmse:0.151261#011validation-rmse:0.308529\u001b[0m\n",
      "\u001b[34m[215]#011train-rmse:0.150927#011validation-rmse:0.308461\u001b[0m\n",
      "\u001b[34m[216]#011train-rmse:0.150579#011validation-rmse:0.308332\u001b[0m\n",
      "\u001b[34m[217]#011train-rmse:0.150441#011validation-rmse:0.308318\u001b[0m\n",
      "\u001b[34m[218]#011train-rmse:0.149885#011validation-rmse:0.308183\u001b[0m\n",
      "\u001b[34m[219]#011train-rmse:0.149348#011validation-rmse:0.308064\u001b[0m\n",
      "\u001b[34m[220]#011train-rmse:0.149218#011validation-rmse:0.308081\u001b[0m\n",
      "\u001b[34m[221]#011train-rmse:0.148564#011validation-rmse:0.308154\u001b[0m\n",
      "\u001b[34m[222]#011train-rmse:0.148368#011validation-rmse:0.308035\u001b[0m\n",
      "\u001b[34m[223]#011train-rmse:0.148211#011validation-rmse:0.307901\u001b[0m\n",
      "\u001b[34m[224]#011train-rmse:0.147858#011validation-rmse:0.307829\u001b[0m\n",
      "\u001b[34m[225]#011train-rmse:0.147649#011validation-rmse:0.307865\u001b[0m\n",
      "\u001b[34m[226]#011train-rmse:0.14733#011validation-rmse:0.307802\u001b[0m\n",
      "\u001b[34m[227]#011train-rmse:0.147093#011validation-rmse:0.307765\u001b[0m\n",
      "\u001b[34m[228]#011train-rmse:0.146857#011validation-rmse:0.307664\u001b[0m\n",
      "\u001b[34m[229]#011train-rmse:0.146679#011validation-rmse:0.307572\u001b[0m\n",
      "\u001b[34m[230]#011train-rmse:0.146386#011validation-rmse:0.307469\u001b[0m\n",
      "\u001b[34m[231]#011train-rmse:0.146187#011validation-rmse:0.307495\u001b[0m\n",
      "\u001b[34m[232]#011train-rmse:0.145925#011validation-rmse:0.307469\u001b[0m\n",
      "\u001b[34m[233]#011train-rmse:0.14543#011validation-rmse:0.307322\u001b[0m\n",
      "\u001b[34m[234]#011train-rmse:0.145235#011validation-rmse:0.307298\u001b[0m\n",
      "\u001b[34m[235]#011train-rmse:0.144751#011validation-rmse:0.307313\u001b[0m\n",
      "\u001b[34m[236]#011train-rmse:0.144477#011validation-rmse:0.307158\u001b[0m\n",
      "\u001b[34m[237]#011train-rmse:0.144228#011validation-rmse:0.30716\u001b[0m\n",
      "\u001b[34m[238]#011train-rmse:0.143975#011validation-rmse:0.307072\u001b[0m\n",
      "\u001b[34m[239]#011train-rmse:0.143711#011validation-rmse:0.306963\u001b[0m\n",
      "\u001b[34m[240]#011train-rmse:0.143536#011validation-rmse:0.30691\u001b[0m\n",
      "\u001b[34m[241]#011train-rmse:0.143323#011validation-rmse:0.306839\u001b[0m\n",
      "\u001b[34m[242]#011train-rmse:0.143143#011validation-rmse:0.30661\u001b[0m\n",
      "\u001b[34m[243]#011train-rmse:0.142709#011validation-rmse:0.306497\u001b[0m\n",
      "\u001b[34m[244]#011train-rmse:0.142389#011validation-rmse:0.306398\u001b[0m\n",
      "\u001b[34m[245]#011train-rmse:0.142123#011validation-rmse:0.306333\u001b[0m\n",
      "\u001b[34m[246]#011train-rmse:0.14158#011validation-rmse:0.306232\u001b[0m\n",
      "\u001b[34m[247]#011train-rmse:0.141172#011validation-rmse:0.306184\u001b[0m\n",
      "\u001b[34m[248]#011train-rmse:0.14087#011validation-rmse:0.306147\u001b[0m\n",
      "\u001b[34m[249]#011train-rmse:0.14069#011validation-rmse:0.306226\u001b[0m\n",
      "\u001b[34m[250]#011train-rmse:0.140469#011validation-rmse:0.306222\u001b[0m\n",
      "\u001b[34m[251]#011train-rmse:0.140167#011validation-rmse:0.305998\u001b[0m\n",
      "\u001b[34m[252]#011train-rmse:0.140015#011validation-rmse:0.305893\u001b[0m\n",
      "\u001b[34m[253]#011train-rmse:0.139599#011validation-rmse:0.305875\u001b[0m\n",
      "\u001b[34m[254]#011train-rmse:0.139158#011validation-rmse:0.305818\u001b[0m\n",
      "\u001b[34m[255]#011train-rmse:0.139015#011validation-rmse:0.305818\u001b[0m\n",
      "\u001b[34m[256]#011train-rmse:0.138701#011validation-rmse:0.305729\u001b[0m\n",
      "\u001b[34m[257]#011train-rmse:0.138426#011validation-rmse:0.305567\u001b[0m\n",
      "\u001b[34m[258]#011train-rmse:0.138064#011validation-rmse:0.305562\u001b[0m\n",
      "\u001b[34m[259]#011train-rmse:0.137753#011validation-rmse:0.30554\u001b[0m\n",
      "\u001b[34m[260]#011train-rmse:0.137573#011validation-rmse:0.305494\u001b[0m\n",
      "\u001b[34m[261]#011train-rmse:0.137223#011validation-rmse:0.305428\u001b[0m\n",
      "\u001b[34m[262]#011train-rmse:0.137105#011validation-rmse:0.30539\u001b[0m\n",
      "\u001b[34m[263]#011train-rmse:0.136683#011validation-rmse:0.305378\u001b[0m\n",
      "\u001b[34m[264]#011train-rmse:0.136484#011validation-rmse:0.305348\u001b[0m\n",
      "\u001b[34m[265]#011train-rmse:0.136264#011validation-rmse:0.305361\u001b[0m\n",
      "\u001b[34m[266]#011train-rmse:0.135533#011validation-rmse:0.305335\u001b[0m\n",
      "\u001b[34m[267]#011train-rmse:0.135376#011validation-rmse:0.305273\u001b[0m\n",
      "\u001b[34m[268]#011train-rmse:0.135004#011validation-rmse:0.305218\u001b[0m\n",
      "\u001b[34m[269]#011train-rmse:0.134808#011validation-rmse:0.305151\u001b[0m\n",
      "\u001b[34m[270]#011train-rmse:0.134531#011validation-rmse:0.305156\u001b[0m\n",
      "\u001b[34m[271]#011train-rmse:0.133884#011validation-rmse:0.305186\u001b[0m\n",
      "\u001b[34m[272]#011train-rmse:0.133674#011validation-rmse:0.305234\u001b[0m\n",
      "\u001b[34m[273]#011train-rmse:0.133468#011validation-rmse:0.305292\u001b[0m\n",
      "\u001b[34m[274]#011train-rmse:0.133231#011validation-rmse:0.305247\u001b[0m\n",
      "\u001b[34m[275]#011train-rmse:0.133106#011validation-rmse:0.305221\u001b[0m\n",
      "\u001b[34m[276]#011train-rmse:0.132938#011validation-rmse:0.305283\u001b[0m\n",
      "\u001b[34m[277]#011train-rmse:0.132735#011validation-rmse:0.305177\u001b[0m\n",
      "\u001b[34m[278]#011train-rmse:0.132487#011validation-rmse:0.305148\u001b[0m\n",
      "\u001b[34m[279]#011train-rmse:0.131886#011validation-rmse:0.305171\u001b[0m\n",
      "\u001b[34m[280]#011train-rmse:0.13146#011validation-rmse:0.305115\u001b[0m\n",
      "\u001b[34m[281]#011train-rmse:0.131165#011validation-rmse:0.305123\u001b[0m\n",
      "\u001b[34m[282]#011train-rmse:0.131053#011validation-rmse:0.305085\u001b[0m\n",
      "\u001b[34m[283]#011train-rmse:0.130913#011validation-rmse:0.305048\u001b[0m\n",
      "\u001b[34m[284]#011train-rmse:0.130354#011validation-rmse:0.305015\u001b[0m\n",
      "\u001b[34m[285]#011train-rmse:0.130035#011validation-rmse:0.304969\u001b[0m\n",
      "\u001b[34m[286]#011train-rmse:0.12972#011validation-rmse:0.304947\u001b[0m\n",
      "\u001b[34m[287]#011train-rmse:0.12949#011validation-rmse:0.30492\u001b[0m\n",
      "\u001b[34m[288]#011train-rmse:0.129305#011validation-rmse:0.304818\u001b[0m\n",
      "\u001b[34m[289]#011train-rmse:0.129169#011validation-rmse:0.304788\u001b[0m\n",
      "\u001b[34m[290]#011train-rmse:0.128898#011validation-rmse:0.304752\u001b[0m\n",
      "\u001b[34m[291]#011train-rmse:0.128453#011validation-rmse:0.304663\u001b[0m\n",
      "\u001b[34m[292]#011train-rmse:0.128243#011validation-rmse:0.304674\u001b[0m\n",
      "\u001b[34m[293]#011train-rmse:0.127774#011validation-rmse:0.304572\u001b[0m\n",
      "\u001b[34m[294]#011train-rmse:0.127494#011validation-rmse:0.30448\u001b[0m\n",
      "\u001b[34m[295]#011train-rmse:0.127205#011validation-rmse:0.304473\u001b[0m\n",
      "\u001b[34m[296]#011train-rmse:0.127058#011validation-rmse:0.304478\u001b[0m\n",
      "\u001b[34m[297]#011train-rmse:0.126932#011validation-rmse:0.30448\u001b[0m\n",
      "\u001b[34m[298]#011train-rmse:0.126775#011validation-rmse:0.304434\u001b[0m\n",
      "\u001b[34m[299]#011train-rmse:0.1265#011validation-rmse:0.304447\u001b[0m\n",
      "\u001b[34m[300]#011train-rmse:0.126237#011validation-rmse:0.304457\u001b[0m\n",
      "\u001b[34m[301]#011train-rmse:0.126032#011validation-rmse:0.304322\u001b[0m\n",
      "\u001b[34m[302]#011train-rmse:0.125791#011validation-rmse:0.304311\u001b[0m\n",
      "\u001b[34m[303]#011train-rmse:0.125565#011validation-rmse:0.304251\u001b[0m\n",
      "\u001b[34m[304]#011train-rmse:0.125409#011validation-rmse:0.304224\u001b[0m\n",
      "\u001b[34m[305]#011train-rmse:0.125043#011validation-rmse:0.304235\u001b[0m\n",
      "\u001b[34m[306]#011train-rmse:0.124892#011validation-rmse:0.304222\u001b[0m\n",
      "\u001b[34m[307]#011train-rmse:0.12475#011validation-rmse:0.304143\u001b[0m\n",
      "\u001b[34m[308]#011train-rmse:0.124569#011validation-rmse:0.304125\u001b[0m\n",
      "\u001b[34m[309]#011train-rmse:0.124251#011validation-rmse:0.304151\u001b[0m\n",
      "\u001b[34m[310]#011train-rmse:0.124101#011validation-rmse:0.304109\u001b[0m\n",
      "\u001b[34m[311]#011train-rmse:0.123997#011validation-rmse:0.304065\u001b[0m\n",
      "\u001b[34m[312]#011train-rmse:0.123707#011validation-rmse:0.304009\u001b[0m\n",
      "\u001b[34m[313]#011train-rmse:0.123462#011validation-rmse:0.303886\u001b[0m\n",
      "\u001b[34m[314]#011train-rmse:0.123184#011validation-rmse:0.303867\u001b[0m\n",
      "\u001b[34m[315]#011train-rmse:0.122932#011validation-rmse:0.303902\u001b[0m\n",
      "\u001b[34m[316]#011train-rmse:0.122695#011validation-rmse:0.303771\u001b[0m\n",
      "\u001b[34m[317]#011train-rmse:0.122483#011validation-rmse:0.303742\u001b[0m\n",
      "\u001b[34m[318]#011train-rmse:0.122373#011validation-rmse:0.303782\u001b[0m\n",
      "\u001b[34m[319]#011train-rmse:0.122197#011validation-rmse:0.303778\u001b[0m\n",
      "\u001b[34m[320]#011train-rmse:0.121788#011validation-rmse:0.303653\u001b[0m\n",
      "\u001b[34m[321]#011train-rmse:0.121665#011validation-rmse:0.303589\u001b[0m\n",
      "\u001b[34m[322]#011train-rmse:0.121489#011validation-rmse:0.303615\u001b[0m\n",
      "\u001b[34m[323]#011train-rmse:0.121306#011validation-rmse:0.303615\u001b[0m\n",
      "\u001b[34m[324]#011train-rmse:0.121197#011validation-rmse:0.303607\u001b[0m\n",
      "\u001b[34m[325]#011train-rmse:0.120912#011validation-rmse:0.303521\u001b[0m\n",
      "\u001b[34m[326]#011train-rmse:0.120368#011validation-rmse:0.303632\u001b[0m\n",
      "\u001b[34m[327]#011train-rmse:0.120237#011validation-rmse:0.303485\u001b[0m\n",
      "\u001b[34m[328]#011train-rmse:0.120053#011validation-rmse:0.303473\u001b[0m\n",
      "\u001b[34m[329]#011train-rmse:0.119902#011validation-rmse:0.303469\u001b[0m\n",
      "\u001b[34m[330]#011train-rmse:0.119619#011validation-rmse:0.303385\u001b[0m\n",
      "\u001b[34m[331]#011train-rmse:0.119488#011validation-rmse:0.303336\u001b[0m\n",
      "\u001b[34m[332]#011train-rmse:0.119204#011validation-rmse:0.303254\u001b[0m\n",
      "\u001b[34m[333]#011train-rmse:0.118782#011validation-rmse:0.303324\u001b[0m\n",
      "\u001b[34m[334]#011train-rmse:0.118503#011validation-rmse:0.30325\u001b[0m\n",
      "\u001b[34m[335]#011train-rmse:0.118182#011validation-rmse:0.303168\u001b[0m\n",
      "\u001b[34m[336]#011train-rmse:0.117925#011validation-rmse:0.303053\u001b[0m\n",
      "\u001b[34m[337]#011train-rmse:0.117738#011validation-rmse:0.302979\u001b[0m\n",
      "\u001b[34m[338]#011train-rmse:0.117607#011validation-rmse:0.302994\u001b[0m\n",
      "\u001b[34m[339]#011train-rmse:0.117474#011validation-rmse:0.302989\u001b[0m\n",
      "\u001b[34m[340]#011train-rmse:0.117291#011validation-rmse:0.302983\u001b[0m\n",
      "\u001b[34m[341]#011train-rmse:0.117194#011validation-rmse:0.302967\u001b[0m\n",
      "\u001b[34m[342]#011train-rmse:0.116847#011validation-rmse:0.302954\u001b[0m\n",
      "\u001b[34m[343]#011train-rmse:0.116346#011validation-rmse:0.302953\u001b[0m\n",
      "\u001b[34m[344]#011train-rmse:0.116214#011validation-rmse:0.302955\u001b[0m\n",
      "\u001b[34m[345]#011train-rmse:0.116079#011validation-rmse:0.302911\u001b[0m\n",
      "\u001b[34m[346]#011train-rmse:0.115889#011validation-rmse:0.302822\u001b[0m\n",
      "\u001b[34m[347]#011train-rmse:0.115814#011validation-rmse:0.302775\u001b[0m\n",
      "\u001b[34m[348]#011train-rmse:0.115699#011validation-rmse:0.302743\u001b[0m\n",
      "\u001b[34m[349]#011train-rmse:0.115494#011validation-rmse:0.302657\u001b[0m\n",
      "\u001b[34m[350]#011train-rmse:0.115349#011validation-rmse:0.302647\u001b[0m\n",
      "\u001b[34m[351]#011train-rmse:0.115149#011validation-rmse:0.302586\u001b[0m\n",
      "\u001b[34m[352]#011train-rmse:0.114651#011validation-rmse:0.302479\u001b[0m\n",
      "\u001b[34m[353]#011train-rmse:0.114561#011validation-rmse:0.302425\u001b[0m\n",
      "\u001b[34m[354]#011train-rmse:0.114457#011validation-rmse:0.302362\u001b[0m\n",
      "\u001b[34m[355]#011train-rmse:0.114166#011validation-rmse:0.302275\u001b[0m\n",
      "\u001b[34m[356]#011train-rmse:0.114026#011validation-rmse:0.302273\u001b[0m\n",
      "\u001b[34m[357]#011train-rmse:0.113869#011validation-rmse:0.30219\u001b[0m\n",
      "\u001b[34m[358]#011train-rmse:0.113585#011validation-rmse:0.302082\u001b[0m\n",
      "\u001b[34m[359]#011train-rmse:0.113444#011validation-rmse:0.302053\u001b[0m\n",
      "\u001b[34m[360]#011train-rmse:0.113384#011validation-rmse:0.302084\u001b[0m\n",
      "\u001b[34m[361]#011train-rmse:0.113305#011validation-rmse:0.30201\u001b[0m\n",
      "\u001b[34m[362]#011train-rmse:0.113132#011validation-rmse:0.301993\u001b[0m\n",
      "\u001b[34m[363]#011train-rmse:0.112984#011validation-rmse:0.301968\u001b[0m\n",
      "\u001b[34m[364]#011train-rmse:0.112885#011validation-rmse:0.301956\u001b[0m\n",
      "\u001b[34m[365]#011train-rmse:0.112614#011validation-rmse:0.30195\u001b[0m\n",
      "\u001b[34m[366]#011train-rmse:0.112488#011validation-rmse:0.301961\u001b[0m\n",
      "\u001b[34m[367]#011train-rmse:0.112156#011validation-rmse:0.301998\u001b[0m\n",
      "\u001b[34m[368]#011train-rmse:0.112085#011validation-rmse:0.30197\u001b[0m\n",
      "\u001b[34m[369]#011train-rmse:0.111988#011validation-rmse:0.301928\u001b[0m\n",
      "\u001b[34m[370]#011train-rmse:0.111872#011validation-rmse:0.30187\u001b[0m\n",
      "\u001b[34m[371]#011train-rmse:0.111785#011validation-rmse:0.301837\u001b[0m\n",
      "\u001b[34m[372]#011train-rmse:0.111515#011validation-rmse:0.301834\u001b[0m\n",
      "\u001b[34m[373]#011train-rmse:0.111402#011validation-rmse:0.30182\u001b[0m\n",
      "\u001b[34m[374]#011train-rmse:0.111162#011validation-rmse:0.301846\u001b[0m\n",
      "\u001b[34m[375]#011train-rmse:0.110888#011validation-rmse:0.301736\u001b[0m\n",
      "\u001b[34m[376]#011train-rmse:0.110724#011validation-rmse:0.301857\u001b[0m\n",
      "\u001b[34m[377]#011train-rmse:0.110489#011validation-rmse:0.301859\u001b[0m\n",
      "\u001b[34m[378]#011train-rmse:0.110368#011validation-rmse:0.301874\u001b[0m\n",
      "\u001b[34m[379]#011train-rmse:0.109944#011validation-rmse:0.301806\u001b[0m\n",
      "\u001b[34m[380]#011train-rmse:0.109882#011validation-rmse:0.301778\u001b[0m\n",
      "\u001b[34m[381]#011train-rmse:0.109808#011validation-rmse:0.301752\u001b[0m\n",
      "\u001b[34m[382]#011train-rmse:0.10972#011validation-rmse:0.301691\u001b[0m\n",
      "\u001b[34m[383]#011train-rmse:0.109617#011validation-rmse:0.30168\u001b[0m\n",
      "\u001b[34m[384]#011train-rmse:0.109318#011validation-rmse:0.301648\u001b[0m\n",
      "\u001b[34m[385]#011train-rmse:0.10908#011validation-rmse:0.301707\u001b[0m\n",
      "\u001b[34m[386]#011train-rmse:0.108924#011validation-rmse:0.301737\u001b[0m\n",
      "\u001b[34m[387]#011train-rmse:0.108549#011validation-rmse:0.301567\u001b[0m\n",
      "\u001b[34m[388]#011train-rmse:0.108384#011validation-rmse:0.301554\u001b[0m\n",
      "\u001b[34m[389]#011train-rmse:0.108286#011validation-rmse:0.301529\u001b[0m\n",
      "\u001b[34m[390]#011train-rmse:0.108214#011validation-rmse:0.301542\u001b[0m\n",
      "\u001b[34m[391]#011train-rmse:0.108102#011validation-rmse:0.301528\u001b[0m\n",
      "\u001b[34m[392]#011train-rmse:0.107872#011validation-rmse:0.301507\u001b[0m\n",
      "\u001b[34m[393]#011train-rmse:0.107739#011validation-rmse:0.301383\u001b[0m\n",
      "\u001b[34m[394]#011train-rmse:0.107397#011validation-rmse:0.301336\u001b[0m\n",
      "\u001b[34m[395]#011train-rmse:0.107262#011validation-rmse:0.301314\u001b[0m\n",
      "\u001b[34m[396]#011train-rmse:0.107001#011validation-rmse:0.301264\u001b[0m\n",
      "\u001b[34m[397]#011train-rmse:0.106608#011validation-rmse:0.301243\u001b[0m\n",
      "\u001b[34m[398]#011train-rmse:0.10642#011validation-rmse:0.301152\u001b[0m\n",
      "\u001b[34m[399]#011train-rmse:0.10632#011validation-rmse:0.301129\u001b[0m\n",
      "\u001b[34m[400]#011train-rmse:0.106259#011validation-rmse:0.301086\u001b[0m\n",
      "\u001b[34m[401]#011train-rmse:0.106118#011validation-rmse:0.301065\u001b[0m\n",
      "\u001b[34m[402]#011train-rmse:0.10602#011validation-rmse:0.301033\u001b[0m\n",
      "\u001b[34m[403]#011train-rmse:0.105946#011validation-rmse:0.301024\u001b[0m\n",
      "\u001b[34m[404]#011train-rmse:0.105723#011validation-rmse:0.300977\u001b[0m\n",
      "\u001b[34m[405]#011train-rmse:0.105587#011validation-rmse:0.301037\u001b[0m\n",
      "\u001b[34m[406]#011train-rmse:0.105438#011validation-rmse:0.301021\u001b[0m\n",
      "\u001b[34m[407]#011train-rmse:0.105282#011validation-rmse:0.301018\u001b[0m\n",
      "\u001b[34m[408]#011train-rmse:0.105209#011validation-rmse:0.301028\u001b[0m\n",
      "\u001b[34m[409]#011train-rmse:0.104929#011validation-rmse:0.301075\u001b[0m\n",
      "\u001b[34m[410]#011train-rmse:0.104649#011validation-rmse:0.3011\u001b[0m\n",
      "\u001b[34m[411]#011train-rmse:0.104407#011validation-rmse:0.301115\u001b[0m\n",
      "\u001b[34m[412]#011train-rmse:0.104087#011validation-rmse:0.301097\u001b[0m\n",
      "\u001b[34m[413]#011train-rmse:0.103985#011validation-rmse:0.300973\u001b[0m\n",
      "\u001b[34m[414]#011train-rmse:0.103802#011validation-rmse:0.300918\u001b[0m\n",
      "\u001b[34m[415]#011train-rmse:0.103731#011validation-rmse:0.300898\u001b[0m\n",
      "\u001b[34m[416]#011train-rmse:0.10343#011validation-rmse:0.30086\u001b[0m\n",
      "\u001b[34m[417]#011train-rmse:0.103285#011validation-rmse:0.300894\u001b[0m\n",
      "\u001b[34m[418]#011train-rmse:0.102974#011validation-rmse:0.300754\u001b[0m\n",
      "\u001b[34m[419]#011train-rmse:0.102809#011validation-rmse:0.300729\u001b[0m\n",
      "\u001b[34m[420]#011train-rmse:0.102766#011validation-rmse:0.300673\u001b[0m\n",
      "\u001b[34m[421]#011train-rmse:0.102633#011validation-rmse:0.300706\u001b[0m\n",
      "\u001b[34m[422]#011train-rmse:0.10251#011validation-rmse:0.300731\u001b[0m\n",
      "\u001b[34m[423]#011train-rmse:0.102406#011validation-rmse:0.300716\u001b[0m\n",
      "\u001b[34m[424]#011train-rmse:0.102282#011validation-rmse:0.300708\u001b[0m\n",
      "\u001b[34m[425]#011train-rmse:0.102209#011validation-rmse:0.300623\u001b[0m\n",
      "\u001b[34m[426]#011train-rmse:0.102077#011validation-rmse:0.300632\u001b[0m\n",
      "\u001b[34m[427]#011train-rmse:0.101934#011validation-rmse:0.300576\u001b[0m\n",
      "\u001b[34m[428]#011train-rmse:0.101864#011validation-rmse:0.300542\u001b[0m\n",
      "\u001b[34m[429]#011train-rmse:0.101815#011validation-rmse:0.300561\u001b[0m\n",
      "\u001b[34m[430]#011train-rmse:0.101816#011validation-rmse:0.300561\u001b[0m\n",
      "\u001b[34m[431]#011train-rmse:0.101659#011validation-rmse:0.300471\u001b[0m\n",
      "\u001b[34m[432]#011train-rmse:0.101413#011validation-rmse:0.300487\u001b[0m\n",
      "\u001b[34m[433]#011train-rmse:0.101301#011validation-rmse:0.300465\u001b[0m\n",
      "\u001b[34m[434]#011train-rmse:0.101126#011validation-rmse:0.300419\u001b[0m\n",
      "\u001b[34m[435]#011train-rmse:0.100977#011validation-rmse:0.300405\u001b[0m\n",
      "\u001b[34m[436]#011train-rmse:0.100888#011validation-rmse:0.300406\u001b[0m\n",
      "\u001b[34m[437]#011train-rmse:0.100756#011validation-rmse:0.30042\u001b[0m\n",
      "\u001b[34m[438]#011train-rmse:0.100673#011validation-rmse:0.300422\u001b[0m\n",
      "\u001b[34m[439]#011train-rmse:0.100615#011validation-rmse:0.300383\u001b[0m\n",
      "\u001b[34m[440]#011train-rmse:0.100564#011validation-rmse:0.300422\u001b[0m\n",
      "\u001b[34m[441]#011train-rmse:0.100455#011validation-rmse:0.300443\u001b[0m\n",
      "\u001b[34m[442]#011train-rmse:0.100219#011validation-rmse:0.300535\u001b[0m\n",
      "\u001b[34m[443]#011train-rmse:0.100218#011validation-rmse:0.300534\u001b[0m\n",
      "\u001b[34m[444]#011train-rmse:0.100164#011validation-rmse:0.300531\u001b[0m\n",
      "\u001b[34m[445]#011train-rmse:0.099815#011validation-rmse:0.300495\u001b[0m\n",
      "\u001b[34m[446]#011train-rmse:0.099571#011validation-rmse:0.300471\u001b[0m\n",
      "\u001b[34m[447]#011train-rmse:0.099486#011validation-rmse:0.30048\u001b[0m\n",
      "\u001b[34m[448]#011train-rmse:0.099384#011validation-rmse:0.300445\u001b[0m\n",
      "\u001b[34m[449]#011train-rmse:0.099279#011validation-rmse:0.300449\u001b[0m\n",
      "Training seconds: 1028\n",
      "Billable seconds: 1028\n"
     ]
    }
   ],
   "source": [
    "# TODO: Create a new estimator object attached to the best training job found during hyperparameter tuning\n",
    "\n",
    "xgb_attached = sagemaker.estimator.Estimator.attach(xgb_hyperparameter_tuner.best_training_job())\n"
   ]
  },
  {
   "cell_type": "markdown",
   "metadata": {},
   "source": [
    "Now that we have an estimator object attached to the correct training job, we can proceed as we normally would and create a transformer object."
   ]
  },
  {
   "cell_type": "code",
   "execution_count": 30,
   "metadata": {},
   "outputs": [],
   "source": [
    "# TODO: Create a transformer object from the attached estimator. Using an instance count of 1 and an instance type of ml.m4.xlarge\n",
    "#       should be more than enough.\n",
    "\n",
    "xgb_transformer = xgb_attached.transformer(instance_count=1, instance_type='ml.m4.xlarge')\n"
   ]
  },
  {
   "cell_type": "markdown",
   "metadata": {},
   "source": [
    "Next we actually perform the transform job. When doing so we need to make sure to specify the type of data we are sending so that it is serialized correctly in the background. In our case we are providing our model with csv data so we specify `text/csv`. Also, if the test data that we have provided is too large to process all at once then we need to specify how the data file should be split up. Since each line is a single entry in our data set we tell SageMaker that it can split the input on each line."
   ]
  },
  {
   "cell_type": "code",
   "execution_count": 31,
   "metadata": {},
   "outputs": [],
   "source": [
    "# TODO: Start the transform job. Make sure to specify the content type and the split type of the test data.\n",
    "xgb_transformer.transform(test_location, content_type='text/csv', split_type='Line')"
   ]
  },
  {
   "cell_type": "markdown",
   "metadata": {},
   "source": [
    "Currently the transform job is running but it is doing so in the background. Since we wish to wait until the transform job is done and we would like a bit of feedback we can run the `wait()` method."
   ]
  },
  {
   "cell_type": "code",
   "execution_count": 32,
   "metadata": {},
   "outputs": [
    {
     "name": "stdout",
     "output_type": "stream",
     "text": [
      "......................\u001b[34m[2020-07-05 23:39:42 +0000] [16] [INFO] Starting gunicorn 19.10.0\u001b[0m\n",
      "\u001b[34m[2020-07-05 23:39:42 +0000] [16] [INFO] Listening at: unix:/tmp/gunicorn.sock (16)\u001b[0m\n",
      "\u001b[34m[2020-07-05 23:39:42 +0000] [16] [INFO] Using worker: gevent\u001b[0m\n",
      "\u001b[34m[2020-07-05 23:39:42 +0000] [23] [INFO] Booting worker with pid: 23\u001b[0m\n",
      "\u001b[34m[2020-07-05 23:39:42 +0000] [24] [INFO] Booting worker with pid: 24\u001b[0m\n",
      "\u001b[34m[2020-07-05 23:39:42 +0000] [28] [INFO] Booting worker with pid: 28\u001b[0m\n",
      "\u001b[34m[2020-07-05 23:39:42 +0000] [32] [INFO] Booting worker with pid: 32\u001b[0m\n",
      "\u001b[34m[2020-07-05:23:39:46:INFO] No GPUs detected (normal if no gpus installed)\u001b[0m\n",
      "\u001b[34m169.254.255.130 - - [05/Jul/2020:23:39:46 +0000] \"GET /ping HTTP/1.1\" 200 0 \"-\" \"Go-http-client/1.1\"\u001b[0m\n",
      "\u001b[34m[2020-07-05:23:39:46:INFO] No GPUs detected (normal if no gpus installed)\u001b[0m\n",
      "\u001b[34m169.254.255.130 - - [05/Jul/2020:23:39:46 +0000] \"GET /execution-parameters HTTP/1.1\" 200 84 \"-\" \"Go-http-client/1.1\"\u001b[0m\n",
      "\u001b[34m[2020-07-05:23:39:50:INFO] No GPUs detected (normal if no gpus installed)\u001b[0m\n",
      "\u001b[34m[2020-07-05:23:39:50:INFO] Determined delimiter of CSV input is ','\u001b[0m\n",
      "\u001b[34m[2020-07-05:23:39:50:INFO] No GPUs detected (normal if no gpus installed)\u001b[0m\n",
      "\u001b[34m[2020-07-05:23:39:50:INFO] Determined delimiter of CSV input is ','\u001b[0m\n",
      "\u001b[34m[2020-07-05:23:39:50:INFO] Determined delimiter of CSV input is ','\u001b[0m\n",
      "\u001b[34m[2020-07-05:23:39:50:INFO] Determined delimiter of CSV input is ','\u001b[0m\n",
      "\u001b[35m[2020-07-05:23:39:50:INFO] No GPUs detected (normal if no gpus installed)\u001b[0m\n",
      "\u001b[35m[2020-07-05:23:39:50:INFO] Determined delimiter of CSV input is ','\u001b[0m\n",
      "\u001b[35m[2020-07-05:23:39:50:INFO] No GPUs detected (normal if no gpus installed)\u001b[0m\n",
      "\u001b[35m[2020-07-05:23:39:50:INFO] Determined delimiter of CSV input is ','\u001b[0m\n",
      "\u001b[35m[2020-07-05:23:39:50:INFO] Determined delimiter of CSV input is ','\u001b[0m\n",
      "\u001b[35m[2020-07-05:23:39:50:INFO] Determined delimiter of CSV input is ','\u001b[0m\n",
      "\u001b[32m2020-07-05T23:39:46.947:[sagemaker logs]: MaxConcurrentTransforms=4, MaxPayloadInMB=6, BatchStrategy=MULTI_RECORD\u001b[0m\n",
      "\u001b[34m169.254.255.130 - - [05/Jul/2020:23:39:53 +0000] \"POST /invocations HTTP/1.1\" 200 12363 \"-\" \"Go-http-client/1.1\"\u001b[0m\n",
      "\u001b[34m169.254.255.130 - - [05/Jul/2020:23:39:53 +0000] \"POST /invocations HTTP/1.1\" 200 12375 \"-\" \"Go-http-client/1.1\"\u001b[0m\n",
      "\u001b[34m169.254.255.130 - - [05/Jul/2020:23:39:53 +0000] \"POST /invocations HTTP/1.1\" 200 12358 \"-\" \"Go-http-client/1.1\"\u001b[0m\n",
      "\u001b[34m[2020-07-05:23:39:53:INFO] Determined delimiter of CSV input is ','\u001b[0m\n",
      "\u001b[34m169.254.255.130 - - [05/Jul/2020:23:39:53 +0000] \"POST /invocations HTTP/1.1\" 200 12368 \"-\" \"Go-http-client/1.1\"\u001b[0m\n",
      "\u001b[34m[2020-07-05:23:39:53:INFO] Determined delimiter of CSV input is ','\u001b[0m\n",
      "\u001b[34m[2020-07-05:23:39:53:INFO] Determined delimiter of CSV input is ','\u001b[0m\n",
      "\u001b[34m[2020-07-05:23:39:54:INFO] Determined delimiter of CSV input is ','\u001b[0m\n",
      "\u001b[35m169.254.255.130 - - [05/Jul/2020:23:39:53 +0000] \"POST /invocations HTTP/1.1\" 200 12363 \"-\" \"Go-http-client/1.1\"\u001b[0m\n",
      "\u001b[35m169.254.255.130 - - [05/Jul/2020:23:39:53 +0000] \"POST /invocations HTTP/1.1\" 200 12375 \"-\" \"Go-http-client/1.1\"\u001b[0m\n",
      "\u001b[35m169.254.255.130 - - [05/Jul/2020:23:39:53 +0000] \"POST /invocations HTTP/1.1\" 200 12358 \"-\" \"Go-http-client/1.1\"\u001b[0m\n",
      "\u001b[35m[2020-07-05:23:39:53:INFO] Determined delimiter of CSV input is ','\u001b[0m\n",
      "\u001b[35m169.254.255.130 - - [05/Jul/2020:23:39:53 +0000] \"POST /invocations HTTP/1.1\" 200 12368 \"-\" \"Go-http-client/1.1\"\u001b[0m\n",
      "\u001b[35m[2020-07-05:23:39:53:INFO] Determined delimiter of CSV input is ','\u001b[0m\n",
      "\u001b[35m[2020-07-05:23:39:53:INFO] Determined delimiter of CSV input is ','\u001b[0m\n",
      "\u001b[35m[2020-07-05:23:39:54:INFO] Determined delimiter of CSV input is ','\u001b[0m\n",
      "\u001b[34m169.254.255.130 - - [05/Jul/2020:23:39:57 +0000] \"POST /invocations HTTP/1.1\" 200 12349 \"-\" \"Go-http-client/1.1\"\u001b[0m\n",
      "\u001b[34m169.254.255.130 - - [05/Jul/2020:23:39:57 +0000] \"POST /invocations HTTP/1.1\" 200 12353 \"-\" \"Go-http-client/1.1\"\u001b[0m\n",
      "\u001b[34m169.254.255.130 - - [05/Jul/2020:23:39:57 +0000] \"POST /invocations HTTP/1.1\" 200 12355 \"-\" \"Go-http-client/1.1\"\u001b[0m\n",
      "\u001b[34m[2020-07-05:23:39:57:INFO] Determined delimiter of CSV input is ','\u001b[0m\n",
      "\u001b[34m169.254.255.130 - - [05/Jul/2020:23:39:57 +0000] \"POST /invocations HTTP/1.1\" 200 12374 \"-\" \"Go-http-client/1.1\"\u001b[0m\n",
      "\u001b[35m169.254.255.130 - - [05/Jul/2020:23:39:57 +0000] \"POST /invocations HTTP/1.1\" 200 12349 \"-\" \"Go-http-client/1.1\"\u001b[0m\n",
      "\u001b[35m169.254.255.130 - - [05/Jul/2020:23:39:57 +0000] \"POST /invocations HTTP/1.1\" 200 12353 \"-\" \"Go-http-client/1.1\"\u001b[0m\n",
      "\u001b[35m169.254.255.130 - - [05/Jul/2020:23:39:57 +0000] \"POST /invocations HTTP/1.1\" 200 12355 \"-\" \"Go-http-client/1.1\"\u001b[0m\n",
      "\u001b[35m[2020-07-05:23:39:57:INFO] Determined delimiter of CSV input is ','\u001b[0m\n",
      "\u001b[35m169.254.255.130 - - [05/Jul/2020:23:39:57 +0000] \"POST /invocations HTTP/1.1\" 200 12374 \"-\" \"Go-http-client/1.1\"\u001b[0m\n",
      "\u001b[34m[2020-07-05:23:39:57:INFO] Determined delimiter of CSV input is ','\u001b[0m\n",
      "\u001b[34m[2020-07-05:23:39:57:INFO] Determined delimiter of CSV input is ','\u001b[0m\n",
      "\u001b[34m[2020-07-05:23:39:57:INFO] Determined delimiter of CSV input is ','\u001b[0m\n",
      "\u001b[35m[2020-07-05:23:39:57:INFO] Determined delimiter of CSV input is ','\u001b[0m\n",
      "\u001b[35m[2020-07-05:23:39:57:INFO] Determined delimiter of CSV input is ','\u001b[0m\n",
      "\u001b[35m[2020-07-05:23:39:57:INFO] Determined delimiter of CSV input is ','\u001b[0m\n",
      "\u001b[34m169.254.255.130 - - [05/Jul/2020:23:40:00 +0000] \"POST /invocations HTTP/1.1\" 200 12352 \"-\" \"Go-http-client/1.1\"\u001b[0m\n",
      "\u001b[34m169.254.255.130 - - [05/Jul/2020:23:40:00 +0000] \"POST /invocations HTTP/1.1\" 200 12333 \"-\" \"Go-http-client/1.1\"\u001b[0m\n",
      "\u001b[34m[2020-07-05:23:40:00:INFO] Determined delimiter of CSV input is ','\u001b[0m\n",
      "\u001b[34m169.254.255.130 - - [05/Jul/2020:23:40:00 +0000] \"POST /invocations HTTP/1.1\" 200 12309 \"-\" \"Go-http-client/1.1\"\u001b[0m\n",
      "\u001b[34m169.254.255.130 - - [05/Jul/2020:23:40:00 +0000] \"POST /invocations HTTP/1.1\" 200 12348 \"-\" \"Go-http-client/1.1\"\u001b[0m\n",
      "\u001b[34m[2020-07-05:23:40:01:INFO] Determined delimiter of CSV input is ','\u001b[0m\n",
      "\u001b[34m[2020-07-05:23:40:01:INFO] Determined delimiter of CSV input is ','\u001b[0m\n",
      "\u001b[34m[2020-07-05:23:40:01:INFO] Determined delimiter of CSV input is ','\u001b[0m\n",
      "\u001b[35m169.254.255.130 - - [05/Jul/2020:23:40:00 +0000] \"POST /invocations HTTP/1.1\" 200 12352 \"-\" \"Go-http-client/1.1\"\u001b[0m\n",
      "\u001b[35m169.254.255.130 - - [05/Jul/2020:23:40:00 +0000] \"POST /invocations HTTP/1.1\" 200 12333 \"-\" \"Go-http-client/1.1\"\u001b[0m\n",
      "\u001b[35m[2020-07-05:23:40:00:INFO] Determined delimiter of CSV input is ','\u001b[0m\n",
      "\u001b[35m169.254.255.130 - - [05/Jul/2020:23:40:00 +0000] \"POST /invocations HTTP/1.1\" 200 12309 \"-\" \"Go-http-client/1.1\"\u001b[0m\n",
      "\u001b[35m169.254.255.130 - - [05/Jul/2020:23:40:00 +0000] \"POST /invocations HTTP/1.1\" 200 12348 \"-\" \"Go-http-client/1.1\"\u001b[0m\n",
      "\u001b[35m[2020-07-05:23:40:01:INFO] Determined delimiter of CSV input is ','\u001b[0m\n",
      "\u001b[35m[2020-07-05:23:40:01:INFO] Determined delimiter of CSV input is ','\u001b[0m\n",
      "\u001b[35m[2020-07-05:23:40:01:INFO] Determined delimiter of CSV input is ','\u001b[0m\n",
      "\u001b[34m169.254.255.130 - - [05/Jul/2020:23:40:07 +0000] \"POST /invocations HTTP/1.1\" 200 12398 \"-\" \"Go-http-client/1.1\"\u001b[0m\n",
      "\u001b[34m169.254.255.130 - - [05/Jul/2020:23:40:07 +0000] \"POST /invocations HTTP/1.1\" 200 12361 \"-\" \"Go-http-client/1.1\"\u001b[0m\n",
      "\u001b[34m[2020-07-05:23:40:07:INFO] Determined delimiter of CSV input is ','\u001b[0m\n",
      "\u001b[34m[2020-07-05:23:40:08:INFO] Determined delimiter of CSV input is ','\u001b[0m\n",
      "\u001b[34m169.254.255.130 - - [05/Jul/2020:23:40:08 +0000] \"POST /invocations HTTP/1.1\" 200 12367 \"-\" \"Go-http-client/1.1\"\u001b[0m\n",
      "\u001b[34m169.254.255.130 - - [05/Jul/2020:23:40:08 +0000] \"POST /invocations HTTP/1.1\" 200 12408 \"-\" \"Go-http-client/1.1\"\u001b[0m\n",
      "\u001b[34m[2020-07-05:23:40:08:INFO] Determined delimiter of CSV input is ','\u001b[0m\n",
      "\u001b[35m169.254.255.130 - - [05/Jul/2020:23:40:07 +0000] \"POST /invocations HTTP/1.1\" 200 12398 \"-\" \"Go-http-client/1.1\"\u001b[0m\n",
      "\u001b[35m169.254.255.130 - - [05/Jul/2020:23:40:07 +0000] \"POST /invocations HTTP/1.1\" 200 12361 \"-\" \"Go-http-client/1.1\"\u001b[0m\n",
      "\u001b[35m[2020-07-05:23:40:07:INFO] Determined delimiter of CSV input is ','\u001b[0m\n",
      "\u001b[35m[2020-07-05:23:40:08:INFO] Determined delimiter of CSV input is ','\u001b[0m\n",
      "\u001b[35m169.254.255.130 - - [05/Jul/2020:23:40:08 +0000] \"POST /invocations HTTP/1.1\" 200 12367 \"-\" \"Go-http-client/1.1\"\u001b[0m\n",
      "\u001b[35m169.254.255.130 - - [05/Jul/2020:23:40:08 +0000] \"POST /invocations HTTP/1.1\" 200 12408 \"-\" \"Go-http-client/1.1\"\u001b[0m\n",
      "\u001b[35m[2020-07-05:23:40:08:INFO] Determined delimiter of CSV input is ','\u001b[0m\n",
      "\u001b[34m[2020-07-05:23:40:08:INFO] Determined delimiter of CSV input is ','\u001b[0m\n",
      "\u001b[35m[2020-07-05:23:40:08:INFO] Determined delimiter of CSV input is ','\u001b[0m\n"
     ]
    },
    {
     "name": "stdout",
     "output_type": "stream",
     "text": [
      "\u001b[34m169.254.255.130 - - [05/Jul/2020:23:40:11 +0000] \"POST /invocations HTTP/1.1\" 200 12358 \"-\" \"Go-http-client/1.1\"\u001b[0m\n",
      "\u001b[35m169.254.255.130 - - [05/Jul/2020:23:40:11 +0000] \"POST /invocations HTTP/1.1\" 200 12358 \"-\" \"Go-http-client/1.1\"\u001b[0m\n",
      "\u001b[34m[2020-07-05:23:40:11:INFO] Determined delimiter of CSV input is ','\u001b[0m\n",
      "\u001b[35m[2020-07-05:23:40:11:INFO] Determined delimiter of CSV input is ','\u001b[0m\n",
      "\u001b[34m[2020-07-05:23:40:11:INFO] Determined delimiter of CSV input is ','\u001b[0m\n",
      "\u001b[34m169.254.255.130 - - [05/Jul/2020:23:40:11 +0000] \"POST /invocations HTTP/1.1\" 200 12312 \"-\" \"Go-http-client/1.1\"\u001b[0m\n",
      "\u001b[34m169.254.255.130 - - [05/Jul/2020:23:40:11 +0000] \"POST /invocations HTTP/1.1\" 200 12355 \"-\" \"Go-http-client/1.1\"\u001b[0m\n",
      "\u001b[34m[2020-07-05:23:40:11:INFO] Determined delimiter of CSV input is ','\u001b[0m\n",
      "\u001b[34m[2020-07-05:23:40:11:INFO] Determined delimiter of CSV input is ','\u001b[0m\n",
      "\u001b[35m[2020-07-05:23:40:11:INFO] Determined delimiter of CSV input is ','\u001b[0m\n",
      "\u001b[35m169.254.255.130 - - [05/Jul/2020:23:40:11 +0000] \"POST /invocations HTTP/1.1\" 200 12312 \"-\" \"Go-http-client/1.1\"\u001b[0m\n",
      "\u001b[35m169.254.255.130 - - [05/Jul/2020:23:40:11 +0000] \"POST /invocations HTTP/1.1\" 200 12355 \"-\" \"Go-http-client/1.1\"\u001b[0m\n",
      "\u001b[35m[2020-07-05:23:40:11:INFO] Determined delimiter of CSV input is ','\u001b[0m\n",
      "\u001b[35m[2020-07-05:23:40:11:INFO] Determined delimiter of CSV input is ','\u001b[0m\n",
      "\u001b[34m169.254.255.130 - - [05/Jul/2020:23:40:14 +0000] \"POST /invocations HTTP/1.1\" 200 12379 \"-\" \"Go-http-client/1.1\"\u001b[0m\n",
      "\u001b[34m169.254.255.130 - - [05/Jul/2020:23:40:14 +0000] \"POST /invocations HTTP/1.1\" 200 12360 \"-\" \"Go-http-client/1.1\"\u001b[0m\n",
      "\u001b[34m[2020-07-05:23:40:14:INFO] Determined delimiter of CSV input is ','\u001b[0m\n",
      "\u001b[34m[2020-07-05:23:40:15:INFO] Determined delimiter of CSV input is ','\u001b[0m\n",
      "\u001b[34m169.254.255.130 - - [05/Jul/2020:23:40:15 +0000] \"POST /invocations HTTP/1.1\" 200 12358 \"-\" \"Go-http-client/1.1\"\u001b[0m\n",
      "\u001b[34m169.254.255.130 - - [05/Jul/2020:23:40:15 +0000] \"POST /invocations HTTP/1.1\" 200 12360 \"-\" \"Go-http-client/1.1\"\u001b[0m\n",
      "\u001b[35m169.254.255.130 - - [05/Jul/2020:23:40:14 +0000] \"POST /invocations HTTP/1.1\" 200 12379 \"-\" \"Go-http-client/1.1\"\u001b[0m\n",
      "\u001b[35m169.254.255.130 - - [05/Jul/2020:23:40:14 +0000] \"POST /invocations HTTP/1.1\" 200 12360 \"-\" \"Go-http-client/1.1\"\u001b[0m\n",
      "\u001b[35m[2020-07-05:23:40:14:INFO] Determined delimiter of CSV input is ','\u001b[0m\n",
      "\u001b[35m[2020-07-05:23:40:15:INFO] Determined delimiter of CSV input is ','\u001b[0m\n",
      "\u001b[35m169.254.255.130 - - [05/Jul/2020:23:40:15 +0000] \"POST /invocations HTTP/1.1\" 200 12358 \"-\" \"Go-http-client/1.1\"\u001b[0m\n",
      "\u001b[35m169.254.255.130 - - [05/Jul/2020:23:40:15 +0000] \"POST /invocations HTTP/1.1\" 200 12360 \"-\" \"Go-http-client/1.1\"\u001b[0m\n",
      "\u001b[34m[2020-07-05:23:40:15:INFO] Determined delimiter of CSV input is ','\u001b[0m\n",
      "\u001b[34m[2020-07-05:23:40:15:INFO] Determined delimiter of CSV input is ','\u001b[0m\n",
      "\u001b[35m[2020-07-05:23:40:15:INFO] Determined delimiter of CSV input is ','\u001b[0m\n",
      "\u001b[35m[2020-07-05:23:40:15:INFO] Determined delimiter of CSV input is ','\u001b[0m\n",
      "\u001b[34m169.254.255.130 - - [05/Jul/2020:23:40:18 +0000] \"POST /invocations HTTP/1.1\" 200 12331 \"-\" \"Go-http-client/1.1\"\u001b[0m\n",
      "\u001b[35m169.254.255.130 - - [05/Jul/2020:23:40:18 +0000] \"POST /invocations HTTP/1.1\" 200 12331 \"-\" \"Go-http-client/1.1\"\u001b[0m\n",
      "\u001b[34m169.254.255.130 - - [05/Jul/2020:23:40:18 +0000] \"POST /invocations HTTP/1.1\" 200 12353 \"-\" \"Go-http-client/1.1\"\u001b[0m\n",
      "\u001b[35m169.254.255.130 - - [05/Jul/2020:23:40:18 +0000] \"POST /invocations HTTP/1.1\" 200 12353 \"-\" \"Go-http-client/1.1\"\u001b[0m\n",
      "\u001b[34m[2020-07-05:23:40:18:INFO] Determined delimiter of CSV input is ','\u001b[0m\n",
      "\u001b[34m169.254.255.130 - - [05/Jul/2020:23:40:18 +0000] \"POST /invocations HTTP/1.1\" 200 12334 \"-\" \"Go-http-client/1.1\"\u001b[0m\n",
      "\u001b[34m[2020-07-05:23:40:18:INFO] Determined delimiter of CSV input is ','\u001b[0m\n",
      "\u001b[34m[2020-07-05:23:40:18:INFO] Determined delimiter of CSV input is ','\u001b[0m\n",
      "\u001b[35m[2020-07-05:23:40:18:INFO] Determined delimiter of CSV input is ','\u001b[0m\n",
      "\u001b[35m169.254.255.130 - - [05/Jul/2020:23:40:18 +0000] \"POST /invocations HTTP/1.1\" 200 12334 \"-\" \"Go-http-client/1.1\"\u001b[0m\n",
      "\u001b[35m[2020-07-05:23:40:18:INFO] Determined delimiter of CSV input is ','\u001b[0m\n",
      "\u001b[35m[2020-07-05:23:40:18:INFO] Determined delimiter of CSV input is ','\u001b[0m\n",
      "\u001b[34m169.254.255.130 - - [05/Jul/2020:23:40:21 +0000] \"POST /invocations HTTP/1.1\" 200 12276 \"-\" \"Go-http-client/1.1\"\u001b[0m\n",
      "\u001b[34m[2020-07-05:23:40:21:INFO] Determined delimiter of CSV input is ','\u001b[0m\n",
      "\u001b[34m169.254.255.130 - - [05/Jul/2020:23:40:21 +0000] \"POST /invocations HTTP/1.1\" 200 12357 \"-\" \"Go-http-client/1.1\"\u001b[0m\n",
      "\u001b[34m169.254.255.130 - - [05/Jul/2020:23:40:22 +0000] \"POST /invocations HTTP/1.1\" 200 12347 \"-\" \"Go-http-client/1.1\"\u001b[0m\n",
      "\u001b[34m[2020-07-05:23:40:22:INFO] Determined delimiter of CSV input is ','\u001b[0m\n",
      "\u001b[34m169.254.255.130 - - [05/Jul/2020:23:40:22 +0000] \"POST /invocations HTTP/1.1\" 200 12344 \"-\" \"Go-http-client/1.1\"\u001b[0m\n",
      "\u001b[34m[2020-07-05:23:40:22:INFO] Determined delimiter of CSV input is ','\u001b[0m\n",
      "\u001b[34m[2020-07-05:23:40:22:INFO] Determined delimiter of CSV input is ','\u001b[0m\n",
      "\u001b[35m169.254.255.130 - - [05/Jul/2020:23:40:21 +0000] \"POST /invocations HTTP/1.1\" 200 12276 \"-\" \"Go-http-client/1.1\"\u001b[0m\n",
      "\u001b[35m[2020-07-05:23:40:21:INFO] Determined delimiter of CSV input is ','\u001b[0m\n",
      "\u001b[35m169.254.255.130 - - [05/Jul/2020:23:40:21 +0000] \"POST /invocations HTTP/1.1\" 200 12357 \"-\" \"Go-http-client/1.1\"\u001b[0m\n",
      "\u001b[35m169.254.255.130 - - [05/Jul/2020:23:40:22 +0000] \"POST /invocations HTTP/1.1\" 200 12347 \"-\" \"Go-http-client/1.1\"\u001b[0m\n",
      "\u001b[35m[2020-07-05:23:40:22:INFO] Determined delimiter of CSV input is ','\u001b[0m\n",
      "\u001b[35m169.254.255.130 - - [05/Jul/2020:23:40:22 +0000] \"POST /invocations HTTP/1.1\" 200 12344 \"-\" \"Go-http-client/1.1\"\u001b[0m\n",
      "\u001b[35m[2020-07-05:23:40:22:INFO] Determined delimiter of CSV input is ','\u001b[0m\n",
      "\u001b[35m[2020-07-05:23:40:22:INFO] Determined delimiter of CSV input is ','\u001b[0m\n",
      "\u001b[34m169.254.255.130 - - [05/Jul/2020:23:40:24 +0000] \"POST /invocations HTTP/1.1\" 200 9206 \"-\" \"Go-http-client/1.1\"\u001b[0m\n",
      "\u001b[34m169.254.255.130 - - [05/Jul/2020:23:40:25 +0000] \"POST /invocations HTTP/1.1\" 200 12330 \"-\" \"Go-http-client/1.1\"\u001b[0m\n",
      "\u001b[34m169.254.255.130 - - [05/Jul/2020:23:40:25 +0000] \"POST /invocations HTTP/1.1\" 200 12321 \"-\" \"Go-http-client/1.1\"\u001b[0m\n",
      "\u001b[34m169.254.255.130 - - [05/Jul/2020:23:40:25 +0000] \"POST /invocations HTTP/1.1\" 200 12401 \"-\" \"Go-http-client/1.1\"\u001b[0m\n",
      "\u001b[35m169.254.255.130 - - [05/Jul/2020:23:40:24 +0000] \"POST /invocations HTTP/1.1\" 200 9206 \"-\" \"Go-http-client/1.1\"\u001b[0m\n",
      "\u001b[35m169.254.255.130 - - [05/Jul/2020:23:40:25 +0000] \"POST /invocations HTTP/1.1\" 200 12330 \"-\" \"Go-http-client/1.1\"\u001b[0m\n",
      "\u001b[35m169.254.255.130 - - [05/Jul/2020:23:40:25 +0000] \"POST /invocations HTTP/1.1\" 200 12321 \"-\" \"Go-http-client/1.1\"\u001b[0m\n",
      "\u001b[35m169.254.255.130 - - [05/Jul/2020:23:40:25 +0000] \"POST /invocations HTTP/1.1\" 200 12401 \"-\" \"Go-http-client/1.1\"\u001b[0m\n",
      "\n"
     ]
    }
   ],
   "source": [
    "xgb_transformer.wait()"
   ]
  },
  {
   "cell_type": "markdown",
   "metadata": {},
   "source": [
    "Now the transform job has executed and the result, the estimated sentiment of each review, has been saved on S3. Since we would rather work on this file locally we can perform a bit of notebook magic to copy the file to the `data_dir`."
   ]
  },
  {
   "cell_type": "code",
   "execution_count": 33,
   "metadata": {},
   "outputs": [
    {
     "name": "stdout",
     "output_type": "stream",
     "text": [
      "Completed 256.0 KiB/479.5 KiB (2.3 MiB/s) with 1 file(s) remaining\r",
      "Completed 479.5 KiB/479.5 KiB (4.1 MiB/s) with 1 file(s) remaining\r",
      "download: s3://sagemaker-us-west-2-594602753794/sagemaker-xgboost-200705-2300-005-a9ad0-2020-07-05-23-36-09-453/test.csv.out to ../data/xgboost/test.csv.out\r\n"
     ]
    }
   ],
   "source": [
    "!aws s3 cp --recursive $xgb_transformer.output_path $data_dir"
   ]
  },
  {
   "cell_type": "markdown",
   "metadata": {},
   "source": [
    "The last step is now to read in the output from our model, convert the output to something a little more usable, in this case we want the sentiment to be either `1` (positive) or `0` (negative), and then compare to the ground truth labels."
   ]
  },
  {
   "cell_type": "code",
   "execution_count": 34,
   "metadata": {},
   "outputs": [],
   "source": [
    "predictions = pd.read_csv(os.path.join(data_dir, 'test.csv.out'), header=None)\n",
    "predictions = [round(num) for num in predictions.squeeze().values]"
   ]
  },
  {
   "cell_type": "code",
   "execution_count": 35,
   "metadata": {},
   "outputs": [
    {
     "data": {
      "text/plain": [
       "0.87156"
      ]
     },
     "execution_count": 35,
     "metadata": {},
     "output_type": "execute_result"
    }
   ],
   "source": [
    "from sklearn.metrics import accuracy_score\n",
    "accuracy_score(test_y, predictions)"
   ]
  },
  {
   "cell_type": "markdown",
   "metadata": {},
   "source": [
    "## Optional: Clean up\n",
    "\n",
    "The default notebook instance on SageMaker doesn't have a lot of excess disk space available. As you continue to complete and execute notebooks you will eventually fill up this disk space, leading to errors which can be difficult to diagnose. Once you are completely finished using a notebook it is a good idea to remove the files that you created along the way. Of course, you can do this from the terminal or from the notebook hub if you would like. The cell below contains some commands to clean up the created files from within the notebook."
   ]
  },
  {
   "cell_type": "code",
   "execution_count": 36,
   "metadata": {},
   "outputs": [],
   "source": [
    "# First we will remove all of the files contained in the data_dir directory\n",
    "!rm $data_dir/*\n",
    "\n",
    "# And then we delete the directory itself\n",
    "!rmdir $data_dir\n",
    "\n",
    "# Similarly we will remove the files in the cache_dir directory and the directory itself\n",
    "!rm $cache_dir/*\n",
    "!rmdir $cache_dir"
   ]
  },
  {
   "cell_type": "code",
   "execution_count": null,
   "metadata": {},
   "outputs": [],
   "source": []
  }
 ],
 "metadata": {
  "kernelspec": {
   "display_name": "conda_python3",
   "language": "python",
   "name": "conda_python3"
  },
  "language_info": {
   "codemirror_mode": {
    "name": "ipython",
    "version": 3
   },
   "file_extension": ".py",
   "mimetype": "text/x-python",
   "name": "python",
   "nbconvert_exporter": "python",
   "pygments_lexer": "ipython3",
   "version": "3.6.5"
  }
 },
 "nbformat": 4,
 "nbformat_minor": 2
}
