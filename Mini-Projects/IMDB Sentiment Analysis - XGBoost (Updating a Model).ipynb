{
 "cells": [
  {
   "cell_type": "markdown",
   "metadata": {},
   "source": [
    "# Sentiment Analysis\n",
    "\n",
    "## Updating a Model in SageMaker\n",
    "\n",
    "_Deep Learning Nanodegree Program | Deployment_\n",
    "\n",
    "---\n",
    "\n",
    "In this notebook we will consider a situation in which a model that we constructed is no longer working as we intended. In particular, we will look at the XGBoost sentiment analysis model that we constructed earlier. In this case, however, we have some new data that our model doesn't seem to perform very well on. As a result, we will re-train our model and update an existing endpoint so that it uses our new model.\n",
    "\n",
    "This notebook starts by re-creating the XGBoost sentiment analysis model that was created in earlier notebooks. This means that you will have already seen the cells up to the end of Step 4. The new content in this notebook begins at Step 5.\n",
    "\n",
    "## Instructions\n",
    "\n",
    "Some template code has already been provided for you, and you will need to implement additional functionality to successfully complete this notebook. You will not need to modify the included code beyond what is requested. Sections that begin with '**TODO**' in the header indicate that you need to complete or implement some portion within them. Instructions will be provided for each section and the specifics of the implementation are marked in the code block with a `# TODO: ...` comment. Please be sure to read the instructions carefully!\n",
    "\n",
    "In addition to implementing code, there will be questions for you to answer which relate to the task and your implementation. Each section where you will answer a question is preceded by a '**Question:**' header. Carefully read each question and provide your answer below the '**Answer:**' header by editing the Markdown cell.\n",
    "\n",
    "> **Note**: Code and Markdown cells can be executed using the **Shift+Enter** keyboard shortcut. In addition, a cell can be edited by typically clicking it (double-click for Markdown cells) or by pressing **Enter** while it is highlighted."
   ]
  },
  {
   "cell_type": "markdown",
   "metadata": {},
   "source": [
    "## Step 1: Downloading the data\n",
    "\n",
    "The dataset we are going to use is very popular among researchers in Natural Language Processing, usually referred to as the [IMDb dataset](http://ai.stanford.edu/~amaas/data/sentiment/). It consists of movie reviews from the website [imdb.com](http://www.imdb.com/), each labeled as either '**pos**itive', if the reviewer enjoyed the film, or '**neg**ative' otherwise.\n",
    "\n",
    "> Maas, Andrew L., et al. [Learning Word Vectors for Sentiment Analysis](http://ai.stanford.edu/~amaas/data/sentiment/). In _Proceedings of the 49th Annual Meeting of the Association for Computational Linguistics: Human Language Technologies_. Association for Computational Linguistics, 2011.\n",
    "\n",
    "We begin by using some Jupyter Notebook magic to download and extract the dataset."
   ]
  },
  {
   "cell_type": "code",
   "execution_count": 1,
   "metadata": {},
   "outputs": [
    {
     "name": "stdout",
     "output_type": "stream",
     "text": [
      "mkdir: cannot create directory ‘../data’: File exists\n",
      "--2020-07-09 00:57:10--  http://ai.stanford.edu/~amaas/data/sentiment/aclImdb_v1.tar.gz\n",
      "Resolving ai.stanford.edu (ai.stanford.edu)... 171.64.68.10\n",
      "Connecting to ai.stanford.edu (ai.stanford.edu)|171.64.68.10|:80... connected.\n",
      "HTTP request sent, awaiting response... 200 OK\n",
      "Length: 84125825 (80M) [application/x-gzip]\n",
      "Saving to: ‘../data/aclImdb_v1.tar.gz’\n",
      "\n",
      "../data/aclImdb_v1. 100%[===================>]  80.23M  44.8MB/s    in 1.8s    \n",
      "\n",
      "2020-07-09 00:57:12 (44.8 MB/s) - ‘../data/aclImdb_v1.tar.gz’ saved [84125825/84125825]\n",
      "\n"
     ]
    }
   ],
   "source": [
    "%mkdir ../data\n",
    "!wget -O ../data/aclImdb_v1.tar.gz http://ai.stanford.edu/~amaas/data/sentiment/aclImdb_v1.tar.gz\n",
    "!tar -zxf ../data/aclImdb_v1.tar.gz -C ../data"
   ]
  },
  {
   "cell_type": "markdown",
   "metadata": {},
   "source": [
    "## Step 2: Preparing the data\n",
    "\n",
    "The data we have downloaded is split into various files, each of which contains a single review. It will be much easier going forward if we combine these individual files into two large files, one for training and one for testing."
   ]
  },
  {
   "cell_type": "code",
   "execution_count": 3,
   "metadata": {},
   "outputs": [],
   "source": [
    "import os\n",
    "import glob\n",
    "\n",
    "def read_imdb_data(data_dir='../data/aclImdb'):\n",
    "    data = {}\n",
    "    labels = {}\n",
    "    \n",
    "    for data_type in ['train', 'test']:\n",
    "        data[data_type] = {}\n",
    "        labels[data_type] = {}\n",
    "        \n",
    "        for sentiment in ['pos', 'neg']:\n",
    "            data[data_type][sentiment] = []\n",
    "            labels[data_type][sentiment] = []\n",
    "            \n",
    "            path = os.path.join(data_dir, data_type, sentiment, '*.txt')\n",
    "            files = glob.glob(path)\n",
    "            \n",
    "            for f in files:\n",
    "                with open(f) as review:\n",
    "                    data[data_type][sentiment].append(review.read())\n",
    "                    # Here we represent a positive review by '1' and a negative review by '0'\n",
    "                    labels[data_type][sentiment].append(1 if sentiment == 'pos' else 0)\n",
    "                    \n",
    "            assert len(data[data_type][sentiment]) == len(labels[data_type][sentiment]), \\\n",
    "                    \"{}/{} data size does not match labels size\".format(data_type, sentiment)\n",
    "                \n",
    "    return data, labels"
   ]
  },
  {
   "cell_type": "code",
   "execution_count": 3,
   "metadata": {},
   "outputs": [
    {
     "name": "stdout",
     "output_type": "stream",
     "text": [
      "IMDB reviews: train = 12500 pos / 12500 neg, test = 12500 pos / 12500 neg\n"
     ]
    }
   ],
   "source": [
    "data, labels = read_imdb_data()\n",
    "print(\"IMDB reviews: train = {} pos / {} neg, test = {} pos / {} neg\".format(\n",
    "            len(data['train']['pos']), len(data['train']['neg']),\n",
    "            len(data['test']['pos']), len(data['test']['neg'])))"
   ]
  },
  {
   "cell_type": "code",
   "execution_count": 4,
   "metadata": {},
   "outputs": [],
   "source": [
    "from sklearn.utils import shuffle\n",
    "\n",
    "def prepare_imdb_data(data, labels):\n",
    "    \"\"\"Prepare training and test sets from IMDb movie reviews.\"\"\"\n",
    "    \n",
    "    #Combine positive and negative reviews and labels\n",
    "    data_train = data['train']['pos'] + data['train']['neg']\n",
    "    data_test = data['test']['pos'] + data['test']['neg']\n",
    "    labels_train = labels['train']['pos'] + labels['train']['neg']\n",
    "    labels_test = labels['test']['pos'] + labels['test']['neg']\n",
    "    \n",
    "    #Shuffle reviews and corresponding labels within training and test sets\n",
    "    data_train, labels_train = shuffle(data_train, labels_train)\n",
    "    data_test, labels_test = shuffle(data_test, labels_test)\n",
    "    \n",
    "    # Return a unified training data, test data, training labels, test labets\n",
    "    return data_train, data_test, labels_train, labels_test"
   ]
  },
  {
   "cell_type": "code",
   "execution_count": 5,
   "metadata": {},
   "outputs": [
    {
     "name": "stdout",
     "output_type": "stream",
     "text": [
      "IMDb reviews (combined): train = 25000, test = 25000\n"
     ]
    }
   ],
   "source": [
    "train_X, test_X, train_y, test_y = prepare_imdb_data(data, labels)\n",
    "print(\"IMDb reviews (combined): train = {}, test = {}\".format(len(train_X), len(test_X)))"
   ]
  },
  {
   "cell_type": "code",
   "execution_count": 6,
   "metadata": {},
   "outputs": [
    {
     "data": {
      "text/plain": [
       "'German filmmaker Ulli Lommel has managed a task many horror fans thought was impossible: he\\'s unseated fellow Teuton Uwe Boll for the crown of director of the worst horror film ever made.<br /><br />Lommel is truly the Ed Wood of the new millennium. This film is as shoddy and laughable as the best-worst of EW. I am both proud and embarrassed to say that I watched it in toto, morbidly fascinated to see just low the bar could be set. The answer is: subterranean; Lommel dug a pit and buried it.<br /><br />The fun begins with the cast of international nobodies. Only someone who has lived in Los Angeles, where every auto mechanic, doctor and mailman is an actor or screenwriter waiting to be discovered, could easily understand how Lommel managed to find so many wannabe actors willing to spew his ridiculous dialog with a straight face.<br /><br />The main character, a villainous beat cop, is played by a German actor with a thick German accent. Aside from being a serial killer, he is also the oldest beat cop in LA. Despite the fact that he stops innocent women drivers and takes them into custody, then drags them into his home (which inexplicably is the top floor of a furniture warehouse), and does all this in plain sight of his rookie partners, the LAPD refuses to investigate, going so far as to physically attack one of his accusers in a ninja style raid on his apartment.<br /><br />The sets are excruciatingly bad. The production designer\\'s budget apparently included just enough money for a can of paint; enough to paint \"Precinct 707\" on a cardboard wall.<br /><br />Since the actors were obviously unpaid non-professionals--a sad assortment of European emigres (possibly deportees if they acted in their native lands), bimbos, mimbos, and desperate middle-aged women--and since little if any money was spent on sets, special efx, locations or other production value, it is only fair to mention that they did spring for a few genuine-looking police uniforms. Sadly, they couldn\\'t afford a police car; the uniformed cops cruise the streets in a shiny new Mercury rental.<br /><br />More than half of the story focuses on the dirty deeds of our deranged German LAPD officer and the futile efforts of two young rookies to stop him. One of these young actors is especially pitiable because he\\'s the only actor in this whole mess with even a vague shot at a real career in the movies. The other fits right in, with a rockabilly hairdo and tortured Brando posing that needs to be seen to be appreciated.<br /><br />The latter part of the film is where the title gets its zombie, as the victims of our killer are resurrected after he murders a girl who had just visited some voodoo priestesses to have a protective spell put on her. Don\\'t ask why a girl from Romania would resort to voodooism in anticipation of being murdered, just accept Lommel\\'s logic and enjoy the absurd ride.<br /><br />After much prolonged hand-clawing out of straw-covered roadside graves, the zombie girls manage to make their appearance. They look exactly as they did before death, maybe even prettier, with black glamor make-up generously airbrushed around their eyes. Looking nothing like zombies, they look more like high fashion models ready for the runway.<br /><br />At this point in the movie Lommel borrows a creative note from his lauded countryman Boll, and injects large doses of cheesy Euro-trash techno into the soundtrack. We\\'re talking prehistoric electronic bumblebee noise. Stuff they might have played in an Ibiza disco when Lommel was still young enough to shake his booty.<br /><br />Unlike other zombies, Lommel\\'s girls speak and function as normal... er, I mean, as they did before becoming zombified. This gives our auteur ample opportunities to shower us with more of his golden dialog. Yes, a golden shower it is.<br /><br />I won\\'t spoil anything by revealing the shock ending. All I can say is it\\'s perfectly in tune with the rest of this masterpiece. The spirit of Ed Wood lives on... or should I say his geist.'"
      ]
     },
     "execution_count": 6,
     "metadata": {},
     "output_type": "execute_result"
    }
   ],
   "source": [
    "train_X[100]"
   ]
  },
  {
   "cell_type": "markdown",
   "metadata": {},
   "source": [
    "## Step 3: Processing the data\n",
    "\n",
    "Now that we have our training and testing datasets merged and ready to use, we need to start processing the raw data into something that will be useable by our machine learning algorithm. To begin with, we remove any html formatting that may appear in the reviews and perform some standard natural language processing in order to homogenize the data."
   ]
  },
  {
   "cell_type": "code",
   "execution_count": 7,
   "metadata": {},
   "outputs": [
    {
     "name": "stderr",
     "output_type": "stream",
     "text": [
      "[nltk_data] Downloading package stopwords to\n",
      "[nltk_data]     /home/ec2-user/nltk_data...\n",
      "[nltk_data]   Unzipping corpora/stopwords.zip.\n"
     ]
    }
   ],
   "source": [
    "import nltk\n",
    "nltk.download(\"stopwords\")\n",
    "from nltk.corpus import stopwords\n",
    "from nltk.stem.porter import *\n",
    "stemmer = PorterStemmer()"
   ]
  },
  {
   "cell_type": "code",
   "execution_count": 8,
   "metadata": {},
   "outputs": [],
   "source": [
    "import re\n",
    "from bs4 import BeautifulSoup\n",
    "\n",
    "def review_to_words(review):\n",
    "    text = BeautifulSoup(review, \"html.parser\").get_text() # Remove HTML tags\n",
    "    text = re.sub(r\"[^a-zA-Z0-9]\", \" \", text.lower()) # Convert to lower case\n",
    "    words = text.split() # Split string into words\n",
    "    words = [w for w in words if w not in stopwords.words(\"english\")] # Remove stopwords\n",
    "    words = [PorterStemmer().stem(w) for w in words] # stem\n",
    "    \n",
    "    return words"
   ]
  },
  {
   "cell_type": "code",
   "execution_count": 9,
   "metadata": {
    "scrolled": true
   },
   "outputs": [
    {
     "data": {
      "text/plain": [
       "['german',\n",
       " 'filmmak',\n",
       " 'ulli',\n",
       " 'lommel',\n",
       " 'manag',\n",
       " 'task',\n",
       " 'mani',\n",
       " 'horror',\n",
       " 'fan',\n",
       " 'thought',\n",
       " 'imposs',\n",
       " 'unseat',\n",
       " 'fellow',\n",
       " 'teuton',\n",
       " 'uwe',\n",
       " 'boll',\n",
       " 'crown',\n",
       " 'director',\n",
       " 'worst',\n",
       " 'horror',\n",
       " 'film',\n",
       " 'ever',\n",
       " 'made',\n",
       " 'lommel',\n",
       " 'truli',\n",
       " 'ed',\n",
       " 'wood',\n",
       " 'new',\n",
       " 'millennium',\n",
       " 'film',\n",
       " 'shoddi',\n",
       " 'laughabl',\n",
       " 'best',\n",
       " 'worst',\n",
       " 'ew',\n",
       " 'proud',\n",
       " 'embarrass',\n",
       " 'say',\n",
       " 'watch',\n",
       " 'toto',\n",
       " 'morbidli',\n",
       " 'fascin',\n",
       " 'see',\n",
       " 'low',\n",
       " 'bar',\n",
       " 'could',\n",
       " 'set',\n",
       " 'answer',\n",
       " 'subterranean',\n",
       " 'lommel',\n",
       " 'dug',\n",
       " 'pit',\n",
       " 'buri',\n",
       " 'fun',\n",
       " 'begin',\n",
       " 'cast',\n",
       " 'intern',\n",
       " 'nobodi',\n",
       " 'someon',\n",
       " 'live',\n",
       " 'lo',\n",
       " 'angel',\n",
       " 'everi',\n",
       " 'auto',\n",
       " 'mechan',\n",
       " 'doctor',\n",
       " 'mailman',\n",
       " 'actor',\n",
       " 'screenwrit',\n",
       " 'wait',\n",
       " 'discov',\n",
       " 'could',\n",
       " 'easili',\n",
       " 'understand',\n",
       " 'lommel',\n",
       " 'manag',\n",
       " 'find',\n",
       " 'mani',\n",
       " 'wannab',\n",
       " 'actor',\n",
       " 'will',\n",
       " 'spew',\n",
       " 'ridicul',\n",
       " 'dialog',\n",
       " 'straight',\n",
       " 'face',\n",
       " 'main',\n",
       " 'charact',\n",
       " 'villain',\n",
       " 'beat',\n",
       " 'cop',\n",
       " 'play',\n",
       " 'german',\n",
       " 'actor',\n",
       " 'thick',\n",
       " 'german',\n",
       " 'accent',\n",
       " 'asid',\n",
       " 'serial',\n",
       " 'killer',\n",
       " 'also',\n",
       " 'oldest',\n",
       " 'beat',\n",
       " 'cop',\n",
       " 'la',\n",
       " 'despit',\n",
       " 'fact',\n",
       " 'stop',\n",
       " 'innoc',\n",
       " 'women',\n",
       " 'driver',\n",
       " 'take',\n",
       " 'custodi',\n",
       " 'drag',\n",
       " 'home',\n",
       " 'inexplic',\n",
       " 'top',\n",
       " 'floor',\n",
       " 'furnitur',\n",
       " 'warehous',\n",
       " 'plain',\n",
       " 'sight',\n",
       " 'rooki',\n",
       " 'partner',\n",
       " 'lapd',\n",
       " 'refus',\n",
       " 'investig',\n",
       " 'go',\n",
       " 'far',\n",
       " 'physic',\n",
       " 'attack',\n",
       " 'one',\n",
       " 'accus',\n",
       " 'ninja',\n",
       " 'style',\n",
       " 'raid',\n",
       " 'apart',\n",
       " 'set',\n",
       " 'excruciatingli',\n",
       " 'bad',\n",
       " 'product',\n",
       " 'design',\n",
       " 'budget',\n",
       " 'appar',\n",
       " 'includ',\n",
       " 'enough',\n",
       " 'money',\n",
       " 'paint',\n",
       " 'enough',\n",
       " 'paint',\n",
       " 'precinct',\n",
       " '707',\n",
       " 'cardboard',\n",
       " 'wall',\n",
       " 'sinc',\n",
       " 'actor',\n",
       " 'obvious',\n",
       " 'unpaid',\n",
       " 'non',\n",
       " 'profession',\n",
       " 'sad',\n",
       " 'assort',\n",
       " 'european',\n",
       " 'emigr',\n",
       " 'possibl',\n",
       " 'deporte',\n",
       " 'act',\n",
       " 'nativ',\n",
       " 'land',\n",
       " 'bimbo',\n",
       " 'mimbo',\n",
       " 'desper',\n",
       " 'middl',\n",
       " 'age',\n",
       " 'women',\n",
       " 'sinc',\n",
       " 'littl',\n",
       " 'money',\n",
       " 'spent',\n",
       " 'set',\n",
       " 'special',\n",
       " 'efx',\n",
       " 'locat',\n",
       " 'product',\n",
       " 'valu',\n",
       " 'fair',\n",
       " 'mention',\n",
       " 'spring',\n",
       " 'genuin',\n",
       " 'look',\n",
       " 'polic',\n",
       " 'uniform',\n",
       " 'sadli',\n",
       " 'afford',\n",
       " 'polic',\n",
       " 'car',\n",
       " 'uniform',\n",
       " 'cop',\n",
       " 'cruis',\n",
       " 'street',\n",
       " 'shini',\n",
       " 'new',\n",
       " 'mercuri',\n",
       " 'rental',\n",
       " 'half',\n",
       " 'stori',\n",
       " 'focus',\n",
       " 'dirti',\n",
       " 'deed',\n",
       " 'derang',\n",
       " 'german',\n",
       " 'lapd',\n",
       " 'offic',\n",
       " 'futil',\n",
       " 'effort',\n",
       " 'two',\n",
       " 'young',\n",
       " 'rooki',\n",
       " 'stop',\n",
       " 'one',\n",
       " 'young',\n",
       " 'actor',\n",
       " 'especi',\n",
       " 'pitiabl',\n",
       " 'actor',\n",
       " 'whole',\n",
       " 'mess',\n",
       " 'even',\n",
       " 'vagu',\n",
       " 'shot',\n",
       " 'real',\n",
       " 'career',\n",
       " 'movi',\n",
       " 'fit',\n",
       " 'right',\n",
       " 'rockabilli',\n",
       " 'hairdo',\n",
       " 'tortur',\n",
       " 'brando',\n",
       " 'pose',\n",
       " 'need',\n",
       " 'seen',\n",
       " 'appreci',\n",
       " 'latter',\n",
       " 'part',\n",
       " 'film',\n",
       " 'titl',\n",
       " 'get',\n",
       " 'zombi',\n",
       " 'victim',\n",
       " 'killer',\n",
       " 'resurrect',\n",
       " 'murder',\n",
       " 'girl',\n",
       " 'visit',\n",
       " 'voodoo',\n",
       " 'priestess',\n",
       " 'protect',\n",
       " 'spell',\n",
       " 'put',\n",
       " 'ask',\n",
       " 'girl',\n",
       " 'romania',\n",
       " 'would',\n",
       " 'resort',\n",
       " 'voodooism',\n",
       " 'anticip',\n",
       " 'murder',\n",
       " 'accept',\n",
       " 'lommel',\n",
       " 'logic',\n",
       " 'enjoy',\n",
       " 'absurd',\n",
       " 'ride',\n",
       " 'much',\n",
       " 'prolong',\n",
       " 'hand',\n",
       " 'claw',\n",
       " 'straw',\n",
       " 'cover',\n",
       " 'roadsid',\n",
       " 'grave',\n",
       " 'zombi',\n",
       " 'girl',\n",
       " 'manag',\n",
       " 'make',\n",
       " 'appear',\n",
       " 'look',\n",
       " 'exactli',\n",
       " 'death',\n",
       " 'mayb',\n",
       " 'even',\n",
       " 'prettier',\n",
       " 'black',\n",
       " 'glamor',\n",
       " 'make',\n",
       " 'gener',\n",
       " 'airbrush',\n",
       " 'around',\n",
       " 'eye',\n",
       " 'look',\n",
       " 'noth',\n",
       " 'like',\n",
       " 'zombi',\n",
       " 'look',\n",
       " 'like',\n",
       " 'high',\n",
       " 'fashion',\n",
       " 'model',\n",
       " 'readi',\n",
       " 'runway',\n",
       " 'point',\n",
       " 'movi',\n",
       " 'lommel',\n",
       " 'borrow',\n",
       " 'creativ',\n",
       " 'note',\n",
       " 'laud',\n",
       " 'countryman',\n",
       " 'boll',\n",
       " 'inject',\n",
       " 'larg',\n",
       " 'dose',\n",
       " 'cheesi',\n",
       " 'euro',\n",
       " 'trash',\n",
       " 'techno',\n",
       " 'soundtrack',\n",
       " 'talk',\n",
       " 'prehistor',\n",
       " 'electron',\n",
       " 'bumblebe',\n",
       " 'nois',\n",
       " 'stuff',\n",
       " 'might',\n",
       " 'play',\n",
       " 'ibiza',\n",
       " 'disco',\n",
       " 'lommel',\n",
       " 'still',\n",
       " 'young',\n",
       " 'enough',\n",
       " 'shake',\n",
       " 'booti',\n",
       " 'unlik',\n",
       " 'zombi',\n",
       " 'lommel',\n",
       " 'girl',\n",
       " 'speak',\n",
       " 'function',\n",
       " 'normal',\n",
       " 'er',\n",
       " 'mean',\n",
       " 'becom',\n",
       " 'zombifi',\n",
       " 'give',\n",
       " 'auteur',\n",
       " 'ampl',\n",
       " 'opportun',\n",
       " 'shower',\n",
       " 'us',\n",
       " 'golden',\n",
       " 'dialog',\n",
       " 'ye',\n",
       " 'golden',\n",
       " 'shower',\n",
       " 'spoil',\n",
       " 'anyth',\n",
       " 'reveal',\n",
       " 'shock',\n",
       " 'end',\n",
       " 'say',\n",
       " 'perfectli',\n",
       " 'tune',\n",
       " 'rest',\n",
       " 'masterpiec',\n",
       " 'spirit',\n",
       " 'ed',\n",
       " 'wood',\n",
       " 'live',\n",
       " 'say',\n",
       " 'geist']"
      ]
     },
     "execution_count": 9,
     "metadata": {},
     "output_type": "execute_result"
    }
   ],
   "source": [
    "review_to_words(train_X[100])"
   ]
  },
  {
   "cell_type": "code",
   "execution_count": 39,
   "metadata": {},
   "outputs": [],
   "source": [
    "import pickle\n",
    "\n",
    "cache_dir = os.path.join(\"../cache\", \"sentiment_analysis\")  # where to store cache files\n",
    "os.makedirs(cache_dir, exist_ok=True)  # ensure cache directory exists\n",
    "\n",
    "def preprocess_data(data_train, data_test, labels_train, labels_test,\n",
    "                    cache_dir=cache_dir, cache_file=\"preprocessed_data.pkl\"):\n",
    "    \"\"\"Convert each review to words; read from cache if available.\"\"\"\n",
    "\n",
    "    # If cache_file is not None, try to read from it first\n",
    "    cache_data = None\n",
    "    if cache_file is not None:\n",
    "        try:\n",
    "            with open(os.path.join(cache_dir, cache_file), \"rb\") as f:\n",
    "                cache_data = pickle.load(f)\n",
    "            print(\"Read preprocessed data from cache file:\", cache_file)\n",
    "        except:\n",
    "            pass  # unable to read from cache, but that's okay\n",
    "    \n",
    "    # If cache is missing, then do the heavy lifting\n",
    "    if cache_data is None:\n",
    "        # Preprocess training and test data to obtain words for each review\n",
    "        #words_train = list(map(review_to_words, data_train))\n",
    "        #words_test = list(map(review_to_words, data_test))\n",
    "        words_train = [review_to_words(review) for review in data_train]\n",
    "        words_test = [review_to_words(review) for review in data_test]\n",
    "        \n",
    "        # Write to cache file for future runs\n",
    "        if cache_file is not None:\n",
    "            cache_data = dict(words_train=words_train, words_test=words_test,\n",
    "                              labels_train=labels_train, labels_test=labels_test)\n",
    "            with open(os.path.join(cache_dir, cache_file), \"wb\") as f:\n",
    "                pickle.dump(cache_data, f)\n",
    "            print(\"Wrote preprocessed data to cache file:\", cache_file)\n",
    "    else:\n",
    "        # Unpack data loaded from cache file\n",
    "        words_train, words_test, labels_train, labels_test = (cache_data['words_train'],\n",
    "                cache_data['words_test'], cache_data['labels_train'], cache_data['labels_test'])\n",
    "    \n",
    "    return words_train, words_test, labels_train, labels_test"
   ]
  },
  {
   "cell_type": "code",
   "execution_count": 11,
   "metadata": {},
   "outputs": [
    {
     "name": "stdout",
     "output_type": "stream",
     "text": [
      "Read preprocessed data from cache file: preprocessed_data.pkl\n"
     ]
    }
   ],
   "source": [
    "# Preprocess data\n",
    "train_X, test_X, train_y, test_y = preprocess_data(train_X, test_X, train_y, test_y)"
   ]
  },
  {
   "cell_type": "markdown",
   "metadata": {},
   "source": [
    "### Extract Bag-of-Words features\n",
    "\n",
    "For the model we will be implementing, rather than using the reviews directly, we are going to transform each review into a Bag-of-Words feature representation. Keep in mind that 'in the wild' we will only have access to the training set so our transformer can only use the training set to construct a representation."
   ]
  },
  {
   "cell_type": "code",
   "execution_count": 40,
   "metadata": {},
   "outputs": [],
   "source": [
    "import numpy as np\n",
    "from sklearn.feature_extraction.text import CountVectorizer\n",
    "from sklearn.externals import joblib\n",
    "# joblib is an enhanced version of pickle that is more efficient for storing NumPy arrays\n",
    "\n",
    "def extract_BoW_features(words_train, words_test, vocabulary_size=5000,\n",
    "                         cache_dir=cache_dir, cache_file=\"bow_features.pkl\"):\n",
    "    \"\"\"Extract Bag-of-Words for a given set of documents, already preprocessed into words.\"\"\"\n",
    "    \n",
    "    # If cache_file is not None, try to read from it first\n",
    "    cache_data = None\n",
    "    if cache_file is not None:\n",
    "        try:\n",
    "            with open(os.path.join(cache_dir, cache_file), \"rb\") as f:\n",
    "                cache_data = joblib.load(f)\n",
    "            print(\"Read features from cache file:\", cache_file)\n",
    "        except:\n",
    "            pass  # unable to read from cache, but that's okay\n",
    "    \n",
    "    # If cache is missing, then do the heavy lifting\n",
    "    if cache_data is None:\n",
    "        # Fit a vectorizer to training documents and use it to transform them\n",
    "        # NOTE: Training documents have already been preprocessed and tokenized into words;\n",
    "        #       pass in dummy functions to skip those steps, e.g. preprocessor=lambda x: x\n",
    "        vectorizer = CountVectorizer(max_features=vocabulary_size,\n",
    "                preprocessor=lambda x: x, tokenizer=lambda x: x)  # already preprocessed\n",
    "        features_train = vectorizer.fit_transform(words_train).toarray()\n",
    "\n",
    "        # Apply the same vectorizer to transform the test documents (ignore unknown words)\n",
    "        features_test = vectorizer.transform(words_test).toarray()\n",
    "        \n",
    "        # NOTE: Remember to convert the features using .toarray() for a compact representation\n",
    "        \n",
    "        # Write to cache file for future runs (store vocabulary as well)\n",
    "        if cache_file is not None:\n",
    "            vocabulary = vectorizer.vocabulary_\n",
    "            cache_data = dict(features_train=features_train, features_test=features_test,\n",
    "                             vocabulary=vocabulary)\n",
    "            with open(os.path.join(cache_dir, cache_file), \"wb\") as f:\n",
    "                joblib.dump(cache_data, f)\n",
    "            print(\"Wrote features to cache file:\", cache_file)\n",
    "    else:\n",
    "        # Unpack data loaded from cache file\n",
    "        features_train, features_test, vocabulary = (cache_data['features_train'],\n",
    "                cache_data['features_test'], cache_data['vocabulary'])\n",
    "    \n",
    "    # Return both the extracted features as well as the vocabulary\n",
    "    return features_train, features_test, vocabulary"
   ]
  },
  {
   "cell_type": "code",
   "execution_count": 41,
   "metadata": {},
   "outputs": [
    {
     "ename": "NameError",
     "evalue": "name 'train_X' is not defined",
     "output_type": "error",
     "traceback": [
      "\u001b[0;31m---------------------------------------------------------------------------\u001b[0m",
      "\u001b[0;31mNameError\u001b[0m                                 Traceback (most recent call last)",
      "\u001b[0;32m<ipython-input-41-f829c7fe4279>\u001b[0m in \u001b[0;36m<module>\u001b[0;34m\u001b[0m\n\u001b[1;32m      1\u001b[0m \u001b[0;31m# Extract Bag of Words features for both training and test datasets\u001b[0m\u001b[0;34m\u001b[0m\u001b[0;34m\u001b[0m\u001b[0;34m\u001b[0m\u001b[0m\n\u001b[0;32m----> 2\u001b[0;31m \u001b[0mtrain_X\u001b[0m\u001b[0;34m,\u001b[0m \u001b[0mtest_X\u001b[0m\u001b[0;34m,\u001b[0m \u001b[0mvocabulary\u001b[0m \u001b[0;34m=\u001b[0m \u001b[0mextract_BoW_features\u001b[0m\u001b[0;34m(\u001b[0m\u001b[0mtrain_X\u001b[0m\u001b[0;34m,\u001b[0m \u001b[0mtest_X\u001b[0m\u001b[0;34m)\u001b[0m\u001b[0;34m\u001b[0m\u001b[0;34m\u001b[0m\u001b[0m\n\u001b[0m",
      "\u001b[0;31mNameError\u001b[0m: name 'train_X' is not defined"
     ]
    }
   ],
   "source": [
    "# Extract Bag of Words features for both training and test datasets\n",
    "train_X, test_X, vocabulary = extract_BoW_features(train_X, test_X)"
   ]
  },
  {
   "cell_type": "code",
   "execution_count": null,
   "metadata": {},
   "outputs": [],
   "source": [
    "vocabulary = "
   ]
  },
  {
   "cell_type": "code",
   "execution_count": 14,
   "metadata": {},
   "outputs": [
    {
     "data": {
      "text/plain": [
       "5000"
      ]
     },
     "execution_count": 14,
     "metadata": {},
     "output_type": "execute_result"
    }
   ],
   "source": [
    "len(train_X[100])"
   ]
  },
  {
   "cell_type": "markdown",
   "metadata": {},
   "source": [
    "## Step 4: Classification using XGBoost\n",
    "\n",
    "Now that we have created the feature representation of our training (and testing) data, it is time to start setting up and using the XGBoost classifier provided by SageMaker.\n",
    "\n",
    "### Writing the dataset\n",
    "\n",
    "The XGBoost classifier that we will be using requires the dataset to be written to a file and stored using Amazon S3. To do this, we will start by splitting the training dataset into two parts, the data we will train the model with and a validation set. Then, we will write those datasets to a file and upload the files to S3. In addition, we will write the test set input to a file and upload the file to S3. This is so that we can use SageMakers Batch Transform functionality to test our model once we've fit it."
   ]
  },
  {
   "cell_type": "code",
   "execution_count": 15,
   "metadata": {},
   "outputs": [],
   "source": [
    "import pandas as pd\n",
    "\n",
    "# Earlier we shuffled the training dataset so to make things simple we can just assign\n",
    "# the first 10 000 reviews to the validation set and use the remaining reviews for training.\n",
    "val_X = pd.DataFrame(train_X[:10000])\n",
    "train_X = pd.DataFrame(train_X[10000:])\n",
    "\n",
    "val_y = pd.DataFrame(train_y[:10000])\n",
    "train_y = pd.DataFrame(train_y[10000:])"
   ]
  },
  {
   "cell_type": "markdown",
   "metadata": {},
   "source": [
    "The documentation for the XGBoost algorithm in SageMaker requires that the saved datasets should contain no headers or index and that for the training and validation data, the label should occur first for each sample.\n",
    "\n",
    "For more information about this and other algorithms, the SageMaker developer documentation can be found on __[Amazon's website.](https://docs.aws.amazon.com/sagemaker/latest/dg/)__"
   ]
  },
  {
   "cell_type": "code",
   "execution_count": 16,
   "metadata": {},
   "outputs": [],
   "source": [
    "# First we make sure that the local directory in which we'd like to store the training and validation csv files exists.\n",
    "data_dir = '../data/sentiment_update'\n",
    "if not os.path.exists(data_dir):\n",
    "    os.makedirs(data_dir)"
   ]
  },
  {
   "cell_type": "code",
   "execution_count": 17,
   "metadata": {},
   "outputs": [],
   "source": [
    "pd.DataFrame(test_X).to_csv(os.path.join(data_dir, 'test.csv'), header=False, index=False)\n",
    "\n",
    "pd.concat([val_y, val_X], axis=1).to_csv(os.path.join(data_dir, 'validation.csv'), header=False, index=False)\n",
    "pd.concat([train_y, train_X], axis=1).to_csv(os.path.join(data_dir, 'train.csv'), header=False, index=False)"
   ]
  },
  {
   "cell_type": "code",
   "execution_count": 18,
   "metadata": {},
   "outputs": [],
   "source": [
    "# To save a bit of memory we can set text_X, train_X, val_X, train_y and val_y to None.\n",
    "\n",
    "test_X = train_X = val_X = train_y = val_y = None"
   ]
  },
  {
   "cell_type": "markdown",
   "metadata": {},
   "source": [
    "### Uploading Training / Validation files to S3\n",
    "\n",
    "Amazon's S3 service allows us to store files that can be access by both the built-in training models such as the XGBoost model we will be using as well as custom models such as the one we will see a little later.\n",
    "\n",
    "For this, and most other tasks we will be doing using SageMaker, there are two methods we could use. The first is to use the low level functionality of SageMaker which requires knowing each of the objects involved in the SageMaker environment. The second is to use the high level functionality in which certain choices have been made on the user's behalf. The low level approach benefits from allowing the user a great deal of flexibility while the high level approach makes development much quicker. For our purposes we will opt to use the high level approach although using the low-level approach is certainly an option.\n",
    "\n",
    "Recall the method `upload_data()` which is a member of object representing our current SageMaker session. What this method does is upload the data to the default bucket (which is created if it does not exist) into the path described by the key_prefix variable. To see this for yourself, once you have uploaded the data files, go to the S3 console and look to see where the files have been uploaded.\n",
    "\n",
    "For additional resources, see the __[SageMaker API documentation](http://sagemaker.readthedocs.io/en/latest/)__ and in addition the __[SageMaker Developer Guide.](https://docs.aws.amazon.com/sagemaker/latest/dg/)__"
   ]
  },
  {
   "cell_type": "code",
   "execution_count": 6,
   "metadata": {},
   "outputs": [],
   "source": [
    "import pandas as pd\n",
    "data_dir = '../data/sentiment_update'"
   ]
  },
  {
   "cell_type": "code",
   "execution_count": 7,
   "metadata": {},
   "outputs": [],
   "source": [
    "import sagemaker\n",
    "\n",
    "session = sagemaker.Session() # Store the current SageMaker session\n",
    "\n",
    "# S3 prefix (which folder will we use)\n",
    "prefix = 'sentiment-update'\n",
    "\n",
    "test_location = session.upload_data(os.path.join(data_dir, 'test.csv'), key_prefix=prefix)\n",
    "val_location = session.upload_data(os.path.join(data_dir, 'validation.csv'), key_prefix=prefix)\n",
    "train_location = session.upload_data(os.path.join(data_dir, 'train.csv'), key_prefix=prefix)"
   ]
  },
  {
   "cell_type": "markdown",
   "metadata": {},
   "source": [
    "### Creating the XGBoost model\n",
    "\n",
    "Now that the data has been uploaded it is time to create the XGBoost model. To begin with, we need to do some setup. At this point it is worth discussing what a model is in SageMaker. It is easiest to think of a model of comprising three different objects in the SageMaker ecosystem, which interact with one another.\n",
    "\n",
    "- Model Artifacts\n",
    "- Training Code (Container)\n",
    "- Inference Code (Container)\n",
    "\n",
    "The Model Artifacts are what you might think of as the actual model itself. For example, if you were building a neural network, the model artifacts would be the weights of the various layers. In our case, for an XGBoost model, the artifacts are the actual trees that are created during training.\n",
    "\n",
    "The other two objects, the training code and the inference code are then used the manipulate the training artifacts. More precisely, the training code uses the training data that is provided and creates the model artifacts, while the inference code uses the model artifacts to make predictions on new data.\n",
    "\n",
    "The way that SageMaker runs the training and inference code is by making use of Docker containers. For now, think of a container as being a way of packaging code up so that dependencies aren't an issue."
   ]
  },
  {
   "cell_type": "code",
   "execution_count": 8,
   "metadata": {},
   "outputs": [],
   "source": [
    "from sagemaker import get_execution_role\n",
    "\n",
    "# Our current execution role is require when creating the model as the training\n",
    "# and inference code will need to access the model artifacts.\n",
    "role = get_execution_role()"
   ]
  },
  {
   "cell_type": "code",
   "execution_count": 9,
   "metadata": {},
   "outputs": [
    {
     "name": "stderr",
     "output_type": "stream",
     "text": [
      "'get_image_uri' method will be deprecated in favor of 'ImageURIProvider' class in SageMaker Python SDK v2.\n"
     ]
    }
   ],
   "source": [
    "# We need to retrieve the location of the container which is provided by Amazon for using XGBoost.\n",
    "# As a matter of convenience, the training and inference code both use the same container.\n",
    "from sagemaker.amazon.amazon_estimator import get_image_uri\n",
    "\n",
    "container = get_image_uri(session.boto_region_name, 'xgboost', '1.0-1')"
   ]
  },
  {
   "cell_type": "code",
   "execution_count": 10,
   "metadata": {},
   "outputs": [
    {
     "name": "stderr",
     "output_type": "stream",
     "text": [
      "WARNING:root:Parameter image_name will be renamed to image_uri in SageMaker Python SDK v2.\n"
     ]
    }
   ],
   "source": [
    "# First we create a SageMaker estimator object for our model.\n",
    "xgb = sagemaker.estimator.Estimator(container, # The location of the container we wish to use\n",
    "                                    role,                                    # What is our current IAM Role\n",
    "                                    train_instance_count=1,                  # How many compute instances\n",
    "                                    train_instance_type='ml.m4.xlarge',      # What kind of compute instances\n",
    "                                    output_path='s3://{}/{}/output'.format(session.default_bucket(), prefix),\n",
    "                                    sagemaker_session=session)\n",
    "\n",
    "# And then set the algorithm specific parameters.\n",
    "xgb.set_hyperparameters(max_depth=5,\n",
    "                        eta=0.2,\n",
    "                        gamma=4,\n",
    "                        min_child_weight=6,\n",
    "                        subsample=0.8,\n",
    "                        silent=0,\n",
    "                        objective='binary:logistic',\n",
    "                        early_stopping_rounds=10,\n",
    "                        num_round=500)"
   ]
  },
  {
   "cell_type": "markdown",
   "metadata": {},
   "source": [
    "### Fit the XGBoost model\n",
    "\n",
    "Now that our model has been set up we simply need to attach the training and validation datasets and then ask SageMaker to set up the computation."
   ]
  },
  {
   "cell_type": "code",
   "execution_count": 22,
   "metadata": {},
   "outputs": [
    {
     "name": "stderr",
     "output_type": "stream",
     "text": [
      "WARNING:sagemaker:'s3_input' class will be renamed to 'TrainingInput' in SageMaker Python SDK v2.\n",
      "WARNING:sagemaker:'s3_input' class will be renamed to 'TrainingInput' in SageMaker Python SDK v2.\n"
     ]
    }
   ],
   "source": [
    "s3_input_train = sagemaker.s3_input(s3_data=train_location, content_type='csv')\n",
    "s3_input_validation = sagemaker.s3_input(s3_data=val_location, content_type='csv')"
   ]
  },
  {
   "cell_type": "code",
   "execution_count": 23,
   "metadata": {},
   "outputs": [
    {
     "name": "stdout",
     "output_type": "stream",
     "text": [
      "2020-07-09 04:40:29 Starting - Starting the training job...\n",
      "2020-07-09 04:40:32 Starting - Launching requested ML instances......\n",
      "2020-07-09 04:41:40 Starting - Preparing the instances for training......\n",
      "2020-07-09 04:42:53 Downloading - Downloading input data...\n",
      "2020-07-09 04:43:12 Training - Downloading the training image...\n",
      "2020-07-09 04:43:50 Training - Training image download completed. Training in progress..\u001b[34mINFO:sagemaker-containers:Imported framework sagemaker_xgboost_container.training\u001b[0m\n",
      "\u001b[34mINFO:sagemaker-containers:Failed to parse hyperparameter objective value binary:logistic to Json.\u001b[0m\n",
      "\u001b[34mReturning the value itself\u001b[0m\n",
      "\u001b[34mINFO:sagemaker-containers:No GPUs detected (normal if no gpus installed)\u001b[0m\n",
      "\u001b[34mINFO:sagemaker_xgboost_container.training:Running XGBoost Sagemaker in algorithm mode\u001b[0m\n",
      "\u001b[34mINFO:root:Determined delimiter of CSV input is ','\u001b[0m\n",
      "\u001b[34mINFO:root:Determined delimiter of CSV input is ','\u001b[0m\n",
      "\u001b[34mINFO:root:Determined delimiter of CSV input is ','\u001b[0m\n",
      "\u001b[34m[04:43:55] 15000x5000 matrix with 75000000 entries loaded from /opt/ml/input/data/train?format=csv&label_column=0&delimiter=,\u001b[0m\n",
      "\u001b[34mINFO:root:Determined delimiter of CSV input is ','\u001b[0m\n",
      "\u001b[34m[04:43:57] 10000x5000 matrix with 50000000 entries loaded from /opt/ml/input/data/validation?format=csv&label_column=0&delimiter=,\u001b[0m\n",
      "\u001b[34mINFO:root:Single node training.\u001b[0m\n",
      "\u001b[34mINFO:root:Train matrix has 15000 rows\u001b[0m\n",
      "\u001b[34mINFO:root:Validation matrix has 10000 rows\u001b[0m\n",
      "\u001b[34m[04:43:57] WARNING: /workspace/src/learner.cc:328: \u001b[0m\n",
      "\u001b[34mParameters: { early_stopping_rounds, num_round, silent } might not be used.\n",
      "\n",
      "  This may not be accurate due to some parameters are only used in language bindings but\n",
      "  passed down to XGBoost core.  Or some parameters are not used but slip through this\n",
      "  verification. Please open an issue if you find above cases.\n",
      "\n",
      "\u001b[0m\n",
      "\u001b[34m[0]#011train-error:0.29140#011validation-error:0.30560\u001b[0m\n",
      "\u001b[34m[1]#011train-error:0.27967#011validation-error:0.28570\u001b[0m\n",
      "\u001b[34m[2]#011train-error:0.27833#011validation-error:0.28780\u001b[0m\n",
      "\u001b[34m[3]#011train-error:0.26667#011validation-error:0.27620\u001b[0m\n",
      "\u001b[34m[4]#011train-error:0.25933#011validation-error:0.27080\u001b[0m\n",
      "\u001b[34m[5]#011train-error:0.24687#011validation-error:0.25880\u001b[0m\n",
      "\u001b[34m[6]#011train-error:0.24053#011validation-error:0.25370\u001b[0m\n",
      "\u001b[34m[7]#011train-error:0.23707#011validation-error:0.25000\u001b[0m\n",
      "\u001b[34m[8]#011train-error:0.22973#011validation-error:0.24580\u001b[0m\n",
      "\u001b[34m[9]#011train-error:0.22807#011validation-error:0.24560\u001b[0m\n",
      "\u001b[34m[10]#011train-error:0.22280#011validation-error:0.24170\u001b[0m\n",
      "\u001b[34m[11]#011train-error:0.21587#011validation-error:0.23280\u001b[0m\n",
      "\u001b[34m[12]#011train-error:0.21373#011validation-error:0.23260\u001b[0m\n",
      "\u001b[34m[13]#011train-error:0.20960#011validation-error:0.22820\u001b[0m\n",
      "\u001b[34m[14]#011train-error:0.20620#011validation-error:0.22330\u001b[0m\n",
      "\u001b[34m[15]#011train-error:0.20573#011validation-error:0.22230\u001b[0m\n",
      "\u001b[34m[16]#011train-error:0.20013#011validation-error:0.21970\u001b[0m\n",
      "\u001b[34m[17]#011train-error:0.19633#011validation-error:0.21620\u001b[0m\n",
      "\u001b[34m[18]#011train-error:0.19420#011validation-error:0.21340\u001b[0m\n",
      "\u001b[34m[19]#011train-error:0.19147#011validation-error:0.21090\u001b[0m\n",
      "\u001b[34m[20]#011train-error:0.18740#011validation-error:0.20750\u001b[0m\n",
      "\u001b[34m[21]#011train-error:0.18507#011validation-error:0.20530\u001b[0m\n",
      "\u001b[34m[22]#011train-error:0.18340#011validation-error:0.20510\u001b[0m\n",
      "\u001b[34m[23]#011train-error:0.18120#011validation-error:0.20360\u001b[0m\n",
      "\u001b[34m[24]#011train-error:0.17960#011validation-error:0.20120\u001b[0m\n",
      "\u001b[34m[25]#011train-error:0.17673#011validation-error:0.20130\u001b[0m\n",
      "\u001b[34m[26]#011train-error:0.17500#011validation-error:0.19840\u001b[0m\n",
      "\u001b[34m[27]#011train-error:0.17327#011validation-error:0.19720\u001b[0m\n",
      "\u001b[34m[28]#011train-error:0.16993#011validation-error:0.19490\u001b[0m\n",
      "\u001b[34m[29]#011train-error:0.16887#011validation-error:0.19380\u001b[0m\n",
      "\u001b[34m[30]#011train-error:0.16613#011validation-error:0.19130\u001b[0m\n",
      "\u001b[34m[31]#011train-error:0.16327#011validation-error:0.19320\u001b[0m\n",
      "\u001b[34m[32]#011train-error:0.16160#011validation-error:0.19150\u001b[0m\n",
      "\u001b[34m[33]#011train-error:0.16147#011validation-error:0.19020\u001b[0m\n",
      "\u001b[34m[34]#011train-error:0.15907#011validation-error:0.18840\u001b[0m\n",
      "\u001b[34m[35]#011train-error:0.15627#011validation-error:0.18680\u001b[0m\n",
      "\u001b[34m[36]#011train-error:0.15427#011validation-error:0.18570\u001b[0m\n",
      "\u001b[34m[37]#011train-error:0.15427#011validation-error:0.18350\u001b[0m\n",
      "\u001b[34m[38]#011train-error:0.15400#011validation-error:0.18220\u001b[0m\n",
      "\u001b[34m[39]#011train-error:0.15247#011validation-error:0.18140\u001b[0m\n",
      "\u001b[34m[40]#011train-error:0.15047#011validation-error:0.18100\u001b[0m\n",
      "\u001b[34m[41]#011train-error:0.14860#011validation-error:0.18050\u001b[0m\n",
      "\u001b[34m[42]#011train-error:0.14760#011validation-error:0.17990\u001b[0m\n",
      "\u001b[34m[43]#011train-error:0.14507#011validation-error:0.18010\u001b[0m\n",
      "\u001b[34m[44]#011train-error:0.14453#011validation-error:0.17850\u001b[0m\n",
      "\u001b[34m[45]#011train-error:0.14313#011validation-error:0.17790\u001b[0m\n",
      "\u001b[34m[46]#011train-error:0.14327#011validation-error:0.17700\u001b[0m\n",
      "\u001b[34m[47]#011train-error:0.14253#011validation-error:0.17800\u001b[0m\n",
      "\u001b[34m[48]#011train-error:0.14107#011validation-error:0.17750\u001b[0m\n",
      "\u001b[34m[49]#011train-error:0.13947#011validation-error:0.17640\u001b[0m\n",
      "\u001b[34m[50]#011train-error:0.13800#011validation-error:0.17440\u001b[0m\n",
      "\u001b[34m[51]#011train-error:0.13613#011validation-error:0.17310\u001b[0m\n",
      "\u001b[34m[52]#011train-error:0.13587#011validation-error:0.17260\u001b[0m\n",
      "\u001b[34m[53]#011train-error:0.13487#011validation-error:0.17210\u001b[0m\n",
      "\u001b[34m[54]#011train-error:0.13280#011validation-error:0.17240\u001b[0m\n",
      "\u001b[34m[55]#011train-error:0.13253#011validation-error:0.17180\u001b[0m\n",
      "\u001b[34m[56]#011train-error:0.13053#011validation-error:0.17030\u001b[0m\n",
      "\u001b[34m[57]#011train-error:0.12953#011validation-error:0.16980\u001b[0m\n",
      "\u001b[34m[58]#011train-error:0.12873#011validation-error:0.17000\u001b[0m\n",
      "\u001b[34m[59]#011train-error:0.12807#011validation-error:0.17110\u001b[0m\n",
      "\u001b[34m[60]#011train-error:0.12760#011validation-error:0.17020\u001b[0m\n",
      "\u001b[34m[61]#011train-error:0.12700#011validation-error:0.16950\u001b[0m\n",
      "\u001b[34m[62]#011train-error:0.12767#011validation-error:0.16850\u001b[0m\n",
      "\u001b[34m[63]#011train-error:0.12640#011validation-error:0.16910\u001b[0m\n",
      "\u001b[34m[64]#011train-error:0.12593#011validation-error:0.16780\u001b[0m\n",
      "\u001b[34m[65]#011train-error:0.12493#011validation-error:0.16830\u001b[0m\n",
      "\u001b[34m[66]#011train-error:0.12440#011validation-error:0.16730\u001b[0m\n",
      "\u001b[34m[67]#011train-error:0.12340#011validation-error:0.16590\u001b[0m\n",
      "\u001b[34m[68]#011train-error:0.12207#011validation-error:0.16590\u001b[0m\n",
      "\u001b[34m[69]#011train-error:0.12167#011validation-error:0.16540\u001b[0m\n",
      "\u001b[34m[70]#011train-error:0.12093#011validation-error:0.16460\u001b[0m\n",
      "\u001b[34m[71]#011train-error:0.12000#011validation-error:0.16410\u001b[0m\n",
      "\u001b[34m[72]#011train-error:0.11907#011validation-error:0.16240\u001b[0m\n",
      "\u001b[34m[73]#011train-error:0.11867#011validation-error:0.16080\u001b[0m\n",
      "\u001b[34m[74]#011train-error:0.11833#011validation-error:0.16020\u001b[0m\n",
      "\u001b[34m[75]#011train-error:0.11773#011validation-error:0.16080\u001b[0m\n",
      "\u001b[34m[76]#011train-error:0.11707#011validation-error:0.16150\u001b[0m\n",
      "\u001b[34m[77]#011train-error:0.11607#011validation-error:0.16060\u001b[0m\n",
      "\u001b[34m[78]#011train-error:0.11620#011validation-error:0.16010\u001b[0m\n",
      "\u001b[34m[79]#011train-error:0.11633#011validation-error:0.16000\u001b[0m\n",
      "\u001b[34m[80]#011train-error:0.11567#011validation-error:0.15960\u001b[0m\n",
      "\u001b[34m[81]#011train-error:0.11400#011validation-error:0.15910\u001b[0m\n",
      "\u001b[34m[82]#011train-error:0.11267#011validation-error:0.15930\u001b[0m\n",
      "\u001b[34m[83]#011train-error:0.11280#011validation-error:0.15890\u001b[0m\n",
      "\u001b[34m[84]#011train-error:0.11227#011validation-error:0.15850\u001b[0m\n",
      "\u001b[34m[85]#011train-error:0.11133#011validation-error:0.15790\u001b[0m\n",
      "\u001b[34m[86]#011train-error:0.11073#011validation-error:0.15790\u001b[0m\n",
      "\u001b[34m[87]#011train-error:0.11133#011validation-error:0.15810\u001b[0m\n",
      "\u001b[34m[88]#011train-error:0.11167#011validation-error:0.15820\u001b[0m\n",
      "\u001b[34m[89]#011train-error:0.11140#011validation-error:0.15730\u001b[0m\n",
      "\u001b[34m[90]#011train-error:0.11047#011validation-error:0.15740\u001b[0m\n",
      "\u001b[34m[91]#011train-error:0.11013#011validation-error:0.15690\u001b[0m\n",
      "\u001b[34m[92]#011train-error:0.10980#011validation-error:0.15720\u001b[0m\n",
      "\u001b[34m[93]#011train-error:0.10893#011validation-error:0.15640\u001b[0m\n",
      "\u001b[34m[94]#011train-error:0.10827#011validation-error:0.15580\u001b[0m\n",
      "\u001b[34m[95]#011train-error:0.10793#011validation-error:0.15660\u001b[0m\n",
      "\u001b[34m[96]#011train-error:0.10780#011validation-error:0.15780\u001b[0m\n",
      "\u001b[34m[97]#011train-error:0.10707#011validation-error:0.15750\u001b[0m\n",
      "\u001b[34m[98]#011train-error:0.10633#011validation-error:0.15710\u001b[0m\n",
      "\u001b[34m[99]#011train-error:0.10567#011validation-error:0.15630\u001b[0m\n",
      "\u001b[34m[100]#011train-error:0.10533#011validation-error:0.15580\u001b[0m\n",
      "\u001b[34m[101]#011train-error:0.10487#011validation-error:0.15550\u001b[0m\n",
      "\u001b[34m[102]#011train-error:0.10460#011validation-error:0.15490\u001b[0m\n",
      "\u001b[34m[103]#011train-error:0.10380#011validation-error:0.15380\u001b[0m\n"
     ]
    },
    {
     "name": "stdout",
     "output_type": "stream",
     "text": [
      "\u001b[34m[104]#011train-error:0.10293#011validation-error:0.15340\u001b[0m\n",
      "\u001b[34m[105]#011train-error:0.10213#011validation-error:0.15340\u001b[0m\n",
      "\u001b[34m[106]#011train-error:0.10187#011validation-error:0.15290\u001b[0m\n",
      "\u001b[34m[107]#011train-error:0.10180#011validation-error:0.15300\u001b[0m\n",
      "\u001b[34m[108]#011train-error:0.10093#011validation-error:0.15290\u001b[0m\n",
      "\u001b[34m[109]#011train-error:0.10053#011validation-error:0.15240\u001b[0m\n",
      "\u001b[34m[110]#011train-error:0.10067#011validation-error:0.15260\u001b[0m\n",
      "\u001b[34m[111]#011train-error:0.09993#011validation-error:0.15170\u001b[0m\n",
      "\u001b[34m[112]#011train-error:0.09920#011validation-error:0.15190\u001b[0m\n",
      "\u001b[34m[113]#011train-error:0.09887#011validation-error:0.15150\u001b[0m\n",
      "\u001b[34m[114]#011train-error:0.09847#011validation-error:0.15130\u001b[0m\n",
      "\u001b[34m[115]#011train-error:0.09833#011validation-error:0.15100\u001b[0m\n",
      "\u001b[34m[116]#011train-error:0.09780#011validation-error:0.15050\u001b[0m\n",
      "\u001b[34m[117]#011train-error:0.09840#011validation-error:0.15000\u001b[0m\n",
      "\u001b[34m[118]#011train-error:0.09800#011validation-error:0.14970\u001b[0m\n",
      "\u001b[34m[119]#011train-error:0.09833#011validation-error:0.15040\u001b[0m\n",
      "\u001b[34m[120]#011train-error:0.09793#011validation-error:0.14940\u001b[0m\n",
      "\u001b[34m[121]#011train-error:0.09793#011validation-error:0.15030\u001b[0m\n",
      "\u001b[34m[122]#011train-error:0.09840#011validation-error:0.15030\u001b[0m\n",
      "\u001b[34m[123]#011train-error:0.09733#011validation-error:0.15060\u001b[0m\n",
      "\u001b[34m[124]#011train-error:0.09720#011validation-error:0.15050\u001b[0m\n",
      "\u001b[34m[125]#011train-error:0.09587#011validation-error:0.14890\u001b[0m\n",
      "\u001b[34m[126]#011train-error:0.09540#011validation-error:0.14950\u001b[0m\n",
      "\u001b[34m[127]#011train-error:0.09507#011validation-error:0.14950\u001b[0m\n",
      "\u001b[34m[128]#011train-error:0.09507#011validation-error:0.14950\u001b[0m\n",
      "\u001b[34m[129]#011train-error:0.09447#011validation-error:0.14870\u001b[0m\n",
      "\u001b[34m[130]#011train-error:0.09407#011validation-error:0.14880\u001b[0m\n",
      "\u001b[34m[131]#011train-error:0.09360#011validation-error:0.14820\u001b[0m\n",
      "\u001b[34m[132]#011train-error:0.09307#011validation-error:0.14880\u001b[0m\n",
      "\u001b[34m[133]#011train-error:0.09313#011validation-error:0.14910\u001b[0m\n",
      "\u001b[34m[134]#011train-error:0.09313#011validation-error:0.14840\u001b[0m\n",
      "\u001b[34m[135]#011train-error:0.09327#011validation-error:0.14830\u001b[0m\n",
      "\u001b[34m[136]#011train-error:0.09273#011validation-error:0.14780\u001b[0m\n",
      "\u001b[34m[137]#011train-error:0.09167#011validation-error:0.14710\u001b[0m\n",
      "\u001b[34m[138]#011train-error:0.09187#011validation-error:0.14660\u001b[0m\n",
      "\u001b[34m[139]#011train-error:0.09107#011validation-error:0.14760\u001b[0m\n",
      "\u001b[34m[140]#011train-error:0.09153#011validation-error:0.14750\u001b[0m\n",
      "\u001b[34m[141]#011train-error:0.09093#011validation-error:0.14750\u001b[0m\n",
      "\u001b[34m[142]#011train-error:0.09080#011validation-error:0.14650\u001b[0m\n",
      "\u001b[34m[143]#011train-error:0.09040#011validation-error:0.14620\u001b[0m\n",
      "\u001b[34m[144]#011train-error:0.09013#011validation-error:0.14600\u001b[0m\n",
      "\u001b[34m[145]#011train-error:0.08973#011validation-error:0.14710\u001b[0m\n",
      "\u001b[34m[146]#011train-error:0.08920#011validation-error:0.14700\u001b[0m\n",
      "\u001b[34m[147]#011train-error:0.08880#011validation-error:0.14760\u001b[0m\n",
      "\u001b[34m[148]#011train-error:0.08827#011validation-error:0.14740\u001b[0m\n",
      "\u001b[34m[149]#011train-error:0.08807#011validation-error:0.14700\u001b[0m\n",
      "\u001b[34m[150]#011train-error:0.08813#011validation-error:0.14600\u001b[0m\n",
      "\u001b[34m[151]#011train-error:0.08793#011validation-error:0.14640\u001b[0m\n",
      "\u001b[34m[152]#011train-error:0.08740#011validation-error:0.14650\u001b[0m\n",
      "\u001b[34m[153]#011train-error:0.08713#011validation-error:0.14560\u001b[0m\n",
      "\u001b[34m[154]#011train-error:0.08647#011validation-error:0.14490\u001b[0m\n",
      "\u001b[34m[155]#011train-error:0.08613#011validation-error:0.14450\u001b[0m\n",
      "\u001b[34m[156]#011train-error:0.08573#011validation-error:0.14480\u001b[0m\n",
      "\u001b[34m[157]#011train-error:0.08587#011validation-error:0.14400\u001b[0m\n",
      "\u001b[34m[158]#011train-error:0.08560#011validation-error:0.14390\u001b[0m\n",
      "\u001b[34m[159]#011train-error:0.08487#011validation-error:0.14360\u001b[0m\n",
      "\u001b[34m[160]#011train-error:0.08473#011validation-error:0.14350\u001b[0m\n",
      "\u001b[34m[161]#011train-error:0.08447#011validation-error:0.14280\u001b[0m\n",
      "\u001b[34m[162]#011train-error:0.08380#011validation-error:0.14290\u001b[0m\n",
      "\u001b[34m[163]#011train-error:0.08360#011validation-error:0.14320\u001b[0m\n",
      "\u001b[34m[164]#011train-error:0.08313#011validation-error:0.14340\u001b[0m\n",
      "\u001b[34m[165]#011train-error:0.08313#011validation-error:0.14300\u001b[0m\n",
      "\u001b[34m[166]#011train-error:0.08280#011validation-error:0.14360\u001b[0m\n",
      "\u001b[34m[167]#011train-error:0.08307#011validation-error:0.14310\u001b[0m\n",
      "\u001b[34m[168]#011train-error:0.08280#011validation-error:0.14250\u001b[0m\n",
      "\u001b[34m[169]#011train-error:0.08260#011validation-error:0.14250\u001b[0m\n",
      "\u001b[34m[170]#011train-error:0.08247#011validation-error:0.14250\u001b[0m\n",
      "\u001b[34m[171]#011train-error:0.08213#011validation-error:0.14240\u001b[0m\n",
      "\u001b[34m[172]#011train-error:0.08213#011validation-error:0.14250\u001b[0m\n",
      "\u001b[34m[173]#011train-error:0.08160#011validation-error:0.14190\u001b[0m\n",
      "\u001b[34m[174]#011train-error:0.08127#011validation-error:0.14250\u001b[0m\n",
      "\u001b[34m[175]#011train-error:0.08113#011validation-error:0.14080\u001b[0m\n",
      "\u001b[34m[176]#011train-error:0.08087#011validation-error:0.14110\u001b[0m\n",
      "\u001b[34m[177]#011train-error:0.08067#011validation-error:0.14140\u001b[0m\n",
      "\u001b[34m[178]#011train-error:0.08067#011validation-error:0.14130\u001b[0m\n",
      "\u001b[34m[179]#011train-error:0.08067#011validation-error:0.14100\u001b[0m\n",
      "\u001b[34m[180]#011train-error:0.08007#011validation-error:0.14030\u001b[0m\n",
      "\u001b[34m[181]#011train-error:0.07987#011validation-error:0.14060\u001b[0m\n",
      "\u001b[34m[182]#011train-error:0.07980#011validation-error:0.14060\u001b[0m\n",
      "\u001b[34m[183]#011train-error:0.07933#011validation-error:0.14030\u001b[0m\n",
      "\u001b[34m[184]#011train-error:0.07940#011validation-error:0.13980\u001b[0m\n",
      "\u001b[34m[185]#011train-error:0.07927#011validation-error:0.13900\u001b[0m\n",
      "\u001b[34m[186]#011train-error:0.07867#011validation-error:0.13940\u001b[0m\n",
      "\u001b[34m[187]#011train-error:0.07820#011validation-error:0.13870\u001b[0m\n",
      "\u001b[34m[188]#011train-error:0.07800#011validation-error:0.13870\u001b[0m\n",
      "\u001b[34m[189]#011train-error:0.07753#011validation-error:0.13890\u001b[0m\n",
      "\u001b[34m[190]#011train-error:0.07753#011validation-error:0.13930\u001b[0m\n",
      "\u001b[34m[191]#011train-error:0.07760#011validation-error:0.13860\u001b[0m\n",
      "\u001b[34m[192]#011train-error:0.07753#011validation-error:0.13830\u001b[0m\n",
      "\u001b[34m[193]#011train-error:0.07700#011validation-error:0.13880\u001b[0m\n",
      "\u001b[34m[194]#011train-error:0.07680#011validation-error:0.13890\u001b[0m\n",
      "\u001b[34m[195]#011train-error:0.07687#011validation-error:0.13830\u001b[0m\n",
      "\u001b[34m[196]#011train-error:0.07667#011validation-error:0.13870\u001b[0m\n",
      "\u001b[34m[197]#011train-error:0.07667#011validation-error:0.13830\u001b[0m\n",
      "\u001b[34m[198]#011train-error:0.07640#011validation-error:0.13900\u001b[0m\n",
      "\u001b[34m[199]#011train-error:0.07600#011validation-error:0.13900\u001b[0m\n",
      "\u001b[34m[200]#011train-error:0.07607#011validation-error:0.13870\u001b[0m\n",
      "\u001b[34m[201]#011train-error:0.07600#011validation-error:0.13860\u001b[0m\n",
      "\u001b[34m[202]#011train-error:0.07600#011validation-error:0.13840\u001b[0m\n",
      "\n",
      "2020-07-09 04:47:57 Uploading - Uploading generated training model\n",
      "2020-07-09 04:47:57 Completed - Training job completed\n",
      "Training seconds: 304\n",
      "Billable seconds: 304\n"
     ]
    }
   ],
   "source": [
    "xgb.fit({'train': s3_input_train, 'validation': s3_input_validation})"
   ]
  },
  {
   "cell_type": "markdown",
   "metadata": {},
   "source": [
    "### Testing the model\n",
    "\n",
    "Now that we've fit our XGBoost model, it's time to see how well it performs. To do this we will use SageMakers Batch Transform functionality. Batch Transform is a convenient way to perform inference on a large dataset in a way that is not realtime. That is, we don't necessarily need to use our model's results immediately and instead we can peform inference on a large number of samples. An example of this in industry might be peforming an end of month report. This method of inference can also be useful to us as it means to can perform inference on our entire test set. \n",
    "\n",
    "To perform a Batch Transformation we need to first create a transformer objects from our trained estimator object."
   ]
  },
  {
   "cell_type": "code",
   "execution_count": 24,
   "metadata": {},
   "outputs": [
    {
     "name": "stderr",
     "output_type": "stream",
     "text": [
      "WARNING:sagemaker:Parameter image will be renamed to image_uri in SageMaker Python SDK v2.\n"
     ]
    }
   ],
   "source": [
    "xgb_transformer = xgb.transformer(instance_count = 1, instance_type = 'ml.m4.xlarge')"
   ]
  },
  {
   "cell_type": "markdown",
   "metadata": {},
   "source": [
    "Next we actually perform the transform job. When doing so we need to make sure to specify the type of data we are sending so that it is serialized correctly in the background. In our case we are providing our model with csv data so we specify `text/csv`. Also, if the test data that we have provided is too large to process all at once then we need to specify how the data file should be split up. Since each line is a single entry in our data set we tell SageMaker that it can split the input on each line."
   ]
  },
  {
   "cell_type": "code",
   "execution_count": 25,
   "metadata": {},
   "outputs": [],
   "source": [
    "xgb_transformer.transform(test_location, content_type='text/csv', split_type='Line')"
   ]
  },
  {
   "cell_type": "markdown",
   "metadata": {},
   "source": [
    "Currently the transform job is running but it is doing so in the background. Since we wish to wait until the transform job is done and we would like a bit of feedback we can run the `wait()` method."
   ]
  },
  {
   "cell_type": "code",
   "execution_count": 26,
   "metadata": {},
   "outputs": [
    {
     "name": "stdout",
     "output_type": "stream",
     "text": [
      ".....................\u001b[34m[2020-07-09:04:51:54:INFO] No GPUs detected (normal if no gpus installed)\u001b[0m\n",
      "\u001b[34m[2020-07-09:04:51:54:INFO] No GPUs detected (normal if no gpus installed)\u001b[0m\n",
      "\u001b[34m[2020-07-09:04:51:54:INFO] nginx config: \u001b[0m\n",
      "\u001b[34mworker_processes auto;\u001b[0m\n",
      "\u001b[34mdaemon off;\u001b[0m\n",
      "\u001b[34mpid /tmp/nginx.pid;\u001b[0m\n",
      "\u001b[34merror_log  /dev/stderr;\n",
      "\u001b[0m\n",
      "\u001b[34mworker_rlimit_nofile 4096;\n",
      "\u001b[0m\n",
      "\u001b[34mevents {\n",
      "  worker_connections 2048;\u001b[0m\n",
      "\u001b[34m}\n",
      "\u001b[0m\n",
      "\u001b[34mhttp {\n",
      "  include /etc/nginx/mime.types;\n",
      "  default_type application/octet-stream;\n",
      "  access_log /dev/stdout combined;\n",
      "\n",
      "  upstream gunicorn {\n",
      "    server unix:/tmp/gunicorn.sock;\n",
      "  }\n",
      "\n",
      "  server {\n",
      "    listen 8080 deferred;\n",
      "    client_max_body_size 0;\n",
      "\n",
      "    keepalive_timeout 3;\n",
      "\n",
      "    location ~ ^/(ping|invocations|execution-parameters) {\n",
      "      proxy_set_header X-Forwarded-For $proxy_add_x_forwarded_for;\n",
      "      proxy_set_header Host $http_host;\n",
      "      proxy_redirect off;\n",
      "      proxy_read_timeout 60s;\n",
      "      proxy_pass http://gunicorn;\n",
      "    }\n",
      "\n",
      "    location / {\n",
      "      return 404 \"{}\";\n",
      "    }\n",
      "\n",
      "  }\u001b[0m\n",
      "\u001b[34m}\n",
      "\n",
      "\u001b[0m\n",
      "\u001b[34m[2020-07-09 04:51:55 +0000] [23] [INFO] Starting gunicorn 19.10.0\u001b[0m\n",
      "\u001b[34m[2020-07-09 04:51:55 +0000] [23] [INFO] Listening at: unix:/tmp/gunicorn.sock (23)\u001b[0m\n",
      "\u001b[34m[2020-07-09 04:51:55 +0000] [23] [INFO] Using worker: gevent\u001b[0m\n",
      "\u001b[34m[2020-07-09 04:51:55 +0000] [26] [INFO] Booting worker with pid: 26\u001b[0m\n",
      "\u001b[34m[2020-07-09 04:51:55 +0000] [27] [INFO] Booting worker with pid: 27\u001b[0m\n",
      "\u001b[34m[2020-07-09 04:51:55 +0000] [28] [INFO] Booting worker with pid: 28\u001b[0m\n",
      "\u001b[34m[2020-07-09 04:51:55 +0000] [29] [INFO] Booting worker with pid: 29\u001b[0m\n",
      "\u001b[34m[2020-07-09:04:52:07:INFO] No GPUs detected (normal if no gpus installed)\u001b[0m\n",
      "\u001b[34m169.254.255.130 - - [09/Jul/2020:04:52:07 +0000] \"GET /ping HTTP/1.1\" 200 0 \"-\" \"Go-http-client/1.1\"\u001b[0m\n",
      "\u001b[34m[2020-07-09:04:52:07:INFO] No GPUs detected (normal if no gpus installed)\u001b[0m\n",
      "\u001b[34m169.254.255.130 - - [09/Jul/2020:04:52:07 +0000] \"GET /execution-parameters HTTP/1.1\" 200 84 \"-\" \"Go-http-client/1.1\"\u001b[0m\n",
      "\u001b[35m[2020-07-09:04:52:07:INFO] No GPUs detected (normal if no gpus installed)\u001b[0m\n",
      "\u001b[35m169.254.255.130 - - [09/Jul/2020:04:52:07 +0000] \"GET /ping HTTP/1.1\" 200 0 \"-\" \"Go-http-client/1.1\"\u001b[0m\n",
      "\u001b[35m[2020-07-09:04:52:07:INFO] No GPUs detected (normal if no gpus installed)\u001b[0m\n",
      "\u001b[35m169.254.255.130 - - [09/Jul/2020:04:52:07 +0000] \"GET /execution-parameters HTTP/1.1\" 200 84 \"-\" \"Go-http-client/1.1\"\u001b[0m\n",
      "\u001b[34m[2020-07-09:04:52:09:INFO] Determined delimiter of CSV input is ','\u001b[0m\n",
      "\u001b[35m[2020-07-09:04:52:09:INFO] Determined delimiter of CSV input is ','\u001b[0m\n",
      "\u001b[34m[2020-07-09:04:52:09:INFO] No GPUs detected (normal if no gpus installed)\u001b[0m\n",
      "\u001b[34m[2020-07-09:04:52:09:INFO] Determined delimiter of CSV input is ','\u001b[0m\n",
      "\u001b[34m[2020-07-09:04:52:10:INFO] No GPUs detected (normal if no gpus installed)\u001b[0m\n",
      "\u001b[34m[2020-07-09:04:52:10:INFO] Determined delimiter of CSV input is ','\u001b[0m\n",
      "\u001b[34m[2020-07-09:04:52:10:INFO] Determined delimiter of CSV input is ','\u001b[0m\n",
      "\u001b[35m[2020-07-09:04:52:09:INFO] No GPUs detected (normal if no gpus installed)\u001b[0m\n",
      "\u001b[35m[2020-07-09:04:52:09:INFO] Determined delimiter of CSV input is ','\u001b[0m\n",
      "\u001b[35m[2020-07-09:04:52:10:INFO] No GPUs detected (normal if no gpus installed)\u001b[0m\n",
      "\u001b[35m[2020-07-09:04:52:10:INFO] Determined delimiter of CSV input is ','\u001b[0m\n",
      "\u001b[35m[2020-07-09:04:52:10:INFO] Determined delimiter of CSV input is ','\u001b[0m\n",
      "\u001b[32m2020-07-09T04:52:07.252:[sagemaker logs]: MaxConcurrentTransforms=4, MaxPayloadInMB=6, BatchStrategy=MULTI_RECORD\u001b[0m\n",
      "\u001b[34m169.254.255.130 - - [09/Jul/2020:04:52:13 +0000] \"POST /invocations HTTP/1.1\" 200 12195 \"-\" \"Go-http-client/1.1\"\u001b[0m\n",
      "\u001b[34m[2020-07-09:04:52:13:INFO] Determined delimiter of CSV input is ','\u001b[0m\n",
      "\u001b[35m169.254.255.130 - - [09/Jul/2020:04:52:13 +0000] \"POST /invocations HTTP/1.1\" 200 12195 \"-\" \"Go-http-client/1.1\"\u001b[0m\n",
      "\u001b[35m[2020-07-09:04:52:13:INFO] Determined delimiter of CSV input is ','\u001b[0m\n",
      "\u001b[34m[2020-07-09:04:52:14:INFO] Determined delimiter of CSV input is ','\u001b[0m\n",
      "\u001b[35m[2020-07-09:04:52:14:INFO] Determined delimiter of CSV input is ','\u001b[0m\n",
      "\u001b[34m169.254.255.130 - - [09/Jul/2020:04:52:16 +0000] \"POST /invocations HTTP/1.1\" 200 12178 \"-\" \"Go-http-client/1.1\"\u001b[0m\n",
      "\u001b[34m[2020-07-09:04:52:16:INFO] Determined delimiter of CSV input is ','\u001b[0m\n",
      "\u001b[34m169.254.255.130 - - [09/Jul/2020:04:52:17 +0000] \"POST /invocations HTTP/1.1\" 200 12195 \"-\" \"Go-http-client/1.1\"\u001b[0m\n",
      "\u001b[35m169.254.255.130 - - [09/Jul/2020:04:52:16 +0000] \"POST /invocations HTTP/1.1\" 200 12178 \"-\" \"Go-http-client/1.1\"\u001b[0m\n",
      "\u001b[35m[2020-07-09:04:52:16:INFO] Determined delimiter of CSV input is ','\u001b[0m\n",
      "\u001b[35m169.254.255.130 - - [09/Jul/2020:04:52:17 +0000] \"POST /invocations HTTP/1.1\" 200 12195 \"-\" \"Go-http-client/1.1\"\u001b[0m\n",
      "\u001b[34m[2020-07-09:04:52:17:INFO] Determined delimiter of CSV input is ','\u001b[0m\n",
      "\u001b[34m169.254.255.130 - - [09/Jul/2020:04:52:17 +0000] \"POST /invocations HTTP/1.1\" 200 12210 \"-\" \"Go-http-client/1.1\"\u001b[0m\n",
      "\u001b[34m169.254.255.130 - - [09/Jul/2020:04:52:17 +0000] \"POST /invocations HTTP/1.1\" 200 12208 \"-\" \"Go-http-client/1.1\"\u001b[0m\n",
      "\u001b[34m[2020-07-09:04:52:17:INFO] Determined delimiter of CSV input is ','\u001b[0m\n",
      "\u001b[34m[2020-07-09:04:52:17:INFO] Determined delimiter of CSV input is ','\u001b[0m\n",
      "\u001b[35m[2020-07-09:04:52:17:INFO] Determined delimiter of CSV input is ','\u001b[0m\n",
      "\u001b[35m169.254.255.130 - - [09/Jul/2020:04:52:17 +0000] \"POST /invocations HTTP/1.1\" 200 12210 \"-\" \"Go-http-client/1.1\"\u001b[0m\n",
      "\u001b[35m169.254.255.130 - - [09/Jul/2020:04:52:17 +0000] \"POST /invocations HTTP/1.1\" 200 12208 \"-\" \"Go-http-client/1.1\"\u001b[0m\n",
      "\u001b[35m[2020-07-09:04:52:17:INFO] Determined delimiter of CSV input is ','\u001b[0m\n",
      "\u001b[35m[2020-07-09:04:52:17:INFO] Determined delimiter of CSV input is ','\u001b[0m\n",
      "\u001b[34m169.254.255.130 - - [09/Jul/2020:04:52:20 +0000] \"POST /invocations HTTP/1.1\" 200 12270 \"-\" \"Go-http-client/1.1\"\u001b[0m\n",
      "\u001b[34m[2020-07-09:04:52:20:INFO] Determined delimiter of CSV input is ','\u001b[0m\n",
      "\u001b[34m169.254.255.130 - - [09/Jul/2020:04:52:20 +0000] \"POST /invocations HTTP/1.1\" 200 12232 \"-\" \"Go-http-client/1.1\"\u001b[0m\n",
      "\u001b[34m[2020-07-09:04:52:21:INFO] Determined delimiter of CSV input is ','\u001b[0m\n",
      "\u001b[34m169.254.255.130 - - [09/Jul/2020:04:52:21 +0000] \"POST /invocations HTTP/1.1\" 200 12246 \"-\" \"Go-http-client/1.1\"\u001b[0m\n",
      "\u001b[34m169.254.255.130 - - [09/Jul/2020:04:52:21 +0000] \"POST /invocations HTTP/1.1\" 200 12231 \"-\" \"Go-http-client/1.1\"\u001b[0m\n",
      "\u001b[35m169.254.255.130 - - [09/Jul/2020:04:52:20 +0000] \"POST /invocations HTTP/1.1\" 200 12270 \"-\" \"Go-http-client/1.1\"\u001b[0m\n",
      "\u001b[35m[2020-07-09:04:52:20:INFO] Determined delimiter of CSV input is ','\u001b[0m\n",
      "\u001b[35m169.254.255.130 - - [09/Jul/2020:04:52:20 +0000] \"POST /invocations HTTP/1.1\" 200 12232 \"-\" \"Go-http-client/1.1\"\u001b[0m\n",
      "\u001b[35m[2020-07-09:04:52:21:INFO] Determined delimiter of CSV input is ','\u001b[0m\n",
      "\u001b[35m169.254.255.130 - - [09/Jul/2020:04:52:21 +0000] \"POST /invocations HTTP/1.1\" 200 12246 \"-\" \"Go-http-client/1.1\"\u001b[0m\n",
      "\u001b[35m169.254.255.130 - - [09/Jul/2020:04:52:21 +0000] \"POST /invocations HTTP/1.1\" 200 12231 \"-\" \"Go-http-client/1.1\"\u001b[0m\n",
      "\u001b[34m[2020-07-09:04:52:21:INFO] Determined delimiter of CSV input is ','\u001b[0m\n",
      "\u001b[34m[2020-07-09:04:52:21:INFO] Determined delimiter of CSV input is ','\u001b[0m\n",
      "\u001b[35m[2020-07-09:04:52:21:INFO] Determined delimiter of CSV input is ','\u001b[0m\n",
      "\u001b[35m[2020-07-09:04:52:21:INFO] Determined delimiter of CSV input is ','\u001b[0m\n",
      "\u001b[34m169.254.255.130 - - [09/Jul/2020:04:52:24 +0000] \"POST /invocations HTTP/1.1\" 200 12199 \"-\" \"Go-http-client/1.1\"\u001b[0m\n",
      "\u001b[34m[2020-07-09:04:52:24:INFO] Determined delimiter of CSV input is ','\u001b[0m\n",
      "\u001b[35m169.254.255.130 - - [09/Jul/2020:04:52:24 +0000] \"POST /invocations HTTP/1.1\" 200 12199 \"-\" \"Go-http-client/1.1\"\u001b[0m\n",
      "\u001b[35m[2020-07-09:04:52:24:INFO] Determined delimiter of CSV input is ','\u001b[0m\n",
      "\u001b[34m169.254.255.130 - - [09/Jul/2020:04:52:24 +0000] \"POST /invocations HTTP/1.1\" 200 12237 \"-\" \"Go-http-client/1.1\"\u001b[0m\n",
      "\u001b[34m169.254.255.130 - - [09/Jul/2020:04:52:24 +0000] \"POST /invocations HTTP/1.1\" 200 12259 \"-\" \"Go-http-client/1.1\"\u001b[0m\n",
      "\u001b[34m[2020-07-09:04:52:24:INFO] Determined delimiter of CSV input is ','\u001b[0m\n",
      "\u001b[34m[2020-07-09:04:52:25:INFO] Determined delimiter of CSV input is ','\u001b[0m\n",
      "\u001b[35m169.254.255.130 - - [09/Jul/2020:04:52:24 +0000] \"POST /invocations HTTP/1.1\" 200 12237 \"-\" \"Go-http-client/1.1\"\u001b[0m\n",
      "\u001b[35m169.254.255.130 - - [09/Jul/2020:04:52:24 +0000] \"POST /invocations HTTP/1.1\" 200 12259 \"-\" \"Go-http-client/1.1\"\u001b[0m\n",
      "\u001b[35m[2020-07-09:04:52:24:INFO] Determined delimiter of CSV input is ','\u001b[0m\n",
      "\u001b[35m[2020-07-09:04:52:25:INFO] Determined delimiter of CSV input is ','\u001b[0m\n",
      "\u001b[34m169.254.255.130 - - [09/Jul/2020:04:52:27 +0000] \"POST /invocations HTTP/1.1\" 200 12211 \"-\" \"Go-http-client/1.1\"\u001b[0m\n",
      "\u001b[34m[2020-07-09:04:52:27:INFO] Determined delimiter of CSV input is ','\u001b[0m\n",
      "\u001b[34m169.254.255.130 - - [09/Jul/2020:04:52:28 +0000] \"POST /invocations HTTP/1.1\" 200 12284 \"-\" \"Go-http-client/1.1\"\u001b[0m\n",
      "\u001b[34m[2020-07-09:04:52:28:INFO] Determined delimiter of CSV input is ','\u001b[0m\n",
      "\u001b[35m169.254.255.130 - - [09/Jul/2020:04:52:27 +0000] \"POST /invocations HTTP/1.1\" 200 12211 \"-\" \"Go-http-client/1.1\"\u001b[0m\n",
      "\u001b[35m[2020-07-09:04:52:27:INFO] Determined delimiter of CSV input is ','\u001b[0m\n",
      "\u001b[35m169.254.255.130 - - [09/Jul/2020:04:52:28 +0000] \"POST /invocations HTTP/1.1\" 200 12284 \"-\" \"Go-http-client/1.1\"\u001b[0m\n",
      "\u001b[35m[2020-07-09:04:52:28:INFO] Determined delimiter of CSV input is ','\u001b[0m\n",
      "\u001b[34m169.254.255.130 - - [09/Jul/2020:04:52:28 +0000] \"POST /invocations HTTP/1.1\" 200 12240 \"-\" \"Go-http-client/1.1\"\u001b[0m\n",
      "\u001b[34m169.254.255.130 - - [09/Jul/2020:04:52:28 +0000] \"POST /invocations HTTP/1.1\" 200 12177 \"-\" \"Go-http-client/1.1\"\u001b[0m\n",
      "\u001b[34m[2020-07-09:04:52:28:INFO] Determined delimiter of CSV input is ','\u001b[0m\n",
      "\u001b[34m[2020-07-09:04:52:28:INFO] Determined delimiter of CSV input is ','\u001b[0m\n",
      "\u001b[35m169.254.255.130 - - [09/Jul/2020:04:52:28 +0000] \"POST /invocations HTTP/1.1\" 200 12240 \"-\" \"Go-http-client/1.1\"\u001b[0m\n",
      "\u001b[35m169.254.255.130 - - [09/Jul/2020:04:52:28 +0000] \"POST /invocations HTTP/1.1\" 200 12177 \"-\" \"Go-http-client/1.1\"\u001b[0m\n",
      "\u001b[35m[2020-07-09:04:52:28:INFO] Determined delimiter of CSV input is ','\u001b[0m\n",
      "\u001b[35m[2020-07-09:04:52:28:INFO] Determined delimiter of CSV input is ','\u001b[0m\n",
      "\u001b[34m169.254.255.130 - - [09/Jul/2020:04:52:31 +0000] \"POST /invocations HTTP/1.1\" 200 12203 \"-\" \"Go-http-client/1.1\"\u001b[0m\n",
      "\u001b[35m169.254.255.130 - - [09/Jul/2020:04:52:31 +0000] \"POST /invocations HTTP/1.1\" 200 12203 \"-\" \"Go-http-client/1.1\"\u001b[0m\n",
      "\u001b[34m[2020-07-09:04:52:31:INFO] Determined delimiter of CSV input is ','\u001b[0m\n",
      "\u001b[34m169.254.255.130 - - [09/Jul/2020:04:52:31 +0000] \"POST /invocations HTTP/1.1\" 200 12222 \"-\" \"Go-http-client/1.1\"\u001b[0m\n",
      "\u001b[34m[2020-07-09:04:52:31:INFO] Determined delimiter of CSV input is ','\u001b[0m\n",
      "\u001b[34m169.254.255.130 - - [09/Jul/2020:04:52:32 +0000] \"POST /invocations HTTP/1.1\" 200 12241 \"-\" \"Go-http-client/1.1\"\u001b[0m\n",
      "\u001b[34m169.254.255.130 - - [09/Jul/2020:04:52:32 +0000] \"POST /invocations HTTP/1.1\" 200 12240 \"-\" \"Go-http-client/1.1\"\u001b[0m\n",
      "\u001b[34m[2020-07-09:04:52:32:INFO] Determined delimiter of CSV input is ','\u001b[0m\n",
      "\u001b[35m[2020-07-09:04:52:31:INFO] Determined delimiter of CSV input is ','\u001b[0m\n",
      "\u001b[35m169.254.255.130 - - [09/Jul/2020:04:52:31 +0000] \"POST /invocations HTTP/1.1\" 200 12222 \"-\" \"Go-http-client/1.1\"\u001b[0m\n",
      "\u001b[35m[2020-07-09:04:52:31:INFO] Determined delimiter of CSV input is ','\u001b[0m\n",
      "\u001b[35m169.254.255.130 - - [09/Jul/2020:04:52:32 +0000] \"POST /invocations HTTP/1.1\" 200 12241 \"-\" \"Go-http-client/1.1\"\u001b[0m\n",
      "\u001b[35m169.254.255.130 - - [09/Jul/2020:04:52:32 +0000] \"POST /invocations HTTP/1.1\" 200 12240 \"-\" \"Go-http-client/1.1\"\u001b[0m\n",
      "\u001b[35m[2020-07-09:04:52:32:INFO] Determined delimiter of CSV input is ','\u001b[0m\n",
      "\u001b[34m[2020-07-09:04:52:32:INFO] Determined delimiter of CSV input is ','\u001b[0m\n",
      "\u001b[35m[2020-07-09:04:52:32:INFO] Determined delimiter of CSV input is ','\u001b[0m\n"
     ]
    },
    {
     "name": "stdout",
     "output_type": "stream",
     "text": [
      "\u001b[34m[2020-07-09:04:52:35:INFO] Determined delimiter of CSV input is ','\u001b[0m\n",
      "\u001b[35m[2020-07-09:04:52:35:INFO] Determined delimiter of CSV input is ','\u001b[0m\n",
      "\u001b[34m169.254.255.130 - - [09/Jul/2020:04:52:35 +0000] \"POST /invocations HTTP/1.1\" 200 12225 \"-\" \"Go-http-client/1.1\"\u001b[0m\n",
      "\u001b[34m[2020-07-09:04:52:35:INFO] Determined delimiter of CSV input is ','\u001b[0m\n",
      "\u001b[34m169.254.255.130 - - [09/Jul/2020:04:52:35 +0000] \"POST /invocations HTTP/1.1\" 200 12231 \"-\" \"Go-http-client/1.1\"\u001b[0m\n",
      "\u001b[34m[2020-07-09:04:52:35:INFO] Determined delimiter of CSV input is ','\u001b[0m\n",
      "\u001b[34m169.254.255.130 - - [09/Jul/2020:04:52:35 +0000] \"POST /invocations HTTP/1.1\" 200 12208 \"-\" \"Go-http-client/1.1\"\u001b[0m\n",
      "\u001b[34m[2020-07-09:04:52:36:INFO] Determined delimiter of CSV input is ','\u001b[0m\n",
      "\u001b[35m169.254.255.130 - - [09/Jul/2020:04:52:35 +0000] \"POST /invocations HTTP/1.1\" 200 12225 \"-\" \"Go-http-client/1.1\"\u001b[0m\n",
      "\u001b[35m[2020-07-09:04:52:35:INFO] Determined delimiter of CSV input is ','\u001b[0m\n",
      "\u001b[35m169.254.255.130 - - [09/Jul/2020:04:52:35 +0000] \"POST /invocations HTTP/1.1\" 200 12231 \"-\" \"Go-http-client/1.1\"\u001b[0m\n",
      "\u001b[35m[2020-07-09:04:52:35:INFO] Determined delimiter of CSV input is ','\u001b[0m\n",
      "\u001b[35m169.254.255.130 - - [09/Jul/2020:04:52:35 +0000] \"POST /invocations HTTP/1.1\" 200 12208 \"-\" \"Go-http-client/1.1\"\u001b[0m\n",
      "\u001b[35m[2020-07-09:04:52:36:INFO] Determined delimiter of CSV input is ','\u001b[0m\n",
      "\u001b[34m169.254.255.130 - - [09/Jul/2020:04:52:38 +0000] \"POST /invocations HTTP/1.1\" 200 12237 \"-\" \"Go-http-client/1.1\"\u001b[0m\n",
      "\u001b[34m[2020-07-09:04:52:38:INFO] Determined delimiter of CSV input is ','\u001b[0m\n",
      "\u001b[34m169.254.255.130 - - [09/Jul/2020:04:52:39 +0000] \"POST /invocations HTTP/1.1\" 200 12197 \"-\" \"Go-http-client/1.1\"\u001b[0m\n",
      "\u001b[34m[2020-07-09:04:52:39:INFO] Determined delimiter of CSV input is ','\u001b[0m\n",
      "\u001b[34m169.254.255.130 - - [09/Jul/2020:04:52:39 +0000] \"POST /invocations HTTP/1.1\" 200 12204 \"-\" \"Go-http-client/1.1\"\u001b[0m\n",
      "\u001b[35m169.254.255.130 - - [09/Jul/2020:04:52:38 +0000] \"POST /invocations HTTP/1.1\" 200 12237 \"-\" \"Go-http-client/1.1\"\u001b[0m\n",
      "\u001b[35m[2020-07-09:04:52:38:INFO] Determined delimiter of CSV input is ','\u001b[0m\n",
      "\u001b[35m169.254.255.130 - - [09/Jul/2020:04:52:39 +0000] \"POST /invocations HTTP/1.1\" 200 12197 \"-\" \"Go-http-client/1.1\"\u001b[0m\n",
      "\u001b[35m[2020-07-09:04:52:39:INFO] Determined delimiter of CSV input is ','\u001b[0m\n",
      "\u001b[35m169.254.255.130 - - [09/Jul/2020:04:52:39 +0000] \"POST /invocations HTTP/1.1\" 200 12204 \"-\" \"Go-http-client/1.1\"\u001b[0m\n",
      "\u001b[34m[2020-07-09:04:52:39:INFO] Determined delimiter of CSV input is ','\u001b[0m\n",
      "\u001b[34m169.254.255.130 - - [09/Jul/2020:04:52:39 +0000] \"POST /invocations HTTP/1.1\" 200 12232 \"-\" \"Go-http-client/1.1\"\u001b[0m\n",
      "\u001b[34m[2020-07-09:04:52:39:INFO] Determined delimiter of CSV input is ','\u001b[0m\n",
      "\u001b[35m[2020-07-09:04:52:39:INFO] Determined delimiter of CSV input is ','\u001b[0m\n",
      "\u001b[35m169.254.255.130 - - [09/Jul/2020:04:52:39 +0000] \"POST /invocations HTTP/1.1\" 200 12232 \"-\" \"Go-http-client/1.1\"\u001b[0m\n",
      "\u001b[35m[2020-07-09:04:52:39:INFO] Determined delimiter of CSV input is ','\u001b[0m\n",
      "\u001b[34m169.254.255.130 - - [09/Jul/2020:04:52:42 +0000] \"POST /invocations HTTP/1.1\" 200 12252 \"-\" \"Go-http-client/1.1\"\u001b[0m\n",
      "\u001b[35m169.254.255.130 - - [09/Jul/2020:04:52:42 +0000] \"POST /invocations HTTP/1.1\" 200 12252 \"-\" \"Go-http-client/1.1\"\u001b[0m\n",
      "\u001b[34m[2020-07-09:04:52:42:INFO] Determined delimiter of CSV input is ','\u001b[0m\n",
      "\u001b[34m169.254.255.130 - - [09/Jul/2020:04:52:42 +0000] \"POST /invocations HTTP/1.1\" 200 12192 \"-\" \"Go-http-client/1.1\"\u001b[0m\n",
      "\u001b[34m[2020-07-09:04:52:42:INFO] Determined delimiter of CSV input is ','\u001b[0m\n",
      "\u001b[34m169.254.255.130 - - [09/Jul/2020:04:52:42 +0000] \"POST /invocations HTTP/1.1\" 200 12214 \"-\" \"Go-http-client/1.1\"\u001b[0m\n",
      "\u001b[34m[2020-07-09:04:52:43:INFO] Determined delimiter of CSV input is ','\u001b[0m\n",
      "\u001b[34m169.254.255.130 - - [09/Jul/2020:04:52:43 +0000] \"POST /invocations HTTP/1.1\" 200 12227 \"-\" \"Go-http-client/1.1\"\u001b[0m\n",
      "\u001b[34m[2020-07-09:04:52:43:INFO] Determined delimiter of CSV input is ','\u001b[0m\n",
      "\u001b[35m[2020-07-09:04:52:42:INFO] Determined delimiter of CSV input is ','\u001b[0m\n",
      "\u001b[35m169.254.255.130 - - [09/Jul/2020:04:52:42 +0000] \"POST /invocations HTTP/1.1\" 200 12192 \"-\" \"Go-http-client/1.1\"\u001b[0m\n",
      "\u001b[35m[2020-07-09:04:52:42:INFO] Determined delimiter of CSV input is ','\u001b[0m\n",
      "\u001b[35m169.254.255.130 - - [09/Jul/2020:04:52:42 +0000] \"POST /invocations HTTP/1.1\" 200 12214 \"-\" \"Go-http-client/1.1\"\u001b[0m\n",
      "\u001b[35m[2020-07-09:04:52:43:INFO] Determined delimiter of CSV input is ','\u001b[0m\n",
      "\u001b[35m169.254.255.130 - - [09/Jul/2020:04:52:43 +0000] \"POST /invocations HTTP/1.1\" 200 12227 \"-\" \"Go-http-client/1.1\"\u001b[0m\n",
      "\u001b[35m[2020-07-09:04:52:43:INFO] Determined delimiter of CSV input is ','\u001b[0m\n",
      "\n"
     ]
    }
   ],
   "source": [
    "xgb_transformer.wait()"
   ]
  },
  {
   "cell_type": "markdown",
   "metadata": {},
   "source": [
    "Now the transform job has executed and the result, the estimated sentiment of each review, has been saved on S3. Since we would rather work on this file locally we can perform a bit of notebook magic to copy the file to the `data_dir`."
   ]
  },
  {
   "cell_type": "code",
   "execution_count": 13,
   "metadata": {},
   "outputs": [
    {
     "name": "stdout",
     "output_type": "stream",
     "text": [
      "Completed 256.0 KiB/470.2 KiB (2.1 MiB/s) with 1 file(s) remaining\r",
      "Completed 470.2 KiB/470.2 KiB (3.6 MiB/s) with 1 file(s) remaining\r",
      "download: s3://sagemaker-us-west-2-594602753794/sagemaker-xgboost-2020-07-09-02-42-23-987/new_data.csv.out to ../data/sentiment_update/new_data.csv.out\r\n"
     ]
    }
   ],
   "source": [
    "!aws s3 cp --recursive s3://sagemaker-us-west-2-594602753794/sagemaker-xgboost-2020-07-09-02-42-23-987 $data_dir"
   ]
  },
  {
   "cell_type": "markdown",
   "metadata": {},
   "source": [
    "The last step is now to read in the output from our model, convert the output to something a little more usable, in this case we want the sentiment to be either `1` (positive) or `0` (negative), and then compare to the ground truth labels."
   ]
  },
  {
   "cell_type": "code",
   "execution_count": 14,
   "metadata": {},
   "outputs": [],
   "source": [
    "predictions = pd.read_csv(os.path.join(data_dir, 'test.csv.out'), header=None)\n",
    "predictions = [round(num) for num in predictions.squeeze().values]"
   ]
  },
  {
   "cell_type": "code",
   "execution_count": 31,
   "metadata": {},
   "outputs": [
    {
     "data": {
      "text/plain": [
       "0.86424"
      ]
     },
     "execution_count": 31,
     "metadata": {},
     "output_type": "execute_result"
    }
   ],
   "source": [
    "from sklearn.metrics import accuracy_score\n",
    "accuracy_score(test_y, predictions)"
   ]
  },
  {
   "cell_type": "markdown",
   "metadata": {},
   "source": [
    "## Step 5: Looking at New Data\n",
    "\n",
    "So now we have an XGBoost sentiment analysis model that we believe is working pretty well. As a result, we deployed it and we are using it in some sort of app.\n",
    "\n",
    "However, as we allow users to use our app we periodically record submitted movie reviews so that we can perform some quality control on our deployed model. Once we've accumulated enough reviews we go through them by hand and evaluate whether they are positive or negative (there are many ways you might do this in practice aside from by hand). The reason for doing this is so that we can check to see how well our model is doing."
   ]
  },
  {
   "cell_type": "code",
   "execution_count": 20,
   "metadata": {},
   "outputs": [],
   "source": [
    "import new_data\n",
    "\n",
    "new_X, new_Y = new_data.get_new_data()"
   ]
  },
  {
   "cell_type": "markdown",
   "metadata": {},
   "source": [
    "**NOTE:** Part of the fun in this notebook is trying to figure out what exactly is happening with the new data, so try not to cheat by looking in the `new_data` module. Also, the `new_data` module assumes that the cache created earlier in Step 3 is still stored in `../cache/sentiment_analysis`."
   ]
  },
  {
   "cell_type": "markdown",
   "metadata": {},
   "source": [
    "### (TODO) Testing the current model\n",
    "\n",
    "Now that we've loaded the new data, let's check to see how our current XGBoost model performs on it.\n",
    "\n",
    "First, note that the data that has been loaded has already been pre-processed so that each entry in `new_X` is a list of words that have been processed using `nltk`. However, we have not yet constructed the bag of words encoding, which we will do now.\n",
    "\n",
    "First, we use the vocabulary that we constructed earlier using the original training data to construct a `CountVectorizer` which we will use to transform our new data into its bag of words encoding.\n",
    "\n",
    "**TODO:** Create the CountVectorizer object using the vocabulary created earlier and use it to transform the new data."
   ]
  },
  {
   "cell_type": "code",
   "execution_count": 32,
   "metadata": {},
   "outputs": [
    {
     "name": "stderr",
     "output_type": "stream",
     "text": [
      "/home/ec2-user/anaconda3/envs/pytorch_p36/lib/python3.6/site-packages/sklearn/externals/joblib/__init__.py:15: FutureWarning: sklearn.externals.joblib is deprecated in 0.21 and will be removed in 0.23. Please import this functionality directly from joblib, which can be installed with: pip install joblib. If this warning is raised when loading pickled models, you may need to re-serialize those models with scikit-learn 0.21+.\n",
      "  warnings.warn(msg, category=FutureWarning)\n"
     ]
    }
   ],
   "source": [
    "import numpy as np\n",
    "from sklearn.feature_extraction.text import CountVectorizer\n",
    "from sklearn.externals import joblib"
   ]
  },
  {
   "cell_type": "code",
   "execution_count": 33,
   "metadata": {},
   "outputs": [],
   "source": [
    "# TODO: Create the CountVectorizer using the previously constructed vocabulary\n",
    "vectorizer = CountVectorizer(max_features=5000,\n",
    "                             preprocessor=lambda x: x, tokenizer=lambda x: x)  # already preprocessed\n",
    "        \n",
    "# TODO: Transform our new data set and store the transformed data in the variable new_XV\n",
    "new_XV = vectorizer.fit_transform(new_X).toarray()\n"
   ]
  },
  {
   "cell_type": "markdown",
   "metadata": {},
   "source": [
    "As a quick sanity check, we make sure that the length of each of our bag of words encoded reviews is correct. In particular, it must be the same size as the vocabulary which in our case is `5000`."
   ]
  },
  {
   "cell_type": "code",
   "execution_count": 37,
   "metadata": {},
   "outputs": [
    {
     "data": {
      "text/plain": [
       "5000"
      ]
     },
     "execution_count": 37,
     "metadata": {},
     "output_type": "execute_result"
    }
   ],
   "source": [
    "len(new_XV[100])"
   ]
  },
  {
   "cell_type": "markdown",
   "metadata": {},
   "source": [
    "Now that we've performed the data processing that is required by our model we can save it locally and then upload it to S3 so that we can construct a batch transform job in order to see how well our model is working.\n",
    "\n",
    "First, we save the data locally.\n",
    "\n",
    "**TODO:** Save the new data (after it has been transformed using the original vocabulary) to the local notebook instance."
   ]
  },
  {
   "cell_type": "code",
   "execution_count": 39,
   "metadata": {},
   "outputs": [],
   "source": [
    "# TODO: Save the data contained in new_XV locally in the data_dir with the file name new_data.csv\n",
    "pd.DataFrame(new_XV).to_csv(os.path.join(data_dir, 'new_data.csv'), header=False, index=False)"
   ]
  },
  {
   "cell_type": "markdown",
   "metadata": {},
   "source": [
    "Next, we upload the data to S3.\n",
    "\n",
    "**TODO:** Upload the csv file created above to S3."
   ]
  },
  {
   "cell_type": "code",
   "execution_count": 40,
   "metadata": {},
   "outputs": [],
   "source": [
    "# TODO: Upload the new_data.csv file contained in the data_dir folder to S3 and save the resulting\n",
    "#       URI as new_data_location\n",
    "\n",
    "new_data_location = session.upload_data(os.path.join(data_dir, 'new_data.csv'), key_prefix=prefix)"
   ]
  },
  {
   "cell_type": "markdown",
   "metadata": {},
   "source": [
    "Then, once the new data has been uploaded to S3, we create and run the batch transform job to get our model's predictions about the sentiment of the new movie reviews.\n",
    "\n",
    "**TODO:** Using the `xgb_transformer` object that was created earlier (at the end of Step 4 to test the XGBoost model), transform the data located at `new_data_location`."
   ]
  },
  {
   "cell_type": "code",
   "execution_count": 41,
   "metadata": {},
   "outputs": [],
   "source": [
    "# TODO: Using xgb_transformer, transform the new_data_location data. You may wish to **wait** until\n",
    "#       the batch transform job has finished.\n",
    "xgb_transformer.transform(new_data_location, content_type='text/csv', split_type='Line')"
   ]
  },
  {
   "cell_type": "code",
   "execution_count": 42,
   "metadata": {},
   "outputs": [
    {
     "name": "stdout",
     "output_type": "stream",
     "text": [
      "....................\u001b[34m[2020-07-09:02:46:00:INFO] No GPUs detected (normal if no gpus installed)\u001b[0m\n",
      "\u001b[34m[2020-07-09:02:46:00:INFO] No GPUs detected (normal if no gpus installed)\u001b[0m\n",
      "\u001b[34m[2020-07-09:02:46:00:INFO] nginx config: \u001b[0m\n",
      "\u001b[34mworker_processes auto;\u001b[0m\n",
      "\u001b[34mdaemon off;\u001b[0m\n",
      "\u001b[34mpid /tmp/nginx.pid;\u001b[0m\n",
      "\u001b[34merror_log  /dev/stderr;\n",
      "\u001b[0m\n",
      "\u001b[34mworker_rlimit_nofile 4096;\n",
      "\u001b[0m\n",
      "\u001b[34mevents {\n",
      "  worker_connections 2048;\u001b[0m\n",
      "\u001b[34m}\n",
      "\u001b[0m\n",
      "\u001b[34mhttp {\n",
      "  include /etc/nginx/mime.types;\n",
      "  default_type application/octet-stream;\n",
      "  access_log /dev/stdout combined;\n",
      "\n",
      "  upstream gunicorn {\n",
      "    server unix:/tmp/gunicorn.sock;\n",
      "  }\n",
      "\n",
      "  server {\n",
      "    listen 8080 deferred;\n",
      "    client_max_body_size 0;\n",
      "\n",
      "    keepalive_timeout 3;\n",
      "\n",
      "    location ~ ^/(ping|invocations|execution-parameters) {\n",
      "      proxy_set_header X-Forwarded-For $proxy_add_x_forwarded_for;\n",
      "      proxy_set_header Host $http_host;\n",
      "      proxy_redirect off;\n",
      "      proxy_read_timeout 60s;\n",
      "      proxy_pass http://gunicorn;\n",
      "    }\n",
      "\n",
      "    location / {\n",
      "      return 404 \"{}\";\n",
      "    }\n",
      "\n",
      "  }\u001b[0m\n",
      "\u001b[34m}\n",
      "\n",
      "\u001b[0m\n",
      "\u001b[34m[2020-07-09 02:46:00 +0000] [19] [INFO] Starting gunicorn 19.10.0\u001b[0m\n",
      "\u001b[34m[2020-07-09 02:46:00 +0000] [19] [INFO] Listening at: unix:/tmp/gunicorn.sock (19)\u001b[0m\n",
      "\u001b[34m[2020-07-09 02:46:00 +0000] [19] [INFO] Using worker: gevent\u001b[0m\n",
      "\u001b[34m[2020-07-09 02:46:00 +0000] [26] [INFO] Booting worker with pid: 26\u001b[0m\n",
      "\u001b[34m[2020-07-09 02:46:00 +0000] [27] [INFO] Booting worker with pid: 27\u001b[0m\n",
      "\u001b[34m[2020-07-09 02:46:00 +0000] [28] [INFO] Booting worker with pid: 28\u001b[0m\n",
      "\u001b[34m[2020-07-09 02:46:00 +0000] [29] [INFO] Booting worker with pid: 29\u001b[0m\n",
      "\u001b[34m[2020-07-09:02:46:16:INFO] No GPUs detected (normal if no gpus installed)\u001b[0m\n",
      "\u001b[34m169.254.255.130 - - [09/Jul/2020:02:46:16 +0000] \"GET /ping HTTP/1.1\" 200 0 \"-\" \"Go-http-client/1.1\"\u001b[0m\n",
      "\u001b[34m[2020-07-09:02:46:16:INFO] No GPUs detected (normal if no gpus installed)\u001b[0m\n",
      "\u001b[34m169.254.255.130 - - [09/Jul/2020:02:46:16 +0000] \"GET /execution-parameters HTTP/1.1\" 200 84 \"-\" \"Go-http-client/1.1\"\u001b[0m\n",
      "\u001b[34m[2020-07-09:02:46:19:INFO] No GPUs detected (normal if no gpus installed)\u001b[0m\n",
      "\u001b[34m[2020-07-09:02:46:19:INFO] Determined delimiter of CSV input is ','\u001b[0m\n",
      "\u001b[34m[2020-07-09:02:46:19:INFO] No GPUs detected (normal if no gpus installed)\u001b[0m\n",
      "\u001b[34m[2020-07-09:02:46:19:INFO] Determined delimiter of CSV input is ','\u001b[0m\n",
      "\u001b[34m[2020-07-09:02:46:19:INFO] Determined delimiter of CSV input is ','\u001b[0m\n",
      "\u001b[34m[2020-07-09:02:46:19:INFO] Determined delimiter of CSV input is ','\u001b[0m\n",
      "\u001b[32m2020-07-09T02:46:16.333:[sagemaker logs]: MaxConcurrentTransforms=4, MaxPayloadInMB=6, BatchStrategy=MULTI_RECORD\u001b[0m\n",
      "\u001b[34m169.254.255.130 - - [09/Jul/2020:02:46:22 +0000] \"POST /invocations HTTP/1.1\" 200 12093 \"-\" \"Go-http-client/1.1\"\u001b[0m\n",
      "\u001b[34m169.254.255.130 - - [09/Jul/2020:02:46:22 +0000] \"POST /invocations HTTP/1.1\" 200 12130 \"-\" \"Go-http-client/1.1\"\u001b[0m\n",
      "\u001b[34m169.254.255.130 - - [09/Jul/2020:02:46:22 +0000] \"POST /invocations HTTP/1.1\" 200 12134 \"-\" \"Go-http-client/1.1\"\u001b[0m\n",
      "\u001b[34m169.254.255.130 - - [09/Jul/2020:02:46:22 +0000] \"POST /invocations HTTP/1.1\" 200 12104 \"-\" \"Go-http-client/1.1\"\u001b[0m\n",
      "\u001b[34m[2020-07-09:02:46:23:INFO] Determined delimiter of CSV input is ','\u001b[0m\n",
      "\u001b[34m[2020-07-09:02:46:23:INFO] Determined delimiter of CSV input is ','\u001b[0m\n",
      "\u001b[34m[2020-07-09:02:46:23:INFO] Determined delimiter of CSV input is ','\u001b[0m\n",
      "\u001b[34m[2020-07-09:02:46:23:INFO] Determined delimiter of CSV input is ','\u001b[0m\n",
      "\u001b[35m169.254.255.130 - - [09/Jul/2020:02:46:22 +0000] \"POST /invocations HTTP/1.1\" 200 12093 \"-\" \"Go-http-client/1.1\"\u001b[0m\n",
      "\u001b[35m169.254.255.130 - - [09/Jul/2020:02:46:22 +0000] \"POST /invocations HTTP/1.1\" 200 12130 \"-\" \"Go-http-client/1.1\"\u001b[0m\n",
      "\u001b[35m169.254.255.130 - - [09/Jul/2020:02:46:22 +0000] \"POST /invocations HTTP/1.1\" 200 12134 \"-\" \"Go-http-client/1.1\"\u001b[0m\n",
      "\u001b[35m169.254.255.130 - - [09/Jul/2020:02:46:22 +0000] \"POST /invocations HTTP/1.1\" 200 12104 \"-\" \"Go-http-client/1.1\"\u001b[0m\n",
      "\u001b[35m[2020-07-09:02:46:23:INFO] Determined delimiter of CSV input is ','\u001b[0m\n",
      "\u001b[35m[2020-07-09:02:46:23:INFO] Determined delimiter of CSV input is ','\u001b[0m\n",
      "\u001b[35m[2020-07-09:02:46:23:INFO] Determined delimiter of CSV input is ','\u001b[0m\n",
      "\u001b[35m[2020-07-09:02:46:23:INFO] Determined delimiter of CSV input is ','\u001b[0m\n",
      "\u001b[34m169.254.255.130 - - [09/Jul/2020:02:46:26 +0000] \"POST /invocations HTTP/1.1\" 200 12090 \"-\" \"Go-http-client/1.1\"\u001b[0m\n",
      "\u001b[34m169.254.255.130 - - [09/Jul/2020:02:46:26 +0000] \"POST /invocations HTTP/1.1\" 200 12113 \"-\" \"Go-http-client/1.1\"\u001b[0m\n",
      "\u001b[34m169.254.255.130 - - [09/Jul/2020:02:46:26 +0000] \"POST /invocations HTTP/1.1\" 200 12145 \"-\" \"Go-http-client/1.1\"\u001b[0m\n",
      "\u001b[34m169.254.255.130 - - [09/Jul/2020:02:46:26 +0000] \"POST /invocations HTTP/1.1\" 200 12139 \"-\" \"Go-http-client/1.1\"\u001b[0m\n",
      "\u001b[34m[2020-07-09:02:46:26:INFO] Determined delimiter of CSV input is ','\u001b[0m\n",
      "\u001b[34m[2020-07-09:02:46:26:INFO] Determined delimiter of CSV input is ','\u001b[0m\n",
      "\u001b[34m[2020-07-09:02:46:26:INFO] Determined delimiter of CSV input is ','\u001b[0m\n",
      "\u001b[34m[2020-07-09:02:46:27:INFO] Determined delimiter of CSV input is ','\u001b[0m\n",
      "\u001b[35m169.254.255.130 - - [09/Jul/2020:02:46:26 +0000] \"POST /invocations HTTP/1.1\" 200 12090 \"-\" \"Go-http-client/1.1\"\u001b[0m\n",
      "\u001b[35m169.254.255.130 - - [09/Jul/2020:02:46:26 +0000] \"POST /invocations HTTP/1.1\" 200 12113 \"-\" \"Go-http-client/1.1\"\u001b[0m\n",
      "\u001b[35m169.254.255.130 - - [09/Jul/2020:02:46:26 +0000] \"POST /invocations HTTP/1.1\" 200 12145 \"-\" \"Go-http-client/1.1\"\u001b[0m\n",
      "\u001b[35m169.254.255.130 - - [09/Jul/2020:02:46:26 +0000] \"POST /invocations HTTP/1.1\" 200 12139 \"-\" \"Go-http-client/1.1\"\u001b[0m\n",
      "\u001b[35m[2020-07-09:02:46:26:INFO] Determined delimiter of CSV input is ','\u001b[0m\n",
      "\u001b[35m[2020-07-09:02:46:26:INFO] Determined delimiter of CSV input is ','\u001b[0m\n",
      "\u001b[35m[2020-07-09:02:46:26:INFO] Determined delimiter of CSV input is ','\u001b[0m\n",
      "\u001b[35m[2020-07-09:02:46:27:INFO] Determined delimiter of CSV input is ','\u001b[0m\n",
      "\u001b[34m[2020-07-09:02:46:32:INFO] Determined delimiter of CSV input is ','\u001b[0m\n",
      "\u001b[35m[2020-07-09:02:46:32:INFO] Determined delimiter of CSV input is ','\u001b[0m\n",
      "\u001b[34m169.254.255.130 - - [09/Jul/2020:02:46:33 +0000] \"POST /invocations HTTP/1.1\" 200 12106 \"-\" \"Go-http-client/1.1\"\u001b[0m\n",
      "\u001b[35m169.254.255.130 - - [09/Jul/2020:02:46:33 +0000] \"POST /invocations HTTP/1.1\" 200 12106 \"-\" \"Go-http-client/1.1\"\u001b[0m\n",
      "\u001b[34m[2020-07-09:02:46:33:INFO] Determined delimiter of CSV input is ','\u001b[0m\n",
      "\u001b[34m169.254.255.130 - - [09/Jul/2020:02:46:33 +0000] \"POST /invocations HTTP/1.1\" 200 12099 \"-\" \"Go-http-client/1.1\"\u001b[0m\n",
      "\u001b[34m[2020-07-09:02:46:34:INFO] Determined delimiter of CSV input is ','\u001b[0m\n",
      "\u001b[34m[2020-07-09:02:46:34:INFO] Determined delimiter of CSV input is ','\u001b[0m\n",
      "\u001b[35m[2020-07-09:02:46:33:INFO] Determined delimiter of CSV input is ','\u001b[0m\n",
      "\u001b[35m169.254.255.130 - - [09/Jul/2020:02:46:33 +0000] \"POST /invocations HTTP/1.1\" 200 12099 \"-\" \"Go-http-client/1.1\"\u001b[0m\n",
      "\u001b[35m[2020-07-09:02:46:34:INFO] Determined delimiter of CSV input is ','\u001b[0m\n",
      "\u001b[35m[2020-07-09:02:46:34:INFO] Determined delimiter of CSV input is ','\u001b[0m\n",
      "\u001b[34m169.254.255.130 - - [09/Jul/2020:02:46:35 +0000] \"POST /invocations HTTP/1.1\" 200 12108 \"-\" \"Go-http-client/1.1\"\u001b[0m\n",
      "\u001b[35m169.254.255.130 - - [09/Jul/2020:02:46:35 +0000] \"POST /invocations HTTP/1.1\" 200 12108 \"-\" \"Go-http-client/1.1\"\u001b[0m\n",
      "\u001b[34m[2020-07-09:02:46:35:INFO] Determined delimiter of CSV input is ','\u001b[0m\n",
      "\u001b[35m[2020-07-09:02:46:35:INFO] Determined delimiter of CSV input is ','\u001b[0m\n",
      "\u001b[34m169.254.255.130 - - [09/Jul/2020:02:46:36 +0000] \"POST /invocations HTTP/1.1\" 200 12108 \"-\" \"Go-http-client/1.1\"\u001b[0m\n",
      "\u001b[34m[2020-07-09:02:46:36:INFO] Determined delimiter of CSV input is ','\u001b[0m\n",
      "\u001b[35m169.254.255.130 - - [09/Jul/2020:02:46:36 +0000] \"POST /invocations HTTP/1.1\" 200 12108 \"-\" \"Go-http-client/1.1\"\u001b[0m\n",
      "\u001b[35m[2020-07-09:02:46:36:INFO] Determined delimiter of CSV input is ','\u001b[0m\n",
      "\u001b[34m169.254.255.130 - - [09/Jul/2020:02:46:37 +0000] \"POST /invocations HTTP/1.1\" 200 12100 \"-\" \"Go-http-client/1.1\"\u001b[0m\n",
      "\u001b[34m169.254.255.130 - - [09/Jul/2020:02:46:37 +0000] \"POST /invocations HTTP/1.1\" 200 12120 \"-\" \"Go-http-client/1.1\"\u001b[0m\n",
      "\u001b[35m169.254.255.130 - - [09/Jul/2020:02:46:37 +0000] \"POST /invocations HTTP/1.1\" 200 12100 \"-\" \"Go-http-client/1.1\"\u001b[0m\n",
      "\u001b[35m169.254.255.130 - - [09/Jul/2020:02:46:37 +0000] \"POST /invocations HTTP/1.1\" 200 12120 \"-\" \"Go-http-client/1.1\"\u001b[0m\n",
      "\u001b[34m[2020-07-09:02:46:37:INFO] Determined delimiter of CSV input is ','\u001b[0m\n",
      "\u001b[34m[2020-07-09:02:46:37:INFO] Determined delimiter of CSV input is ','\u001b[0m\n",
      "\u001b[35m[2020-07-09:02:46:37:INFO] Determined delimiter of CSV input is ','\u001b[0m\n",
      "\u001b[35m[2020-07-09:02:46:37:INFO] Determined delimiter of CSV input is ','\u001b[0m\n",
      "\u001b[34m169.254.255.130 - - [09/Jul/2020:02:46:38 +0000] \"POST /invocations HTTP/1.1\" 200 12141 \"-\" \"Go-http-client/1.1\"\u001b[0m\n",
      "\u001b[34m[2020-07-09:02:46:39:INFO] Determined delimiter of CSV input is ','\u001b[0m\n",
      "\u001b[35m169.254.255.130 - - [09/Jul/2020:02:46:38 +0000] \"POST /invocations HTTP/1.1\" 200 12141 \"-\" \"Go-http-client/1.1\"\u001b[0m\n",
      "\u001b[35m[2020-07-09:02:46:39:INFO] Determined delimiter of CSV input is ','\u001b[0m\n"
     ]
    },
    {
     "name": "stdout",
     "output_type": "stream",
     "text": [
      "\u001b[34m169.254.255.130 - - [09/Jul/2020:02:46:41 +0000] \"POST /invocations HTTP/1.1\" 200 12124 \"-\" \"Go-http-client/1.1\"\u001b[0m\n",
      "\u001b[34m169.254.255.130 - - [09/Jul/2020:02:46:41 +0000] \"POST /invocations HTTP/1.1\" 200 12098 \"-\" \"Go-http-client/1.1\"\u001b[0m\n",
      "\u001b[34m[2020-07-09:02:46:41:INFO] Determined delimiter of CSV input is ','\u001b[0m\n",
      "\u001b[35m169.254.255.130 - - [09/Jul/2020:02:46:41 +0000] \"POST /invocations HTTP/1.1\" 200 12124 \"-\" \"Go-http-client/1.1\"\u001b[0m\n",
      "\u001b[35m169.254.255.130 - - [09/Jul/2020:02:46:41 +0000] \"POST /invocations HTTP/1.1\" 200 12098 \"-\" \"Go-http-client/1.1\"\u001b[0m\n",
      "\u001b[35m[2020-07-09:02:46:41:INFO] Determined delimiter of CSV input is ','\u001b[0m\n",
      "\u001b[34m[2020-07-09:02:46:41:INFO] Determined delimiter of CSV input is ','\u001b[0m\n",
      "\u001b[35m[2020-07-09:02:46:41:INFO] Determined delimiter of CSV input is ','\u001b[0m\n",
      "\u001b[34m169.254.255.130 - - [09/Jul/2020:02:46:42 +0000] \"POST /invocations HTTP/1.1\" 200 12108 \"-\" \"Go-http-client/1.1\"\u001b[0m\n",
      "\u001b[34m[2020-07-09:02:46:42:INFO] Determined delimiter of CSV input is ','\u001b[0m\n",
      "\u001b[35m169.254.255.130 - - [09/Jul/2020:02:46:42 +0000] \"POST /invocations HTTP/1.1\" 200 12108 \"-\" \"Go-http-client/1.1\"\u001b[0m\n",
      "\u001b[35m[2020-07-09:02:46:42:INFO] Determined delimiter of CSV input is ','\u001b[0m\n",
      "\u001b[34m169.254.255.130 - - [09/Jul/2020:02:46:43 +0000] \"POST /invocations HTTP/1.1\" 200 12125 \"-\" \"Go-http-client/1.1\"\u001b[0m\n",
      "\u001b[34m[2020-07-09:02:46:43:INFO] Determined delimiter of CSV input is ','\u001b[0m\n",
      "\u001b[35m169.254.255.130 - - [09/Jul/2020:02:46:43 +0000] \"POST /invocations HTTP/1.1\" 200 12125 \"-\" \"Go-http-client/1.1\"\u001b[0m\n",
      "\u001b[35m[2020-07-09:02:46:43:INFO] Determined delimiter of CSV input is ','\u001b[0m\n",
      "\u001b[34m169.254.255.130 - - [09/Jul/2020:02:46:44 +0000] \"POST /invocations HTTP/1.1\" 200 12116 \"-\" \"Go-http-client/1.1\"\u001b[0m\n",
      "\u001b[34m169.254.255.130 - - [09/Jul/2020:02:46:44 +0000] \"POST /invocations HTTP/1.1\" 200 12149 \"-\" \"Go-http-client/1.1\"\u001b[0m\n",
      "\u001b[34m[2020-07-09:02:46:44:INFO] Determined delimiter of CSV input is ','\u001b[0m\n",
      "\u001b[34m[2020-07-09:02:46:45:INFO] Determined delimiter of CSV input is ','\u001b[0m\n",
      "\u001b[35m169.254.255.130 - - [09/Jul/2020:02:46:44 +0000] \"POST /invocations HTTP/1.1\" 200 12116 \"-\" \"Go-http-client/1.1\"\u001b[0m\n",
      "\u001b[35m169.254.255.130 - - [09/Jul/2020:02:46:44 +0000] \"POST /invocations HTTP/1.1\" 200 12149 \"-\" \"Go-http-client/1.1\"\u001b[0m\n",
      "\u001b[35m[2020-07-09:02:46:44:INFO] Determined delimiter of CSV input is ','\u001b[0m\n",
      "\u001b[35m[2020-07-09:02:46:45:INFO] Determined delimiter of CSV input is ','\u001b[0m\n",
      "\u001b[34m169.254.255.130 - - [09/Jul/2020:02:46:46 +0000] \"POST /invocations HTTP/1.1\" 200 12128 \"-\" \"Go-http-client/1.1\"\u001b[0m\n",
      "\u001b[34m[2020-07-09:02:46:46:INFO] Determined delimiter of CSV input is ','\u001b[0m\n",
      "\u001b[35m169.254.255.130 - - [09/Jul/2020:02:46:46 +0000] \"POST /invocations HTTP/1.1\" 200 12128 \"-\" \"Go-http-client/1.1\"\u001b[0m\n",
      "\u001b[35m[2020-07-09:02:46:46:INFO] Determined delimiter of CSV input is ','\u001b[0m\n",
      "\u001b[34m169.254.255.130 - - [09/Jul/2020:02:46:47 +0000] \"POST /invocations HTTP/1.1\" 200 12114 \"-\" \"Go-http-client/1.1\"\u001b[0m\n",
      "\u001b[35m169.254.255.130 - - [09/Jul/2020:02:46:47 +0000] \"POST /invocations HTTP/1.1\" 200 12114 \"-\" \"Go-http-client/1.1\"\u001b[0m\n",
      "\u001b[34m[2020-07-09:02:46:47:INFO] Determined delimiter of CSV input is ','\u001b[0m\n",
      "\u001b[35m[2020-07-09:02:46:47:INFO] Determined delimiter of CSV input is ','\u001b[0m\n",
      "\u001b[34m169.254.255.130 - - [09/Jul/2020:02:46:48 +0000] \"POST /invocations HTTP/1.1\" 200 12110 \"-\" \"Go-http-client/1.1\"\u001b[0m\n",
      "\u001b[35m169.254.255.130 - - [09/Jul/2020:02:46:48 +0000] \"POST /invocations HTTP/1.1\" 200 12110 \"-\" \"Go-http-client/1.1\"\u001b[0m\n",
      "\u001b[34m[2020-07-09:02:46:48:INFO] Determined delimiter of CSV input is ','\u001b[0m\n",
      "\u001b[34m169.254.255.130 - - [09/Jul/2020:02:46:48 +0000] \"POST /invocations HTTP/1.1\" 200 12074 \"-\" \"Go-http-client/1.1\"\u001b[0m\n",
      "\u001b[34m[2020-07-09:02:46:48:INFO] Determined delimiter of CSV input is ','\u001b[0m\n",
      "\u001b[35m[2020-07-09:02:46:48:INFO] Determined delimiter of CSV input is ','\u001b[0m\n",
      "\u001b[35m169.254.255.130 - - [09/Jul/2020:02:46:48 +0000] \"POST /invocations HTTP/1.1\" 200 12074 \"-\" \"Go-http-client/1.1\"\u001b[0m\n",
      "\u001b[35m[2020-07-09:02:46:48:INFO] Determined delimiter of CSV input is ','\u001b[0m\n",
      "\u001b[34m[2020-07-09:02:46:51:INFO] Determined delimiter of CSV input is ','\u001b[0m\n",
      "\u001b[35m[2020-07-09:02:46:51:INFO] Determined delimiter of CSV input is ','\u001b[0m\n",
      "\u001b[34m169.254.255.130 - - [09/Jul/2020:02:46:51 +0000] \"POST /invocations HTTP/1.1\" 200 12112 \"-\" \"Go-http-client/1.1\"\u001b[0m\n",
      "\u001b[34m[2020-07-09:02:46:52:INFO] Determined delimiter of CSV input is ','\u001b[0m\n",
      "\u001b[34m169.254.255.130 - - [09/Jul/2020:02:46:52 +0000] \"POST /invocations HTTP/1.1\" 200 12116 \"-\" \"Go-http-client/1.1\"\u001b[0m\n",
      "\u001b[34m[2020-07-09:02:46:52:INFO] Determined delimiter of CSV input is ','\u001b[0m\n",
      "\u001b[35m169.254.255.130 - - [09/Jul/2020:02:46:51 +0000] \"POST /invocations HTTP/1.1\" 200 12112 \"-\" \"Go-http-client/1.1\"\u001b[0m\n",
      "\u001b[35m[2020-07-09:02:46:52:INFO] Determined delimiter of CSV input is ','\u001b[0m\n",
      "\u001b[35m169.254.255.130 - - [09/Jul/2020:02:46:52 +0000] \"POST /invocations HTTP/1.1\" 200 12116 \"-\" \"Go-http-client/1.1\"\u001b[0m\n",
      "\u001b[35m[2020-07-09:02:46:52:INFO] Determined delimiter of CSV input is ','\u001b[0m\n",
      "\u001b[34m169.254.255.130 - - [09/Jul/2020:02:46:53 +0000] \"POST /invocations HTTP/1.1\" 200 12114 \"-\" \"Go-http-client/1.1\"\u001b[0m\n",
      "\u001b[34m[2020-07-09:02:46:53:INFO] Determined delimiter of CSV input is ','\u001b[0m\n",
      "\u001b[35m169.254.255.130 - - [09/Jul/2020:02:46:53 +0000] \"POST /invocations HTTP/1.1\" 200 12114 \"-\" \"Go-http-client/1.1\"\u001b[0m\n",
      "\u001b[35m[2020-07-09:02:46:53:INFO] Determined delimiter of CSV input is ','\u001b[0m\n",
      "\u001b[34m169.254.255.130 - - [09/Jul/2020:02:46:54 +0000] \"POST /invocations HTTP/1.1\" 200 12146 \"-\" \"Go-http-client/1.1\"\u001b[0m\n",
      "\u001b[34m169.254.255.130 - - [09/Jul/2020:02:46:55 +0000] \"POST /invocations HTTP/1.1\" 200 12111 \"-\" \"Go-http-client/1.1\"\u001b[0m\n",
      "\u001b[35m169.254.255.130 - - [09/Jul/2020:02:46:54 +0000] \"POST /invocations HTTP/1.1\" 200 12146 \"-\" \"Go-http-client/1.1\"\u001b[0m\n",
      "\u001b[35m169.254.255.130 - - [09/Jul/2020:02:46:55 +0000] \"POST /invocations HTTP/1.1\" 200 12111 \"-\" \"Go-http-client/1.1\"\u001b[0m\n",
      "\u001b[34m169.254.255.130 - - [09/Jul/2020:02:46:55 +0000] \"POST /invocations HTTP/1.1\" 200 12106 \"-\" \"Go-http-client/1.1\"\u001b[0m\n",
      "\u001b[34m169.254.255.130 - - [09/Jul/2020:02:46:55 +0000] \"POST /invocations HTTP/1.1\" 200 9021 \"-\" \"Go-http-client/1.1\"\u001b[0m\n",
      "\u001b[35m169.254.255.130 - - [09/Jul/2020:02:46:55 +0000] \"POST /invocations HTTP/1.1\" 200 12106 \"-\" \"Go-http-client/1.1\"\u001b[0m\n",
      "\u001b[35m169.254.255.130 - - [09/Jul/2020:02:46:55 +0000] \"POST /invocations HTTP/1.1\" 200 9021 \"-\" \"Go-http-client/1.1\"\u001b[0m\n",
      "\n"
     ]
    }
   ],
   "source": [
    "xgb_transformer.wait()"
   ]
  },
  {
   "cell_type": "markdown",
   "metadata": {},
   "source": [
    "As usual, we copy the results of the batch transform job to our local instance."
   ]
  },
  {
   "cell_type": "code",
   "execution_count": 15,
   "metadata": {
    "scrolled": true
   },
   "outputs": [
    {
     "name": "stdout",
     "output_type": "stream",
     "text": [
      "Completed 256.0 KiB/470.2 KiB (2.3 MiB/s) with 1 file(s) remaining\r",
      "Completed 470.2 KiB/470.2 KiB (4.1 MiB/s) with 1 file(s) remaining\r",
      "download: s3://sagemaker-us-west-2-594602753794/sagemaker-xgboost-2020-07-09-02-42-23-987/new_data.csv.out to ../data/sentiment_update/new_data.csv.out\r\n"
     ]
    }
   ],
   "source": [
    "!aws s3 cp --recursive s3://sagemaker-us-west-2-594602753794/sagemaker-xgboost-2020-07-09-02-42-23-987 $data_dir"
   ]
  },
  {
   "cell_type": "markdown",
   "metadata": {},
   "source": [
    "Read in the results of the batch transform job."
   ]
  },
  {
   "cell_type": "code",
   "execution_count": 16,
   "metadata": {},
   "outputs": [],
   "source": [
    "predictions = pd.read_csv(os.path.join(data_dir, 'new_data.csv.out'), header=None)\n",
    "predictions = [round(num) for num in predictions.squeeze().values]"
   ]
  },
  {
   "cell_type": "markdown",
   "metadata": {},
   "source": [
    "And check the accuracy of our current model."
   ]
  },
  {
   "cell_type": "code",
   "execution_count": 18,
   "metadata": {},
   "outputs": [],
   "source": [
    "from sklearn.metrics import accuracy_score"
   ]
  },
  {
   "cell_type": "code",
   "execution_count": 21,
   "metadata": {},
   "outputs": [
    {
     "data": {
      "text/plain": [
       "0.62552"
      ]
     },
     "execution_count": 21,
     "metadata": {},
     "output_type": "execute_result"
    }
   ],
   "source": [
    "accuracy_score(new_Y, predictions)"
   ]
  },
  {
   "cell_type": "markdown",
   "metadata": {},
   "source": [
    "So it would appear that *something* has changed since our model is no longer (as) effective at determining the sentiment of a user provided review.\n",
    "\n",
    "In a real life scenario you would check a number of different things to see what exactly is going on. In our case, we are only going to check one and that is whether some aspect of the underlying distribution has changed. In other words, we want to see if the words that appear in our new collection of reviews matches the words that appear in the original training set. Of course, we want to narrow our scope a little bit so we will only look at the `5000` most frequently appearing words in each data set, or in other words, the vocabulary generated by each data set.\n",
    "\n",
    "Before doing that, however, let's take a look at some of the incorrectly classified reviews in the new data set.\n",
    "\n",
    "To start, we will deploy the original XGBoost model. We will then use the deployed model to infer the sentiment of some of the new reviews. This will also serve as a nice excuse to deploy our model so that we can mimic a real life scenario where we have a model that has been deployed and is being used in production.\n",
    "\n",
    "**TODO:** Deploy the XGBoost model."
   ]
  },
  {
   "cell_type": "code",
   "execution_count": 27,
   "metadata": {},
   "outputs": [
    {
     "name": "stderr",
     "output_type": "stream",
     "text": [
      "WARNING:sagemaker:Parameter image will be renamed to image_uri in SageMaker Python SDK v2.\n",
      "WARNING:sagemaker:Using already existing model: sagemaker-xgboost-2020-07-09-04-40-29-637\n"
     ]
    },
    {
     "name": "stdout",
     "output_type": "stream",
     "text": [
      "---------------!"
     ]
    }
   ],
   "source": [
    "# TODO: Deploy the model that was created earlier. Recall that the object name is 'xgb'.\n",
    "xgb_predictor = xgb.deploy(initial_instance_count=1, instance_type='ml.m4.xlarge')"
   ]
  },
  {
   "cell_type": "markdown",
   "metadata": {},
   "source": [
    "### Diagnose the problem\n",
    "\n",
    "Now that we have our deployed \"production\" model, we can send some of our new data to it and filter out some of the incorrectly classified reviews."
   ]
  },
  {
   "cell_type": "code",
   "execution_count": 28,
   "metadata": {},
   "outputs": [],
   "source": [
    "from sagemaker.predictor import csv_serializer\n",
    "\n",
    "# We need to tell the endpoint what format the data we are sending is in so that SageMaker can perform the serialization.\n",
    "xgb_predictor.content_type = 'text/csv'\n",
    "xgb_predictor.serializer = csv_serializer"
   ]
  },
  {
   "cell_type": "markdown",
   "metadata": {},
   "source": [
    "It will be useful to look at a few different examples of incorrectly classified reviews so we will start by creating a *generator* which we will use to iterate through some of the new reviews and find ones that are incorrect.\n",
    "\n",
    "**NOTE:** Understanding what Python generators are isn't really required for this module. The reason we use them here is so that we don't have to iterate through all of the new reviews, searching for incorrectly classified samples."
   ]
  },
  {
   "cell_type": "code",
   "execution_count": 29,
   "metadata": {},
   "outputs": [],
   "source": [
    "def get_sample(in_X, in_XV, in_Y):\n",
    "    for idx, smp in enumerate(in_X):\n",
    "        res = round(float(xgb_predictor.predict(in_XV[idx])))\n",
    "        if res != in_Y[idx]:\n",
    "            yield smp, in_Y[idx]"
   ]
  },
  {
   "cell_type": "code",
   "execution_count": 34,
   "metadata": {},
   "outputs": [],
   "source": [
    "gn = get_sample(new_X, new_XV, new_Y)"
   ]
  },
  {
   "cell_type": "markdown",
   "metadata": {},
   "source": [
    "At this point, `gn` is the *generator* which generates samples from the new data set which are not classified correctly. To get the *next* sample we simply call the `next` method on our generator."
   ]
  },
  {
   "cell_type": "code",
   "execution_count": 35,
   "metadata": {},
   "outputs": [
    {
     "name": "stdout",
     "output_type": "stream",
     "text": [
      "(['low', 'budget', 'enterpris', 'filmmak', 'manufactur', 'distribut', 'dvd', 'perhap', 'expect', 'much', 'broken', 'disc', 'form', 'yet', 'remark', 'whole', 'achiev', 'fact', 'releas', 'come', 'enough', 'extra', 'shame', 'jame', 'cameron', 'dvd', 'decidedli', 'fine', 'present', 'regard', 'latter', 'major', 'flaw', 'broken', 'come', 'non', 'anamorph', 'transfer', 'otherwis', 'get', 'film', 'origin', '1', '85', '1', 'ratio', 'demonstr', 'technic', 'flaw', 'look', 'pretti', 'much', 'expect', 'inde', 'given', 'ferrari', 'hand', 'approach', 'put', 'disc', 'togeth', 'pretti', 'much', 'guarante', 'fact', 'also', 'true', 'soundtrack', 'offer', 'dd2', '0', 'dd5', '1', 'mix', 'whilst', 'uncertain', 'deem', 'origin', 'fact', 'ferrari', 'involv', 'mean', 'neither', 'consid', 'inferior', 'inde', 'though', 'dd5', '1', 'may', 'offer', 'atmospher', 'view', 'experi', 'owe', 'manner', 'util', 'score', 'equal', 'fine', 'free', 'technic', 'flaw', 'extra', 'disc', 'posit', 'overwhelm', 'take', 'look', 'sidebar', 'right', 'screen', 'notic', 'numer', 'commentari', 'load', 'featurett', 'variou', 'galleri', 'inde', 'given', 'manner', 'everyth', 'broken', 'minut', 'chunk', 'rather', 'compil', 'lengthi', 'documentari', 'realli', 'littl', 'discuss', 'anatomi', 'stunt', 'featurett', 'exampl', 'exactli', 'claim', 'goe', 'rest', 'piec', 'get', 'coverag', 'pretti', 'much', 'ever', 'aspect', 'broken', 'pre', 'product', 'product', 'post', 'product', 'whilst', 'may', 'prefer', 'find', 'easili', 'digest', 'overal', 'make', 'manner', 'get', 'easi', 'access', 'whatev', 'special', 'featur', 'may', 'wish', 'view', 'variou', 'piec', 'perhap', 'commentari', 'need', 'kind', 'discuss', 'also', 'predict', 'air', 'chat', 'track', 'one', 'involv', 'actor', 'overli', 'jokey', 'take', 'film', 'serious', 'ferrari', 'piec', 'incred', 'enthusiast', 'whole', 'thing', 'technic', 'one', 'well', 'extrem', 'technic', 'cours', 'also', 'get', 'crossov', 'cover', 'elsewher', 'disc', '19', 'minut', 'none', 'piec', 'outstay', 'welcom', 'inde', 'fine', 'extra', 'packag'], 1)\n"
     ]
    }
   ],
   "source": [
    "print(next(gn))"
   ]
  },
  {
   "cell_type": "markdown",
   "metadata": {},
   "source": [
    "After looking at a few examples, maybe we decide to look at the most frequently appearing `5000` words in each data set, the original training data set and the new data set. The reason for looking at this might be that we expect the frequency of use of different words to have changed, maybe there is some new slang that has been introduced or some other artifact of popular culture that has changed the way that people write movie reviews.\n",
    "\n",
    "To do this, we start by fitting a `CountVectorizer` to the new data."
   ]
  },
  {
   "cell_type": "code",
   "execution_count": 36,
   "metadata": {},
   "outputs": [
    {
     "name": "stderr",
     "output_type": "stream",
     "text": [
      "/home/ec2-user/anaconda3/envs/pytorch_p36/lib/python3.6/site-packages/sklearn/feature_extraction/text.py:507: UserWarning: The parameter 'token_pattern' will not be used since 'tokenizer' is not None'\n",
      "  warnings.warn(\"The parameter 'token_pattern' will not be used\"\n"
     ]
    },
    {
     "data": {
      "text/plain": [
       "CountVectorizer(analyzer='word', binary=False, decode_error='strict',\n",
       "                dtype=<class 'numpy.int64'>, encoding='utf-8', input='content',\n",
       "                lowercase=True, max_df=1.0, max_features=5000, min_df=1,\n",
       "                ngram_range=(1, 1),\n",
       "                preprocessor=<function <lambda> at 0x7f29fe77d268>,\n",
       "                stop_words=None, strip_accents=None,\n",
       "                token_pattern='(?u)\\\\b\\\\w\\\\w+\\\\b',\n",
       "                tokenizer=<function <lambda> at 0x7f29fe77d378>,\n",
       "                vocabulary=None)"
      ]
     },
     "execution_count": 36,
     "metadata": {},
     "output_type": "execute_result"
    }
   ],
   "source": [
    "new_vectorizer = CountVectorizer(max_features=5000,\n",
    "                preprocessor=lambda x: x, tokenizer=lambda x: x)\n",
    "new_vectorizer.fit(new_X)"
   ]
  },
  {
   "cell_type": "markdown",
   "metadata": {},
   "source": [
    "Now that we have this new `CountVectorizor` object, we can check to see if the corresponding vocabulary has changed between the two data sets."
   ]
  },
  {
   "cell_type": "code",
   "execution_count": 37,
   "metadata": {},
   "outputs": [
    {
     "ename": "NameError",
     "evalue": "name 'vocabulary' is not defined",
     "output_type": "error",
     "traceback": [
      "\u001b[0;31m---------------------------------------------------------------------------\u001b[0m",
      "\u001b[0;31mNameError\u001b[0m                                 Traceback (most recent call last)",
      "\u001b[0;32m<ipython-input-37-e06c1e437a12>\u001b[0m in \u001b[0;36m<module>\u001b[0;34m\u001b[0m\n\u001b[0;32m----> 1\u001b[0;31m \u001b[0moriginal_vocabulary\u001b[0m \u001b[0;34m=\u001b[0m \u001b[0mset\u001b[0m\u001b[0;34m(\u001b[0m\u001b[0mvocabulary\u001b[0m\u001b[0;34m.\u001b[0m\u001b[0mkeys\u001b[0m\u001b[0;34m(\u001b[0m\u001b[0;34m)\u001b[0m\u001b[0;34m)\u001b[0m\u001b[0;34m\u001b[0m\u001b[0;34m\u001b[0m\u001b[0m\n\u001b[0m\u001b[1;32m      2\u001b[0m \u001b[0mnew_vocabulary\u001b[0m \u001b[0;34m=\u001b[0m \u001b[0mset\u001b[0m\u001b[0;34m(\u001b[0m\u001b[0mnew_vectorizer\u001b[0m\u001b[0;34m.\u001b[0m\u001b[0mvocabulary_\u001b[0m\u001b[0;34m.\u001b[0m\u001b[0mkeys\u001b[0m\u001b[0;34m(\u001b[0m\u001b[0;34m)\u001b[0m\u001b[0;34m)\u001b[0m\u001b[0;34m\u001b[0m\u001b[0;34m\u001b[0m\u001b[0m\n",
      "\u001b[0;31mNameError\u001b[0m: name 'vocabulary' is not defined"
     ]
    }
   ],
   "source": [
    "original_vocabulary = set(vocabulary.keys())\n",
    "new_vocabulary = set(new_vectorizer.vocabulary_.keys())"
   ]
  },
  {
   "cell_type": "markdown",
   "metadata": {},
   "source": [
    "We can look at the words that were in the original vocabulary but not in the new vocabulary."
   ]
  },
  {
   "cell_type": "code",
   "execution_count": null,
   "metadata": {},
   "outputs": [],
   "source": [
    "print(original_vocabulary - new_vocabulary)"
   ]
  },
  {
   "cell_type": "markdown",
   "metadata": {},
   "source": [
    "And similarly, we can look at the words that are in the new vocabulary but which were not in the original vocabulary."
   ]
  },
  {
   "cell_type": "code",
   "execution_count": null,
   "metadata": {},
   "outputs": [],
   "source": [
    "print(new_vocabulary - original_vocabulary)"
   ]
  },
  {
   "cell_type": "markdown",
   "metadata": {},
   "source": [
    "These words themselves don't tell us much, however if one of these words occured with a large frequency, that might tell us something. In particular, we wouldn't really expect any of the words above to appear with too much frequency.\n",
    "\n",
    "**Question** What exactly is going on here. Not only what (if any) words appear with a larger than expected frequency but also, what does this mean? What has changed about the world that our original model no longer takes into account?\n",
    "\n",
    "**NOTE:** This is meant to be a very open ended question. To investigate you may need more cells than the one provided below. Also, there isn't really a *correct* answer, this is meant to be an opportunity to explore the data."
   ]
  },
  {
   "cell_type": "code",
   "execution_count": null,
   "metadata": {},
   "outputs": [],
   "source": []
  },
  {
   "cell_type": "markdown",
   "metadata": {},
   "source": [
    "### (TODO) Build a new model\n",
    "\n",
    "Supposing that we believe something has changed about the underlying distribution of the words that our reviews are made up of, we need to create a new model. This way our new model will take into account whatever it is that has changed.\n",
    "\n",
    "To begin with, we will use the new vocabulary to create a bag of words encoding of the new data. We will then use this data to train a new XGBoost model.\n",
    "\n",
    "**NOTE:** Because we believe that the underlying distribution of words has changed it should follow that the original vocabulary that we used to construct a bag of words encoding of the reviews is no longer valid. This means that we need to be careful with our data. If we send an bag of words encoded review using the *original* vocabulary we should not expect any sort of meaningful results.\n",
    "\n",
    "In particular, this means that if we had deployed our XGBoost model like we did in the Web App notebook then we would need to implement this vocabulary change in the Lambda function as well."
   ]
  },
  {
   "cell_type": "code",
   "execution_count": null,
   "metadata": {},
   "outputs": [],
   "source": [
    "new_XV = new_vectorizer.transform(new_X).toarray()"
   ]
  },
  {
   "cell_type": "markdown",
   "metadata": {},
   "source": [
    "And a quick check to make sure that the newly encoded reviews have the correct length, which should be the size of the new vocabulary which we created."
   ]
  },
  {
   "cell_type": "code",
   "execution_count": null,
   "metadata": {},
   "outputs": [],
   "source": [
    "len(new_XV[0])"
   ]
  },
  {
   "cell_type": "markdown",
   "metadata": {},
   "source": [
    "Now that we have our newly encoded, newly collected data, we can split it up into a training and validation set so that we can train a new XGBoost model. As usual, we first split up the data, then save it locally and then upload it to S3."
   ]
  },
  {
   "cell_type": "code",
   "execution_count": null,
   "metadata": {},
   "outputs": [],
   "source": [
    "import pandas as pd\n",
    "\n",
    "# Earlier we shuffled the training dataset so to make things simple we can just assign\n",
    "# the first 10 000 reviews to the validation set and use the remaining reviews for training.\n",
    "new_val_X = pd.DataFrame(new_XV[:10000])\n",
    "new_train_X = pd.DataFrame(new_XV[10000:])\n",
    "\n",
    "new_val_y = pd.DataFrame(new_Y[:10000])\n",
    "new_train_y = pd.DataFrame(new_Y[10000:])"
   ]
  },
  {
   "cell_type": "markdown",
   "metadata": {},
   "source": [
    "In order to save some memory we will effectively delete the `new_X` variable. Remember that this contained a list of reviews and each review was a list of words. Note that once this cell has been executed you will need to read the new data in again if you want to work with it."
   ]
  },
  {
   "cell_type": "code",
   "execution_count": null,
   "metadata": {},
   "outputs": [],
   "source": [
    "new_X = None"
   ]
  },
  {
   "cell_type": "markdown",
   "metadata": {},
   "source": [
    "Next we save the new training and validation sets locally. Note that we overwrite the training and validation sets used earlier. This is mostly because the amount of space that we have available on our notebook instance is limited. Of course, you can increase this if you'd like but to do so may increase the cost of running the notebook instance."
   ]
  },
  {
   "cell_type": "code",
   "execution_count": null,
   "metadata": {},
   "outputs": [],
   "source": [
    "pd.DataFrame(new_XV).to_csv(os.path.join(data_dir, 'new_data.csv'), header=False, index=False)\n",
    "\n",
    "pd.concat([new_val_y, new_val_X], axis=1).to_csv(os.path.join(data_dir, 'new_validation.csv'), header=False, index=False)\n",
    "pd.concat([new_train_y, new_train_X], axis=1).to_csv(os.path.join(data_dir, 'new_train.csv'), header=False, index=False)"
   ]
  },
  {
   "cell_type": "markdown",
   "metadata": {},
   "source": [
    "Now that we've saved our data to the local instance, we can safely delete the variables to save on memory."
   ]
  },
  {
   "cell_type": "code",
   "execution_count": null,
   "metadata": {},
   "outputs": [],
   "source": [
    "new_val_y = new_val_X = new_train_y = new_train_X = new_XV = None"
   ]
  },
  {
   "cell_type": "markdown",
   "metadata": {},
   "source": [
    "Lastly, we make sure to upload the new training and validation sets to S3.\n",
    "\n",
    "**TODO:** Upload the new data as well as the new training and validation data sets to S3."
   ]
  },
  {
   "cell_type": "code",
   "execution_count": null,
   "metadata": {},
   "outputs": [],
   "source": [
    "# TODO: Upload the new data and the new validation.csv and train.csv files in the data_dir directory to S3.\n",
    "new_data_location = None\n",
    "new_val_location = None\n",
    "new_train_location = None"
   ]
  },
  {
   "cell_type": "markdown",
   "metadata": {},
   "source": [
    "Once our new training data has been uploaded to S3, we can create a new XGBoost model that will take into account the changes that have occured in our data set.\n",
    "\n",
    "**TODO:** Create a new XGBoost estimator object."
   ]
  },
  {
   "cell_type": "code",
   "execution_count": null,
   "metadata": {},
   "outputs": [],
   "source": [
    "# TODO: First, create a SageMaker estimator object for our model.\n",
    "new_xgb = None\n",
    "\n",
    "# TODO: Then set the algorithm specific parameters. You may wish to use the same parameters that were\n",
    "#       used when training the original model.\n"
   ]
  },
  {
   "cell_type": "markdown",
   "metadata": {},
   "source": [
    "Once the model has been created, we can train it with our new data.\n",
    "\n",
    "**TODO:** Train the new XGBoost model."
   ]
  },
  {
   "cell_type": "code",
   "execution_count": null,
   "metadata": {},
   "outputs": [],
   "source": [
    "# TODO: First, make sure that you create s3 input objects so that SageMaker knows where to\n",
    "#       find the training and validation data.\n",
    "s3_new_input_train = None\n",
    "s3_new_input_validation = None"
   ]
  },
  {
   "cell_type": "code",
   "execution_count": null,
   "metadata": {},
   "outputs": [],
   "source": [
    "# TODO: Using the new validation and training data, 'fit' your new model.\n"
   ]
  },
  {
   "cell_type": "markdown",
   "metadata": {},
   "source": [
    "### (TODO) Check the new model\n",
    "\n",
    "So now we have a new XGBoost model that we believe more accurately represents the state of the world at this time, at least in how it relates to the sentiment analysis problem that we are working on. The next step is to double check that our model is performing reasonably.\n",
    "\n",
    "To do this, we will first test our model on the new data.\n",
    "\n",
    "**Note:** In practice this is a pretty bad idea. We already trained our model on the new data, so testing it shouldn't really tell us much. In fact, this is sort of a textbook example of leakage. We are only doing it here so that we have a numerical baseline.\n",
    "\n",
    "**Question:** How might you address the leakage problem?"
   ]
  },
  {
   "cell_type": "markdown",
   "metadata": {},
   "source": [
    "First, we create a new transformer based on our new XGBoost model.\n",
    "\n",
    "**TODO:** Create a transformer object from the newly created XGBoost model."
   ]
  },
  {
   "cell_type": "code",
   "execution_count": null,
   "metadata": {},
   "outputs": [],
   "source": [
    "# TODO: Create a transformer object from the new_xgb model\n",
    "new_xgb_transformer = None"
   ]
  },
  {
   "cell_type": "markdown",
   "metadata": {},
   "source": [
    "Next we test our model on the new data.\n",
    "\n",
    "**TODO:** Use the transformer object to transform the new data (stored in the `new_data_location` variable)"
   ]
  },
  {
   "cell_type": "code",
   "execution_count": null,
   "metadata": {},
   "outputs": [],
   "source": [
    "# TODO: Using new_xgb_transformer, transform the new_data_location data. You may wish to\n",
    "#       'wait' for the transform job to finish.\n"
   ]
  },
  {
   "cell_type": "markdown",
   "metadata": {},
   "source": [
    "Copy the results to our local instance."
   ]
  },
  {
   "cell_type": "code",
   "execution_count": null,
   "metadata": {},
   "outputs": [],
   "source": [
    "!aws s3 cp --recursive $new_xgb_transformer.output_path $data_dir"
   ]
  },
  {
   "cell_type": "markdown",
   "metadata": {},
   "source": [
    "And see how well the model did."
   ]
  },
  {
   "cell_type": "code",
   "execution_count": null,
   "metadata": {},
   "outputs": [],
   "source": [
    "predictions = pd.read_csv(os.path.join(data_dir, 'new_data.csv.out'), header=None)\n",
    "predictions = [round(num) for num in predictions.squeeze().values]"
   ]
  },
  {
   "cell_type": "code",
   "execution_count": null,
   "metadata": {},
   "outputs": [],
   "source": [
    "accuracy_score(new_Y, predictions)"
   ]
  },
  {
   "cell_type": "markdown",
   "metadata": {},
   "source": [
    "As expected, since we trained the model on this data, our model performs pretty well. So, we have reason to believe that our new XGBoost model is a \"better\" model.\n",
    "\n",
    "However, before we start changing our deployed model, we should first make sure that our new model isn't too different. In other words, if our new model performed really poorly on the original test data then this might be an indication that something else has gone wrong.\n",
    "\n",
    "To start with, since we got rid of the variable that stored the original test reviews, we will read them in again from the cache that we created in Step 3. Note that we need to make sure that we read in the original test data after it has been pre-processed with `nltk` but before it has been bag of words encoded. This is because we need to use the new vocabulary instead of the original one."
   ]
  },
  {
   "cell_type": "code",
   "execution_count": null,
   "metadata": {},
   "outputs": [],
   "source": [
    "cache_data = None\n",
    "with open(os.path.join(cache_dir, \"preprocessed_data.pkl\"), \"rb\") as f:\n",
    "            cache_data = pickle.load(f)\n",
    "            print(\"Read preprocessed data from cache file:\", \"preprocessed_data.pkl\")\n",
    "            \n",
    "test_X = cache_data['words_test']\n",
    "test_Y = cache_data['labels_test']\n",
    "\n",
    "# Here we set cache_data to None so that it doesn't occupy memory\n",
    "cache_data = None"
   ]
  },
  {
   "cell_type": "markdown",
   "metadata": {},
   "source": [
    "Once we've loaded the original test reviews, we need to create a bag of words encoding of them using the new vocabulary that we created, based on the new data.\n",
    "\n",
    "**TODO:** Transform the original test data using the new vocabulary."
   ]
  },
  {
   "cell_type": "code",
   "execution_count": null,
   "metadata": {},
   "outputs": [],
   "source": [
    "# TODO: Use the new_vectorizer object that you created earlier to transform the test_X data.\n",
    "test_X = None"
   ]
  },
  {
   "cell_type": "markdown",
   "metadata": {},
   "source": [
    "Now that we have correctly encoded the original test data, we can write it to the local instance, upload it to S3 and test it."
   ]
  },
  {
   "cell_type": "code",
   "execution_count": null,
   "metadata": {},
   "outputs": [],
   "source": [
    "pd.DataFrame(test_X).to_csv(os.path.join(data_dir, 'test.csv'), header=False, index=False)"
   ]
  },
  {
   "cell_type": "code",
   "execution_count": null,
   "metadata": {},
   "outputs": [],
   "source": [
    "test_location = session.upload_data(os.path.join(data_dir, 'test.csv'), key_prefix=prefix)"
   ]
  },
  {
   "cell_type": "code",
   "execution_count": null,
   "metadata": {},
   "outputs": [],
   "source": [
    "new_xgb_transformer.transform(test_location, content_type='text/csv', split_type='Line')\n",
    "new_xgb_transformer.wait()"
   ]
  },
  {
   "cell_type": "code",
   "execution_count": null,
   "metadata": {},
   "outputs": [],
   "source": [
    "!aws s3 cp --recursive $new_xgb_transformer.output_path $data_dir"
   ]
  },
  {
   "cell_type": "code",
   "execution_count": null,
   "metadata": {},
   "outputs": [],
   "source": [
    "predictions = pd.read_csv(os.path.join(data_dir, 'test.csv.out'), header=None)\n",
    "predictions = [round(num) for num in predictions.squeeze().values]"
   ]
  },
  {
   "cell_type": "code",
   "execution_count": null,
   "metadata": {},
   "outputs": [],
   "source": [
    "accuracy_score(test_Y, predictions)"
   ]
  },
  {
   "cell_type": "markdown",
   "metadata": {},
   "source": [
    "It would appear that our new XGBoost model is performing quite well on the old test data. This gives us some indication that our new model should be put into production and replace our original model."
   ]
  },
  {
   "cell_type": "markdown",
   "metadata": {},
   "source": [
    "## Step 6: (TODO) Updating the Model\n",
    "\n",
    "So we have a new model that we'd like to use instead of one that is already deployed. Furthermore, we are assuming that the model that is already deployed is being used in some sort of application. As a result, what we want to do is update the existing endpoint so that it uses our new model.\n",
    "\n",
    "Of course, to do this we need to create an endpoint configuration for our newly created model.\n",
    "\n",
    "First, note that we can access the name of the model that we created above using the `model_name` property of the transformer. The reason for this is that in order for the transformer to create a batch transform job it needs to first create the model object inside of SageMaker. Since we've sort of already done this we should take advantage of it."
   ]
  },
  {
   "cell_type": "code",
   "execution_count": null,
   "metadata": {},
   "outputs": [],
   "source": [
    "new_xgb_transformer.model_name"
   ]
  },
  {
   "cell_type": "markdown",
   "metadata": {},
   "source": [
    "Next, we create an endpoint configuration using the low level approach of creating the dictionary object which describes the endpoint configuration we want.\n",
    "\n",
    "**TODO:** Using the low level approach, create a new endpoint configuration. Don't forget that it needs a name and that the name needs to be unique. If you get stuck, try looking at the Boston Housing Low Level Deployment tutorial notebook."
   ]
  },
  {
   "cell_type": "code",
   "execution_count": null,
   "metadata": {},
   "outputs": [],
   "source": [
    "from time import gmtime, strftime\n",
    "\n",
    "\n",
    "# TODO: Give our endpoint configuration a name. Remember, it needs to be unique.\n",
    "new_xgb_endpoint_config_name = None\n",
    "\n",
    "# TODO: Using the SageMaker Client, construct the endpoint configuration.\n",
    "new_xgb_endpoint_config_info = None"
   ]
  },
  {
   "cell_type": "markdown",
   "metadata": {},
   "source": [
    "Once the endpoint configuration has been constructed, it is a straightforward matter to ask SageMaker to update the existing endpoint so that it uses the new endpoint configuration.\n",
    "\n",
    "Of note here is that SageMaker does this in such a way that there is no downtime. Essentially, SageMaker deploys the new model and then updates the original endpoint so that it points to the newly deployed model. After that, the original model is shut down. This way, whatever app is using our endpoint won't notice that we've changed the model that is being used.\n",
    "\n",
    "**TODO:** Use the SageMaker Client to update the endpoint that you deployed earlier."
   ]
  },
  {
   "cell_type": "code",
   "execution_count": null,
   "metadata": {},
   "outputs": [],
   "source": [
    "# TODO: Update the xgb_predictor.endpoint so that it uses new_xgb_endpoint_config_name.\n"
   ]
  },
  {
   "cell_type": "markdown",
   "metadata": {},
   "source": [
    "And, as is generally the case with SageMaker requests, this is being done in the background so if we want to wait for it to complete we need to call the appropriate method."
   ]
  },
  {
   "cell_type": "code",
   "execution_count": null,
   "metadata": {},
   "outputs": [],
   "source": [
    "session.wait_for_endpoint(xgb_predictor.endpoint)"
   ]
  },
  {
   "cell_type": "markdown",
   "metadata": {},
   "source": [
    "## Step 7: Delete the Endpoint\n",
    "\n",
    "Of course, since we are done with the deployed endpoint we need to make sure to shut it down, otherwise we will continue to be charged for it."
   ]
  },
  {
   "cell_type": "code",
   "execution_count": null,
   "metadata": {},
   "outputs": [],
   "source": [
    "xgb_predictor.delete_endpoint()"
   ]
  },
  {
   "cell_type": "markdown",
   "metadata": {},
   "source": [
    "## Some Additional Questions\n",
    "\n",
    "This notebook is a little different from the other notebooks in this module. In part, this is because it is meant to be a little bit closer to the type of problem you may face in a real world scenario. Of course, this problem is a very easy one with a prescribed solution, but there are many other interesting questions that we did not consider here and that you may wish to consider yourself.\n",
    "\n",
    "For example,\n",
    "- What other ways could the underlying distribution change?\n",
    "- Is it a good idea to re-train the model using only the new data?\n",
    "- What would change if the quantity of new data wasn't large. Say you only received 500 samples?\n"
   ]
  },
  {
   "cell_type": "markdown",
   "metadata": {},
   "source": [
    "## Optional: Clean up\n",
    "\n",
    "The default notebook instance on SageMaker doesn't have a lot of excess disk space available. As you continue to complete and execute notebooks you will eventually fill up this disk space, leading to errors which can be difficult to diagnose. Once you are completely finished using a notebook it is a good idea to remove the files that you created along the way. Of course, you can do this from the terminal or from the notebook hub if you would like. The cell below contains some commands to clean up the created files from within the notebook."
   ]
  },
  {
   "cell_type": "code",
   "execution_count": null,
   "metadata": {},
   "outputs": [],
   "source": [
    "# First we will remove all of the files contained in the data_dir directory\n",
    "!rm $data_dir/*\n",
    "\n",
    "# And then we delete the directory itself\n",
    "!rmdir $data_dir\n",
    "\n",
    "# Similarly we will remove the files in the cache_dir directory and the directory itself\n",
    "!rm $cache_dir/*\n",
    "!rmdir $cache_dir"
   ]
  },
  {
   "cell_type": "code",
   "execution_count": null,
   "metadata": {},
   "outputs": [],
   "source": []
  }
 ],
 "metadata": {
  "kernelspec": {
   "display_name": "conda_pytorch_p36",
   "language": "python",
   "name": "conda_pytorch_p36"
  },
  "language_info": {
   "codemirror_mode": {
    "name": "ipython",
    "version": 3
   },
   "file_extension": ".py",
   "mimetype": "text/x-python",
   "name": "python",
   "nbconvert_exporter": "python",
   "pygments_lexer": "ipython3",
   "version": "3.6.10"
  }
 },
 "nbformat": 4,
 "nbformat_minor": 2
}
